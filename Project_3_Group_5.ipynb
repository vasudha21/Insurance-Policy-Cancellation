{
  "cells": [
    {
      "cell_type": "markdown",
      "metadata": {
        "id": "0_lEuDL4JSNB"
      },
      "source": [
        "# Project: Insurance Policy Cancellation (CC)\n",
        "---------------------------------------------"
      ]
    },
    {
      "cell_type": "markdown",
      "metadata": {
        "id": "NSQWgmi5P5ad"
      },
      "source": [
        "**Dr. Dave Wanik - OPIM 5502: Big Data Analytics using Cloud Computing - University of Connecticut**\n",
        "\n",
        "*This dataset comes from the 2022 NESS Statathon (Theme 1) from 2022. An archived version of the website and related data has been posted on HuskyCT.*"
      ]
    },
    {
      "cell_type": "markdown",
      "source": [
        "Team Members:\n",
        "\n",
        "**Member 1 - Shailesh Yadav (sry22001)**\n",
        "\n",
        "**Member 2 - Vasudha Mishra (vam22009)**"
      ],
      "metadata": {
        "id": "fs-Z6CHeHqQN"
      }
    },
    {
      "cell_type": "markdown",
      "metadata": {
        "id": "gwjL6cYoI4Va"
      },
      "source": [
        "**Challenge:** Using historical policy data, create a multiclass predictive model to predict the policies that are most likely to be canceled and those most likely to be renewed, as well as understand what variables are most influential in causing a policy cancellation. \n",
        "\n",
        "For this theme, there are true answers, and a team should focus on proposing the best predictive model. The performance of a team will be mainly based on the predictive performance of the propose method measured by accuracy and the quality of the code. You can use Python's weighted F1 score to calculate the performance of for your model on the test partition.\n",
        "  * Make sure you use the 'weighted' F1 score\n",
        "    * https://scikit-learn.org/stable/modules/generated/sklearn.metrics.f1_score.html"
      ]
    },
    {
      "cell_type": "markdown",
      "metadata": {
        "id": "ACRLrWJPPhDD"
      },
      "source": [
        "# Dataset Description\n",
        "The Kangaroo data set is based on 4 years of property insurance policies from 2013 to 2017. There are roughly 1 million policies in the training data and each policy only has one observation. There were almost 230,000 policies canceled during the effective term. Your work is to build a model on the training data and use your best model to predict the cancelation indicator for each policy in test data.\n",
        "\n",
        "Variable descriptions\n",
        "* id - Policy id (cannot be used in model)\n",
        "* tenure - Number of years with Kangaroo\n",
        "* claim.ind - Occurrence of claim (0=no, 1=yes)\n",
        "* n.adults - Number of adults in the property\n",
        "* n.children - Number of children in the property\n",
        "* ni.gender - Gender of policyholder\n",
        "* ni.marital.status - Marital status of policyholder (0=no, 1=yes)\n",
        "* premium - Price of the policy\n",
        "* sales.channel - Medium through which policy was purchased\n",
        "* coverage.type - Type of coverage\n",
        "* dwelling.type - Type of dwelling\n",
        "* len.at.res - Length at residence (how long policyholder lived at property)\n",
        "* credit - Financial credit level of policyholder\n",
        "* house.color - Color of house\n",
        "* ni.age - Age of policholder\n",
        "* year - Year of the policy\n",
        "* zip.code - Zip code of the property\n",
        "* cancel - cancelation indicator (0=not cancel, 1=may cancel but can be convinced, 2=cancel). **This is the response variable.** Dave is deleting the rows where `cancel==-1`!"
      ]
    },
    {
      "cell_type": "markdown",
      "metadata": {
        "id": "Ka8lEsJMKh_5"
      },
      "source": [
        "The train and test files have also been made available to students for modeling on HuskyCT."
      ]
    },
    {
      "cell_type": "markdown",
      "metadata": {
        "id": "cILTYnnPIZsk"
      },
      "source": [
        "# Rubric\n",
        "The submitted notebook will serve as both a form of model documentation and business communication - there should be lots of text cells and comments and a nice presentation of your work! \n",
        "\n",
        "🟥 You may use your own local environment, Colab or Databricks to do your modeling, but you must submit your final .ipynb file for grading!\n",
        "\n",
        "🟥 I expect most of this notebook to be completed with PySpark code with limited `toPandas()` statements - the one exception to this is your model evaluation section where you can convert to pandas so that you can use `sklearn` classification report and confusion matrix if you would like to.\n",
        "\n",
        "## EDA, data cleaning and feature engineering (20 points)\n",
        "* `X_train`, `X_test`, `y_train`, and `y_test` has been provided to all students.\n",
        "  * Any team who does not do this automatically goes into last place - more below!\n",
        "* Explore the data and clean it up as you see fit - make sure you `fit_transform()` on the training data and `transform()` on the test data.\n",
        "  * Any team that has data leakage automatically goes into last place!\n",
        "* Make five meaningful plots and five meaningful tables (most be deeper than simpler univariate plots - we want you to really explore the problem at hand and use this information to make a better model!)\n",
        "* It is up to you whether or not you want to curate the training dataset to get a better fit on the test dataset (for example, if you would like to use some sampling strategy like oversampling, that's great - just remember that you DON'T change the distribution of the target variable in the test partition.)\n",
        "\n",
        "## Modeling (20 points)\n",
        "* You may perform your modeling in a different notebook (to be submitted as an appendix), but you must run your final and BEST model here and all output must be displayed.\n",
        "  * It's up to you to decide what the best pre-processing steps should be!\n",
        "\n",
        "## Model Results (20 points)\n",
        "* Classification report and confusion report for train and test partition.\n",
        "  * You may use cross-validation to help pick the optimal hyperparameters for your model.\n",
        "* Even though this was for text analytics, I thought it was still very well-done, it could be a good resource for you:\n",
        "  * https://ashokpalivela.medium.com/multi-class-text-classification-using-spark-ml-in-python-b8d2a6545cb\n",
        "\n",
        "## Interpretability and Discussion (30 points)\n",
        "Remember - we want to know what is driving cancellations! It's not enough to build an amazing model, you have to inspect it and explain how it made its decision. \n",
        "\n",
        "* If your best model is a logistic regression, print the coefficients and interpret them!\n",
        "  * Check the textbook and class materials for a nice example.\n",
        "* If your best model is a tree-based model, you can get the importances from the PySpark models!\n",
        "  * https://spark.apache.org/docs/latest/api/python/reference/api/pyspark.ml.classification.DecisionTreeClassifier.html\n",
        "  * https://spark.apache.org/docs/latest/api/python/reference/api/pyspark.ml.classification.RandomForestClassificationModel.html#pyspark.ml.classification.RandomForestClassificationModel.featureImportances\n",
        "* If you used a different model than a logistic regression or tree-based model, it's up to you to determine to best show how your model made its decision. On your own, you may want to consider partial dependence (ask Dave for help early if you want to do this):\n",
        "  * https://gist.github.com/eddjberry/43ceca3d29905781ab6c8dab07e8e1da\n",
        "*  Use your model results and interpretability items to present what variables are most influential in causing a policy cancellation.\n",
        "  * We are looking for each team to provide a business recommendation based on the results of your model! We will take off substantial points if there is not a well-written and cohesive presentation of results.\n",
        "\n",
        "## Conclusions (10 points)\n",
        "* Write five meaningful bullets (each bullet should be at least two sentences long) describing what you learned.\n",
        "\n",
        "## 🛷 Sliding grading scale\n",
        "* You are in direct competition with every other group in the class!\n",
        "* I expect everything in this notebook to be of sufficient quality - well-organized with lots of comments and cleaned up nice for presentation to management. I will deduct substantial points if this is just my code copy/pasted without any deep analysis.\n",
        "* Your 'starting grades' will range from an 80 to a 100 based on model F1 score for the TEST PARTITION (you can use the `F1 score` function from sci-kit learn to evaluate the final model.) \n",
        "* Of course, if something is missing from the above rubric, we will deduct points from your starting grade. \n",
        "  * If you came in first place and lost 10 points somewhere, your final grade is 100 - 10 = 90\n",
        "  * If you came in last place (for accuracy) and lost 10 points somewhere, your final grade is 80 - 10 = 70.\n"
      ]
    },
    {
      "cell_type": "markdown",
      "metadata": {
        "id": "F84EnR7OAYt_"
      },
      "source": [
        "# Install Spark"
      ]
    },
    {
      "cell_type": "code",
      "execution_count": 2,
      "metadata": {
        "colab": {
          "base_uri": "https://localhost:8080/"
        },
        "id": "--EMPSDRAWmE",
        "outputId": "9ae7f4c5-540a-4647-9226-8511abd7b82f"
      },
      "outputs": [
        {
          "output_type": "stream",
          "name": "stdout",
          "text": [
            "Looking in indexes: https://pypi.org/simple, https://us-python.pkg.dev/colab-wheels/public/simple/\n",
            "Collecting pyspark\n",
            "  Downloading pyspark-3.4.0.tar.gz (310.8 MB)\n",
            "\u001b[2K     \u001b[90m━━━━━━━━━━━━━━━━━━━━━━━━━━━━━━━━━━━━━━━\u001b[0m \u001b[32m310.8/310.8 MB\u001b[0m \u001b[31m4.7 MB/s\u001b[0m eta \u001b[36m0:00:00\u001b[0m\n",
            "\u001b[?25h  Preparing metadata (setup.py) ... \u001b[?25l\u001b[?25hdone\n",
            "Requirement already satisfied: py4j==0.10.9.7 in /usr/local/lib/python3.10/dist-packages (from pyspark) (0.10.9.7)\n",
            "Building wheels for collected packages: pyspark\n",
            "  Building wheel for pyspark (setup.py) ... \u001b[?25l\u001b[?25hdone\n",
            "  Created wheel for pyspark: filename=pyspark-3.4.0-py2.py3-none-any.whl size=311317145 sha256=46106d4c4821859069a4270664f12c700aef55a11ea15cbdde7c794309cc5da6\n",
            "  Stored in directory: /root/.cache/pip/wheels/7b/1b/4b/3363a1d04368e7ff0d408e57ff57966fcdf00583774e761327\n",
            "Successfully built pyspark\n",
            "Installing collected packages: pyspark\n",
            "Successfully installed pyspark-3.4.0\n"
          ]
        }
      ],
      "source": [
        "!pip install pyspark"
      ]
    },
    {
      "cell_type": "markdown",
      "metadata": {
        "id": "HRUf1KjgAf4O"
      },
      "source": [
        "#Start Spark Session"
      ]
    },
    {
      "cell_type": "code",
      "execution_count": 3,
      "metadata": {
        "id": "w7sgAhLCAh6h"
      },
      "outputs": [],
      "source": [
        "# Create a PySpark Session\n",
        "from pyspark.sql import SparkSession\n",
        "spark = SparkSession.builder\\\n",
        "        .appName(\"Project3\")\\\n",
        "        .getOrCreate()  "
      ]
    },
    {
      "cell_type": "code",
      "execution_count": 4,
      "metadata": {
        "id": "IEgqTS9aAnAA"
      },
      "outputs": [],
      "source": [
        "# some useful functions\n",
        "import pyspark.sql.functions as F\n",
        "import pyspark.sql.types as T\n",
        "\n",
        "from pyspark.ml.feature import  OneHotEncoder\n",
        "from pyspark.ml.feature import StringIndexer, VectorAssembler\n",
        "from pyspark.ml.functions import vector_to_array\n",
        "from pyspark.sql.types import StructType, StructField, StringType\n",
        "\n",
        "from pyspark.ml.stat import Correlation\n",
        "from pyspark.ml import Pipeline\n",
        "\n",
        "from pyspark.mllib.evaluation import MulticlassMetrics\n",
        "import matplotlib.pyplot as plt\n",
        "import seaborn as sns\n",
        "\n",
        "import pandas as pd\n",
        "import numpy as np"
      ]
    },
    {
      "cell_type": "code",
      "execution_count": 5,
      "metadata": {
        "colab": {
          "base_uri": "https://localhost:8080/"
        },
        "id": "qtRE48zhAqqp",
        "outputId": "aed16261-e851-4cdb-f7c2-15e420595629"
      },
      "outputs": [
        {
          "output_type": "stream",
          "name": "stdout",
          "text": [
            "Mounted at /content/drive\n"
          ]
        }
      ],
      "source": [
        "# mount your Drive and update your Path\n",
        "from google.colab import drive\n",
        "drive.mount('/content/drive')"
      ]
    },
    {
      "cell_type": "code",
      "source": [
        "# This will help us create States from zip codes\n",
        "!pip install uszipcode"
      ],
      "metadata": {
        "id": "JXpe2uWgY5P-",
        "colab": {
          "base_uri": "https://localhost:8080/"
        },
        "outputId": "0b32d006-5c8d-4b8a-bfe9-9fe0912ff67e"
      },
      "execution_count": 6,
      "outputs": [
        {
          "output_type": "stream",
          "name": "stdout",
          "text": [
            "Looking in indexes: https://pypi.org/simple, https://us-python.pkg.dev/colab-wheels/public/simple/\n",
            "Collecting uszipcode\n",
            "  Downloading uszipcode-1.0.1-py2.py3-none-any.whl (35 kB)\n",
            "Requirement already satisfied: SQLAlchemy>=1.4.0 in /usr/local/lib/python3.10/dist-packages (from uszipcode) (2.0.10)\n",
            "Collecting atomicwrites\n",
            "  Downloading atomicwrites-1.4.1.tar.gz (14 kB)\n",
            "  Preparing metadata (setup.py) ... \u001b[?25l\u001b[?25hdone\n",
            "Collecting sqlalchemy-mate>=1.4.28.3\n",
            "  Downloading sqlalchemy_mate-1.4.28.4-py2.py3-none-any.whl (77 kB)\n",
            "\u001b[2K     \u001b[90m━━━━━━━━━━━━━━━━━━━━━━━━━━━━━━━━━━━━━━━━\u001b[0m \u001b[32m77.1/77.1 kB\u001b[0m \u001b[31m10.3 MB/s\u001b[0m eta \u001b[36m0:00:00\u001b[0m\n",
            "\u001b[?25hCollecting pathlib-mate\n",
            "  Downloading pathlib_mate-1.2.1-py2.py3-none-any.whl (121 kB)\n",
            "\u001b[2K     \u001b[90m━━━━━━━━━━━━━━━━━━━━━━━━━━━━━━━━━━━━━━\u001b[0m \u001b[32m121.5/121.5 kB\u001b[0m \u001b[31m19.0 MB/s\u001b[0m eta \u001b[36m0:00:00\u001b[0m\n",
            "\u001b[?25hCollecting fuzzywuzzy\n",
            "  Downloading fuzzywuzzy-0.18.0-py2.py3-none-any.whl (18 kB)\n",
            "Requirement already satisfied: requests in /usr/local/lib/python3.10/dist-packages (from uszipcode) (2.27.1)\n",
            "Requirement already satisfied: attrs in /usr/local/lib/python3.10/dist-packages (from uszipcode) (23.1.0)\n",
            "Collecting haversine>=2.5.0\n",
            "  Downloading haversine-2.8.0-py2.py3-none-any.whl (7.7 kB)\n",
            "Requirement already satisfied: typing-extensions>=4.2.0 in /usr/local/lib/python3.10/dist-packages (from SQLAlchemy>=1.4.0->uszipcode) (4.5.0)\n",
            "Requirement already satisfied: greenlet!=0.4.17 in /usr/local/lib/python3.10/dist-packages (from SQLAlchemy>=1.4.0->uszipcode) (2.0.2)\n",
            "Requirement already satisfied: prettytable in /usr/local/lib/python3.10/dist-packages (from sqlalchemy-mate>=1.4.28.3->uszipcode) (0.7.2)\n",
            "Collecting SQLAlchemy>=1.4.0\n",
            "  Downloading SQLAlchemy-1.4.47-cp310-cp310-manylinux_2_5_x86_64.manylinux1_x86_64.manylinux_2_17_x86_64.manylinux2014_x86_64.whl (1.6 MB)\n",
            "\u001b[2K     \u001b[90m━━━━━━━━━━━━━━━━━━━━━━━━━━━━━━━━━━━━━━━━\u001b[0m \u001b[32m1.6/1.6 MB\u001b[0m \u001b[31m67.3 MB/s\u001b[0m eta \u001b[36m0:00:00\u001b[0m\n",
            "\u001b[?25hRequirement already satisfied: six in /usr/local/lib/python3.10/dist-packages (from pathlib-mate->uszipcode) (1.16.0)\n",
            "Requirement already satisfied: idna<4,>=2.5 in /usr/local/lib/python3.10/dist-packages (from requests->uszipcode) (3.4)\n",
            "Requirement already satisfied: charset-normalizer~=2.0.0 in /usr/local/lib/python3.10/dist-packages (from requests->uszipcode) (2.0.12)\n",
            "Requirement already satisfied: urllib3<1.27,>=1.21.1 in /usr/local/lib/python3.10/dist-packages (from requests->uszipcode) (1.26.15)\n",
            "Requirement already satisfied: certifi>=2017.4.17 in /usr/local/lib/python3.10/dist-packages (from requests->uszipcode) (2022.12.7)\n",
            "Building wheels for collected packages: atomicwrites\n",
            "  Building wheel for atomicwrites (setup.py) ... \u001b[?25l\u001b[?25hdone\n",
            "  Created wheel for atomicwrites: filename=atomicwrites-1.4.1-py2.py3-none-any.whl size=6955 sha256=13efb7906659a8226c57bdb95d858f785dd6f0e704148126fb3cfc43ad3ff823\n",
            "  Stored in directory: /root/.cache/pip/wheels/34/07/0b/33b15f68736109f72ea0bb2499521d87312b932620737447a2\n",
            "Successfully built atomicwrites\n",
            "Installing collected packages: fuzzywuzzy, SQLAlchemy, haversine, atomicwrites, sqlalchemy-mate, pathlib-mate, uszipcode\n",
            "  Attempting uninstall: SQLAlchemy\n",
            "    Found existing installation: SQLAlchemy 2.0.10\n",
            "    Uninstalling SQLAlchemy-2.0.10:\n",
            "      Successfully uninstalled SQLAlchemy-2.0.10\n",
            "Successfully installed SQLAlchemy-1.4.47 atomicwrites-1.4.1 fuzzywuzzy-0.18.0 haversine-2.8.0 pathlib-mate-1.2.1 sqlalchemy-mate-1.4.28.4 uszipcode-1.0.1\n"
          ]
        }
      ]
    },
    {
      "cell_type": "markdown",
      "metadata": {
        "id": "mkIdgbj8Aq99"
      },
      "source": [
        "#Read the Data"
      ]
    },
    {
      "cell_type": "code",
      "execution_count": 7,
      "metadata": {
        "id": "-0o1dZg_A7A_"
      },
      "outputs": [],
      "source": [
        "# Read the file\n",
        "df_train = spark.read.csv('/content/drive/MyDrive/Big_Data/project 3/train_df_simple.csv', header=True)"
      ]
    },
    {
      "cell_type": "code",
      "execution_count": 7,
      "metadata": {
        "colab": {
          "base_uri": "https://localhost:8080/"
        },
        "id": "d3Dsm7RVaGun",
        "outputId": "a0ecc3b5-d83f-457f-ff56-a241d52dd1cf"
      },
      "outputs": [
        {
          "output_type": "stream",
          "name": "stdout",
          "text": [
            "+-------+----+--------+-----------+------+----------+------+-------------+-------------+-----------------+-------------+---------+-----------------+--------+----------+------+---------+------+\n",
            "|id     |year|zip.code|house.color|ni.age|len.at.res|credit|coverage.type|dwelling.type|premium          |sales.channel|ni.gender|ni.marital.status|n.adults|n.children|tenure|claim.ind|cancel|\n",
            "+-------+----+--------+-----------+------+----------+------+-------------+-------------+-----------------+-------------+---------+-----------------+--------+----------+------+---------+------+\n",
            "|688609 |2016|50001.0 |white      |44.0  |25.0      |high  |A            |Condo        |950.7386189      |Broker       |F        |1.0              |3.0     |0.0       |17.0  |0.0      |0     |\n",
            "|308155 |2015|50048.0 |yellow     |31.0  |22.0      |high  |B            |Tenant       |1003.420558      |Broker       |M        |0.0              |2.0     |0.0       |8.0   |1.0      |0     |\n",
            "|240486 |2015|98034.0 |white      |39.0  |17.0      |low   |C            |House        |822.5538692000001|Phone        |M        |1.0              |3.0     |0.0       |8.0   |0.0      |0     |\n",
            "|629942 |2013|98022.0 |white      |37.0  |22.0      |high  |B            |House        |827.0485096      |Phone        |F        |1.0              |1.0     |2.0       |16.0  |0.0      |0     |\n",
            "|532682 |2013|80011.0 |red        |39.0  |13.0      |medium|C            |Condo        |706.7646465      |Broker       |F        |1.0              |1.0     |0.0       |14.0  |0.0      |0     |\n",
            "|414845 |2015|50047.0 |white      |26.0  |14.0      |high  |C            |House        |999.6689768      |Broker       |M        |1.0              |4.0     |1.0       |4.0   |0.0      |0     |\n",
            "|717963 |2015|50012.0 |blue       |36.0  |17.0      |high  |A            |Tenant       |881.7901489      |Phone        |F        |1.0              |2.0     |1.0       |2.0   |1.0      |0     |\n",
            "|504339 |2015|50008.0 |white      |37.0  |12.0      |medium|A            |Tenant       |824.6881802999999|Broker       |F        |0.0              |4.0     |0.0       |0.0   |0.0      |0     |\n",
            "|982865 |2015|50039.0 |red        |47.0  |12.0      |high  |C            |House        |824.1878299      |Broker       |M        |1.0              |1.0     |3.0       |18.0  |1.0      |0     |\n",
            "|34431  |2015|85011.0 |white      |29.0  |6.0       |high  |A            |Condo        |1041.867835      |Broker       |F        |1.0              |1.0     |0.0       |6.0   |0.0      |0     |\n",
            "|443508 |2014|15054.0 |red        |61.0  |8.0       |high  |A            |House        |824.6099092999999|Broker       |M        |1.0              |1.0     |1.0       |23.0  |0.0      |0     |\n",
            "|970618 |2016|15009.0 |blue       |42.0  |19.0      |high  |C            |House        |882.0434817      |Phone        |M        |0.0              |2.0     |1.0       |14.0  |0.0      |0     |\n",
            "|652399 |2016|80014.0 |red        |33.0  |13.0      |low   |C            |Condo        |902.3094373      |Broker       |F        |0.0              |1.0     |0.0       |6.0   |1.0      |0     |\n",
            "|123186 |2013|80002.0 |blue       |53.0  |13.0      |medium|B            |House        |767.0643712      |Broker       |M        |1.0              |3.0     |1.0       |15.0  |0.0      |0     |\n",
            "|215207 |2014|80016.0 |white      |49.0  |12.0      |low   |A            |Tenant       |965.7790739      |Broker       |M        |1.0              |3.0     |1.0       |19.0  |0.0      |0     |\n",
            "|1036498|2015|15043.0 |blue       |62.0  |14.0      |high  |A            |Condo        |914.6389207999998|Broker       |M        |0.0              |2.0     |0.0       |12.0  |0.0      |0     |\n",
            "|648594 |2014|85044.0 |blue       |47.0  |21.0      |low   |A            |Condo        |790.2149754      |Broker       |M        |1.0              |1.0     |1.0       |14.0  |0.0      |0     |\n",
            "|550200 |2015|85030.0 |blue       |27.0  |25.0      |medium|A            |House        |942.5149163      |Phone        |F        |0.0              |1.0     |0.0       |7.0   |0.0      |0     |\n",
            "|613401 |2016|15056.0 |blue       |51.0  |14.0      |medium|B            |House        |726.7544091      |Broker       |M        |0.0              |2.0     |0.0       |22.0  |0.0      |0     |\n",
            "|1008646|2016|15050.0 |white      |46.0  |10.0      |high  |A            |Tenant       |990.864223       |Phone        |null     |1.0              |3.0     |2.0       |15.0  |0.0      |0     |\n",
            "+-------+----+--------+-----------+------+----------+------+-------------+-------------+-----------------+-------------+---------+-----------------+--------+----------+------+---------+------+\n",
            "only showing top 20 rows\n",
            "\n"
          ]
        }
      ],
      "source": [
        "# Let's check our train dataframe\n",
        "df_train.show(truncate=False)"
      ]
    },
    {
      "cell_type": "code",
      "execution_count": 8,
      "metadata": {
        "id": "v8CAcr5kZyoU"
      },
      "outputs": [],
      "source": [
        "# Read the file\n",
        "df_test = spark.read.csv('/content/drive/MyDrive/Big_Data/project 3/test_df.csv', header = True)"
      ]
    },
    {
      "cell_type": "code",
      "execution_count": 9,
      "metadata": {
        "colab": {
          "base_uri": "https://localhost:8080/"
        },
        "id": "rUG9QiHPaFgz",
        "outputId": "7833bf9f-09e8-4dd7-a019-03ef1f991b53"
      },
      "outputs": [
        {
          "output_type": "stream",
          "name": "stdout",
          "text": [
            "+-------+----+--------+-----------+------+-----------+------+-------------+-------------+-----------------+-------------+---------+-----------------+--------+----------+------+---------+------+\n",
            "|id     |year|zip.code|house.color|ni.age|len.at.res |credit|coverage.type|dwelling.type|premium          |sales.channel|ni.gender|ni.marital.status|n.adults|n.children|tenure|claim.ind|cancel|\n",
            "+-------+----+--------+-----------+------+-----------+------+-------------+-------------+-----------------+-------------+---------+-----------------+--------+----------+------+---------+------+\n",
            "|812304 |2013|50020.0 |white      |33.0  |16.0       |high  |C            |House        |796.385532       |Broker       |F        |1.0              |1.0     |3.0       |2.0   |1.0      |0     |\n",
            "|304035 |2013|80002.0 |red        |56.0  |10.0       |high  |A            |House        |773.2326869      |Broker       |M        |1.0              |2.0     |0.0       |14.0  |0.0      |0     |\n",
            "|88142  |2015|85005.0 |white      |46.0  |12.0       |high  |C            |Condo        |943.0471423      |Broker       |F        |1.0              |2.0     |2.0       |9.0   |0.0      |0     |\n",
            "|224693 |2015|98026.0 |blue       |45.0  |15.0       |high  |A            |Tenant       |949.3688474      |Broker       |M        |1.0              |1.0     |3.0       |12.0  |0.0      |0     |\n",
            "|199182 |2014|50022.0 |white      |28.0  |19.0       |low   |C            |Tenant       |875.8736125      |Broker       |F        |1.0              |1.0     |1.0       |7.0   |1.0      |2     |\n",
            "|321878 |2015|98001.0 |white      |54.0  |14.0       |high  |C            |House        |888.3005994999999|Phone        |F        |0.0              |2.0     |0.0       |14.0  |1.0      |1     |\n",
            "|708433 |2014|80028.0 |red        |38.0  |13.0       |medium|A            |Condo        |1011.25792       |Phone        |F        |0.0              |2.0     |0.0       |10.0  |0.0      |0     |\n",
            "|220597 |2013|80016.0 |red        |62.0  |9.0        |high  |A            |House        |795.6133007      |Phone        |F        |1.0              |2.0     |1.0       |15.0  |0.0      |0     |\n",
            "|62751  |2014|80002.0 |white      |39.0  |23.54598582|medium|B            |Tenant       |914.5372823      |Phone        |F        |0.0              |1.0     |0.0       |20.0  |0.0      |2     |\n",
            "|988029 |2013|85025.0 |blue       |40.0  |16.0       |high  |A            |House        |833.0867448      |Phone        |M        |1.0              |1.0     |2.0       |18.0  |1.0      |1     |\n",
            "|805199 |2013|85029.0 |red        |42.0  |16.0       |high  |C            |Condo        |954.3640606      |Phone        |F        |0.0              |1.0     |0.0       |14.0  |0.0      |0     |\n",
            "|559752 |2016|80016.0 |yellow     |67.0  |15.0       |high  |A            |House        |974.0919678      |Broker       |F        |1.0              |1.0     |6.0       |18.0  |1.0      |0     |\n",
            "|1045509|2015|20134.0 |white      |44.0  |20.0       |low   |C            |Tenant       |923.1154595      |Broker       |F        |1.0              |3.0     |2.0       |20.0  |0.0      |2     |\n",
            "|587313 |2014|50011.0 |red        |40.0  |8.0        |medium|C            |House        |871.9060306      |Phone        |F        |1.0              |2.0     |2.0       |11.0  |0.0      |2     |\n",
            "|155129 |2014|85031.0 |blue       |26.0  |18.0       |high  |A            |Condo        |992.0093179      |Phone        |M        |1.0              |2.0     |1.0       |6.0   |0.0      |0     |\n",
            "|519042 |2014|80034.0 |red        |55.0  |16.0       |high  |C            |House        |849.9093039999999|Broker       |M        |0.0              |1.0     |2.0       |14.0  |0.0      |2     |\n",
            "|213581 |2013|15047.0 |blue       |41.0  |14.0       |high  |C            |House        |930.7843522      |Broker       |M        |1.0              |2.0     |3.0       |21.0  |0.0      |0     |\n",
            "|144248 |2016|50005.0 |white      |44.0  |20.0       |medium|C            |House        |897.0176102      |Broker       |M        |1.0              |3.0     |1.0       |17.0  |0.0      |0     |\n",
            "|169280 |2014|15004.0 |white      |31.0  |17.0       |low   |C            |Tenant       |991.3524426      |Broker       |F        |1.0              |1.0     |5.0       |3.0   |0.0      |0     |\n",
            "|392378 |2015|50029.0 |white      |31.0  |14.0       |medium|A            |Condo        |974.7878269      |Phone        |M        |0.0              |2.0     |0.0       |6.0   |1.0      |2     |\n",
            "+-------+----+--------+-----------+------+-----------+------+-------------+-------------+-----------------+-------------+---------+-----------------+--------+----------+------+---------+------+\n",
            "only showing top 20 rows\n",
            "\n"
          ]
        }
      ],
      "source": [
        "# Let's check our test dataframe\n",
        "df_test.show(truncate=False)"
      ]
    },
    {
      "cell_type": "code",
      "execution_count": null,
      "metadata": {
        "colab": {
          "base_uri": "https://localhost:8080/"
        },
        "id": "5MGMnIneg239",
        "outputId": "41ae39b6-dbdc-486f-ee1c-748d82b62f6c"
      },
      "outputs": [
        {
          "output_type": "stream",
          "name": "stdout",
          "text": [
            "120000 18\n"
          ]
        }
      ],
      "source": [
        "# train rows and columns\n",
        "# 120K rows and 18 columns\n",
        "print(df_train.count(), len(df_train.columns))"
      ]
    },
    {
      "cell_type": "code",
      "execution_count": null,
      "metadata": {
        "colab": {
          "base_uri": "https://localhost:8080/"
        },
        "id": "ptkjuis5hSCI",
        "outputId": "44388be6-3066-4a96-b2a5-698448020b8f"
      },
      "outputs": [
        {
          "output_type": "stream",
          "name": "stdout",
          "text": [
            "344891 18\n"
          ]
        }
      ],
      "source": [
        "# test rows and columns\n",
        "# 344K rows and 18 columns\n",
        "print(df_test.count(), len(df_test.columns))"
      ]
    },
    {
      "cell_type": "code",
      "execution_count": null,
      "metadata": {
        "colab": {
          "base_uri": "https://localhost:8080/"
        },
        "id": "FtQBtrmihloB",
        "outputId": "394c7774-aa49-4e5a-cc38-89960fe7adbb"
      },
      "outputs": [
        {
          "output_type": "stream",
          "name": "stdout",
          "text": [
            "root\n",
            " |-- id: string (nullable = true)\n",
            " |-- year: string (nullable = true)\n",
            " |-- zip.code: string (nullable = true)\n",
            " |-- house.color: string (nullable = true)\n",
            " |-- ni.age: string (nullable = true)\n",
            " |-- len.at.res: string (nullable = true)\n",
            " |-- credit: string (nullable = true)\n",
            " |-- coverage.type: string (nullable = true)\n",
            " |-- dwelling.type: string (nullable = true)\n",
            " |-- premium: string (nullable = true)\n",
            " |-- sales.channel: string (nullable = true)\n",
            " |-- ni.gender: string (nullable = true)\n",
            " |-- ni.marital.status: string (nullable = true)\n",
            " |-- n.adults: string (nullable = true)\n",
            " |-- n.children: string (nullable = true)\n",
            " |-- tenure: string (nullable = true)\n",
            " |-- claim.ind: string (nullable = true)\n",
            " |-- cancel: string (nullable = true)\n",
            "\n"
          ]
        }
      ],
      "source": [
        "# Let's check the schema of our dataframe\n",
        "df_train.printSchema()"
      ]
    },
    {
      "cell_type": "code",
      "execution_count": null,
      "metadata": {
        "colab": {
          "base_uri": "https://localhost:8080/"
        },
        "id": "gOhrImeckg7P",
        "outputId": "a78c36c3-1c73-4a76-8ccb-f97461aec3c9"
      },
      "outputs": [
        {
          "output_type": "execute_result",
          "data": {
            "text/plain": [
              "['id',\n",
              " 'year',\n",
              " 'zip.code',\n",
              " 'house.color',\n",
              " 'ni.age',\n",
              " 'len.at.res',\n",
              " 'credit',\n",
              " 'coverage.type',\n",
              " 'dwelling.type',\n",
              " 'premium',\n",
              " 'sales.channel',\n",
              " 'ni.gender',\n",
              " 'ni.marital.status',\n",
              " 'n.adults',\n",
              " 'n.children',\n",
              " 'tenure',\n",
              " 'claim.ind',\n",
              " 'cancel']"
            ]
          },
          "metadata": {},
          "execution_count": 14
        }
      ],
      "source": [
        "# We'll also have a look at the 18 columns that we have\n",
        "df_train.columns"
      ]
    },
    {
      "cell_type": "markdown",
      "source": [
        "## Data Sanitization"
      ],
      "metadata": {
        "id": "DjU0gz3QdX65"
      }
    },
    {
      "cell_type": "code",
      "execution_count": 9,
      "metadata": {
        "id": "DrbofNL9Bcdp"
      },
      "outputs": [],
      "source": [
        "#udf to sanitize data heading\n",
        "\n",
        "df_renamed = df_train\n",
        "\n",
        "def sanitize_column_name(name):\n",
        "    answer = name\n",
        "    for i, j in ((\" \", \"_\"), (\".\", \"_\")):   \n",
        "        answer = answer.replace(i, j)\n",
        "    return \"\".join(\n",
        "        [\n",
        "            char\n",
        "            for char in answer\n",
        "            if char.isalpha() or char.isdigit() or char == \"_\"        \n",
        "        ]\n",
        "    )\n",
        " \n",
        " \n",
        "df_renamed = df_renamed.toDF(*[sanitize_column_name(name) for name in df_renamed.columns])\n",
        "df_test = df_test.toDF(*[sanitize_column_name(name) for name in df_renamed.columns])"
      ]
    },
    {
      "cell_type": "code",
      "execution_count": null,
      "metadata": {
        "colab": {
          "base_uri": "https://localhost:8080/"
        },
        "id": "CA28ArWQlHjH",
        "outputId": "5cd0093d-9193-4d96-9f1a-d52bb7372697"
      },
      "outputs": [
        {
          "output_type": "stream",
          "name": "stdout",
          "text": [
            "+-------+----+--------+-----------+------+----------+------+-------------+-------------+-----------------+-------------+---------+-----------------+--------+----------+------+---------+------+\n",
            "|     id|year|zip_code|house_color|ni_age|len_at_res|credit|coverage_type|dwelling_type|          premium|sales_channel|ni_gender|ni_marital_status|n_adults|n_children|tenure|claim_ind|cancel|\n",
            "+-------+----+--------+-----------+------+----------+------+-------------+-------------+-----------------+-------------+---------+-----------------+--------+----------+------+---------+------+\n",
            "| 688609|2016| 50001.0|      white|  44.0|      25.0|  high|            A|        Condo|      950.7386189|       Broker|        F|              1.0|     3.0|       0.0|  17.0|      0.0|     0|\n",
            "| 308155|2015| 50048.0|     yellow|  31.0|      22.0|  high|            B|       Tenant|      1003.420558|       Broker|        M|              0.0|     2.0|       0.0|   8.0|      1.0|     0|\n",
            "| 240486|2015| 98034.0|      white|  39.0|      17.0|   low|            C|        House|822.5538692000001|        Phone|        M|              1.0|     3.0|       0.0|   8.0|      0.0|     0|\n",
            "| 629942|2013| 98022.0|      white|  37.0|      22.0|  high|            B|        House|      827.0485096|        Phone|        F|              1.0|     1.0|       2.0|  16.0|      0.0|     0|\n",
            "| 532682|2013| 80011.0|        red|  39.0|      13.0|medium|            C|        Condo|      706.7646465|       Broker|        F|              1.0|     1.0|       0.0|  14.0|      0.0|     0|\n",
            "| 414845|2015| 50047.0|      white|  26.0|      14.0|  high|            C|        House|      999.6689768|       Broker|        M|              1.0|     4.0|       1.0|   4.0|      0.0|     0|\n",
            "| 717963|2015| 50012.0|       blue|  36.0|      17.0|  high|            A|       Tenant|      881.7901489|        Phone|        F|              1.0|     2.0|       1.0|   2.0|      1.0|     0|\n",
            "| 504339|2015| 50008.0|      white|  37.0|      12.0|medium|            A|       Tenant|824.6881802999999|       Broker|        F|              0.0|     4.0|       0.0|   0.0|      0.0|     0|\n",
            "| 982865|2015| 50039.0|        red|  47.0|      12.0|  high|            C|        House|      824.1878299|       Broker|        M|              1.0|     1.0|       3.0|  18.0|      1.0|     0|\n",
            "|  34431|2015| 85011.0|      white|  29.0|       6.0|  high|            A|        Condo|      1041.867835|       Broker|        F|              1.0|     1.0|       0.0|   6.0|      0.0|     0|\n",
            "| 443508|2014| 15054.0|        red|  61.0|       8.0|  high|            A|        House|824.6099092999999|       Broker|        M|              1.0|     1.0|       1.0|  23.0|      0.0|     0|\n",
            "| 970618|2016| 15009.0|       blue|  42.0|      19.0|  high|            C|        House|      882.0434817|        Phone|        M|              0.0|     2.0|       1.0|  14.0|      0.0|     0|\n",
            "| 652399|2016| 80014.0|        red|  33.0|      13.0|   low|            C|        Condo|      902.3094373|       Broker|        F|              0.0|     1.0|       0.0|   6.0|      1.0|     0|\n",
            "| 123186|2013| 80002.0|       blue|  53.0|      13.0|medium|            B|        House|      767.0643712|       Broker|        M|              1.0|     3.0|       1.0|  15.0|      0.0|     0|\n",
            "| 215207|2014| 80016.0|      white|  49.0|      12.0|   low|            A|       Tenant|      965.7790739|       Broker|        M|              1.0|     3.0|       1.0|  19.0|      0.0|     0|\n",
            "|1036498|2015| 15043.0|       blue|  62.0|      14.0|  high|            A|        Condo|914.6389207999998|       Broker|        M|              0.0|     2.0|       0.0|  12.0|      0.0|     0|\n",
            "| 648594|2014| 85044.0|       blue|  47.0|      21.0|   low|            A|        Condo|      790.2149754|       Broker|        M|              1.0|     1.0|       1.0|  14.0|      0.0|     0|\n",
            "| 550200|2015| 85030.0|       blue|  27.0|      25.0|medium|            A|        House|      942.5149163|        Phone|        F|              0.0|     1.0|       0.0|   7.0|      0.0|     0|\n",
            "| 613401|2016| 15056.0|       blue|  51.0|      14.0|medium|            B|        House|      726.7544091|       Broker|        M|              0.0|     2.0|       0.0|  22.0|      0.0|     0|\n",
            "|1008646|2016| 15050.0|      white|  46.0|      10.0|  high|            A|       Tenant|       990.864223|        Phone|     null|              1.0|     3.0|       2.0|  15.0|      0.0|     0|\n",
            "+-------+----+--------+-----------+------+----------+------+-------------+-------------+-----------------+-------------+---------+-----------------+--------+----------+------+---------+------+\n",
            "only showing top 20 rows\n",
            "\n"
          ]
        }
      ],
      "source": [
        "# Let's check our work\n",
        "df_renamed.show()"
      ]
    },
    {
      "cell_type": "markdown",
      "source": [
        "# EDA"
      ],
      "metadata": {
        "id": "1ykpkU7bF0L6"
      }
    },
    {
      "cell_type": "code",
      "source": [
        "# First let's convert to Pandas dataframe\n",
        "df_pandas = df_renamed.toPandas()"
      ],
      "metadata": {
        "id": "oxErm3x6aYlS"
      },
      "execution_count": null,
      "outputs": []
    },
    {
      "cell_type": "code",
      "source": [
        "# Let's check our data\n",
        "df_pandas.head()"
      ],
      "metadata": {
        "colab": {
          "base_uri": "https://localhost:8080/",
          "height": 270
        },
        "id": "t8DmiiymbmCK",
        "outputId": "36a37573-50d7-47fe-c31b-7ecbf38c9bbb"
      },
      "execution_count": null,
      "outputs": [
        {
          "output_type": "execute_result",
          "data": {
            "text/plain": [
              "       id  year zip_code house_color ni_age len_at_res  credit coverage_type  \\\n",
              "0  688609  2016  50001.0       white   44.0       25.0    high             A   \n",
              "1  308155  2015  50048.0      yellow   31.0       22.0    high             B   \n",
              "2  240486  2015  98034.0       white   39.0       17.0     low             C   \n",
              "3  629942  2013  98022.0       white   37.0       22.0    high             B   \n",
              "4  532682  2013  80011.0         red   39.0       13.0  medium             C   \n",
              "\n",
              "  dwelling_type            premium sales_channel ni_gender ni_marital_status  \\\n",
              "0         Condo        950.7386189        Broker         F               1.0   \n",
              "1        Tenant        1003.420558        Broker         M               0.0   \n",
              "2         House  822.5538692000001         Phone         M               1.0   \n",
              "3         House        827.0485096         Phone         F               1.0   \n",
              "4         Condo        706.7646465        Broker         F               1.0   \n",
              "\n",
              "  n_adults n_children tenure claim_ind cancel  \n",
              "0      3.0        0.0   17.0       0.0      0  \n",
              "1      2.0        0.0    8.0       1.0      0  \n",
              "2      3.0        0.0    8.0       0.0      0  \n",
              "3      1.0        2.0   16.0       0.0      0  \n",
              "4      1.0        0.0   14.0       0.0      0  "
            ],
            "text/html": [
              "\n",
              "  <div id=\"df-74d6c7c9-a46f-43b9-9661-86d4e35eb59c\">\n",
              "    <div class=\"colab-df-container\">\n",
              "      <div>\n",
              "<style scoped>\n",
              "    .dataframe tbody tr th:only-of-type {\n",
              "        vertical-align: middle;\n",
              "    }\n",
              "\n",
              "    .dataframe tbody tr th {\n",
              "        vertical-align: top;\n",
              "    }\n",
              "\n",
              "    .dataframe thead th {\n",
              "        text-align: right;\n",
              "    }\n",
              "</style>\n",
              "<table border=\"1\" class=\"dataframe\">\n",
              "  <thead>\n",
              "    <tr style=\"text-align: right;\">\n",
              "      <th></th>\n",
              "      <th>id</th>\n",
              "      <th>year</th>\n",
              "      <th>zip_code</th>\n",
              "      <th>house_color</th>\n",
              "      <th>ni_age</th>\n",
              "      <th>len_at_res</th>\n",
              "      <th>credit</th>\n",
              "      <th>coverage_type</th>\n",
              "      <th>dwelling_type</th>\n",
              "      <th>premium</th>\n",
              "      <th>sales_channel</th>\n",
              "      <th>ni_gender</th>\n",
              "      <th>ni_marital_status</th>\n",
              "      <th>n_adults</th>\n",
              "      <th>n_children</th>\n",
              "      <th>tenure</th>\n",
              "      <th>claim_ind</th>\n",
              "      <th>cancel</th>\n",
              "    </tr>\n",
              "  </thead>\n",
              "  <tbody>\n",
              "    <tr>\n",
              "      <th>0</th>\n",
              "      <td>688609</td>\n",
              "      <td>2016</td>\n",
              "      <td>50001.0</td>\n",
              "      <td>white</td>\n",
              "      <td>44.0</td>\n",
              "      <td>25.0</td>\n",
              "      <td>high</td>\n",
              "      <td>A</td>\n",
              "      <td>Condo</td>\n",
              "      <td>950.7386189</td>\n",
              "      <td>Broker</td>\n",
              "      <td>F</td>\n",
              "      <td>1.0</td>\n",
              "      <td>3.0</td>\n",
              "      <td>0.0</td>\n",
              "      <td>17.0</td>\n",
              "      <td>0.0</td>\n",
              "      <td>0</td>\n",
              "    </tr>\n",
              "    <tr>\n",
              "      <th>1</th>\n",
              "      <td>308155</td>\n",
              "      <td>2015</td>\n",
              "      <td>50048.0</td>\n",
              "      <td>yellow</td>\n",
              "      <td>31.0</td>\n",
              "      <td>22.0</td>\n",
              "      <td>high</td>\n",
              "      <td>B</td>\n",
              "      <td>Tenant</td>\n",
              "      <td>1003.420558</td>\n",
              "      <td>Broker</td>\n",
              "      <td>M</td>\n",
              "      <td>0.0</td>\n",
              "      <td>2.0</td>\n",
              "      <td>0.0</td>\n",
              "      <td>8.0</td>\n",
              "      <td>1.0</td>\n",
              "      <td>0</td>\n",
              "    </tr>\n",
              "    <tr>\n",
              "      <th>2</th>\n",
              "      <td>240486</td>\n",
              "      <td>2015</td>\n",
              "      <td>98034.0</td>\n",
              "      <td>white</td>\n",
              "      <td>39.0</td>\n",
              "      <td>17.0</td>\n",
              "      <td>low</td>\n",
              "      <td>C</td>\n",
              "      <td>House</td>\n",
              "      <td>822.5538692000001</td>\n",
              "      <td>Phone</td>\n",
              "      <td>M</td>\n",
              "      <td>1.0</td>\n",
              "      <td>3.0</td>\n",
              "      <td>0.0</td>\n",
              "      <td>8.0</td>\n",
              "      <td>0.0</td>\n",
              "      <td>0</td>\n",
              "    </tr>\n",
              "    <tr>\n",
              "      <th>3</th>\n",
              "      <td>629942</td>\n",
              "      <td>2013</td>\n",
              "      <td>98022.0</td>\n",
              "      <td>white</td>\n",
              "      <td>37.0</td>\n",
              "      <td>22.0</td>\n",
              "      <td>high</td>\n",
              "      <td>B</td>\n",
              "      <td>House</td>\n",
              "      <td>827.0485096</td>\n",
              "      <td>Phone</td>\n",
              "      <td>F</td>\n",
              "      <td>1.0</td>\n",
              "      <td>1.0</td>\n",
              "      <td>2.0</td>\n",
              "      <td>16.0</td>\n",
              "      <td>0.0</td>\n",
              "      <td>0</td>\n",
              "    </tr>\n",
              "    <tr>\n",
              "      <th>4</th>\n",
              "      <td>532682</td>\n",
              "      <td>2013</td>\n",
              "      <td>80011.0</td>\n",
              "      <td>red</td>\n",
              "      <td>39.0</td>\n",
              "      <td>13.0</td>\n",
              "      <td>medium</td>\n",
              "      <td>C</td>\n",
              "      <td>Condo</td>\n",
              "      <td>706.7646465</td>\n",
              "      <td>Broker</td>\n",
              "      <td>F</td>\n",
              "      <td>1.0</td>\n",
              "      <td>1.0</td>\n",
              "      <td>0.0</td>\n",
              "      <td>14.0</td>\n",
              "      <td>0.0</td>\n",
              "      <td>0</td>\n",
              "    </tr>\n",
              "  </tbody>\n",
              "</table>\n",
              "</div>\n",
              "      <button class=\"colab-df-convert\" onclick=\"convertToInteractive('df-74d6c7c9-a46f-43b9-9661-86d4e35eb59c')\"\n",
              "              title=\"Convert this dataframe to an interactive table.\"\n",
              "              style=\"display:none;\">\n",
              "        \n",
              "  <svg xmlns=\"http://www.w3.org/2000/svg\" height=\"24px\"viewBox=\"0 0 24 24\"\n",
              "       width=\"24px\">\n",
              "    <path d=\"M0 0h24v24H0V0z\" fill=\"none\"/>\n",
              "    <path d=\"M18.56 5.44l.94 2.06.94-2.06 2.06-.94-2.06-.94-.94-2.06-.94 2.06-2.06.94zm-11 1L8.5 8.5l.94-2.06 2.06-.94-2.06-.94L8.5 2.5l-.94 2.06-2.06.94zm10 10l.94 2.06.94-2.06 2.06-.94-2.06-.94-.94-2.06-.94 2.06-2.06.94z\"/><path d=\"M17.41 7.96l-1.37-1.37c-.4-.4-.92-.59-1.43-.59-.52 0-1.04.2-1.43.59L10.3 9.45l-7.72 7.72c-.78.78-.78 2.05 0 2.83L4 21.41c.39.39.9.59 1.41.59.51 0 1.02-.2 1.41-.59l7.78-7.78 2.81-2.81c.8-.78.8-2.07 0-2.86zM5.41 20L4 18.59l7.72-7.72 1.47 1.35L5.41 20z\"/>\n",
              "  </svg>\n",
              "      </button>\n",
              "      \n",
              "  <style>\n",
              "    .colab-df-container {\n",
              "      display:flex;\n",
              "      flex-wrap:wrap;\n",
              "      gap: 12px;\n",
              "    }\n",
              "\n",
              "    .colab-df-convert {\n",
              "      background-color: #E8F0FE;\n",
              "      border: none;\n",
              "      border-radius: 50%;\n",
              "      cursor: pointer;\n",
              "      display: none;\n",
              "      fill: #1967D2;\n",
              "      height: 32px;\n",
              "      padding: 0 0 0 0;\n",
              "      width: 32px;\n",
              "    }\n",
              "\n",
              "    .colab-df-convert:hover {\n",
              "      background-color: #E2EBFA;\n",
              "      box-shadow: 0px 1px 2px rgba(60, 64, 67, 0.3), 0px 1px 3px 1px rgba(60, 64, 67, 0.15);\n",
              "      fill: #174EA6;\n",
              "    }\n",
              "\n",
              "    [theme=dark] .colab-df-convert {\n",
              "      background-color: #3B4455;\n",
              "      fill: #D2E3FC;\n",
              "    }\n",
              "\n",
              "    [theme=dark] .colab-df-convert:hover {\n",
              "      background-color: #434B5C;\n",
              "      box-shadow: 0px 1px 3px 1px rgba(0, 0, 0, 0.15);\n",
              "      filter: drop-shadow(0px 1px 2px rgba(0, 0, 0, 0.3));\n",
              "      fill: #FFFFFF;\n",
              "    }\n",
              "  </style>\n",
              "\n",
              "      <script>\n",
              "        const buttonEl =\n",
              "          document.querySelector('#df-74d6c7c9-a46f-43b9-9661-86d4e35eb59c button.colab-df-convert');\n",
              "        buttonEl.style.display =\n",
              "          google.colab.kernel.accessAllowed ? 'block' : 'none';\n",
              "\n",
              "        async function convertToInteractive(key) {\n",
              "          const element = document.querySelector('#df-74d6c7c9-a46f-43b9-9661-86d4e35eb59c');\n",
              "          const dataTable =\n",
              "            await google.colab.kernel.invokeFunction('convertToInteractive',\n",
              "                                                     [key], {});\n",
              "          if (!dataTable) return;\n",
              "\n",
              "          const docLinkHtml = 'Like what you see? Visit the ' +\n",
              "            '<a target=\"_blank\" href=https://colab.research.google.com/notebooks/data_table.ipynb>data table notebook</a>'\n",
              "            + ' to learn more about interactive tables.';\n",
              "          element.innerHTML = '';\n",
              "          dataTable['output_type'] = 'display_data';\n",
              "          await google.colab.output.renderOutput(dataTable, element);\n",
              "          const docLink = document.createElement('div');\n",
              "          docLink.innerHTML = docLinkHtml;\n",
              "          element.appendChild(docLink);\n",
              "        }\n",
              "      </script>\n",
              "    </div>\n",
              "  </div>\n",
              "  "
            ]
          },
          "metadata": {},
          "execution_count": 77
        }
      ]
    },
    {
      "cell_type": "markdown",
      "source": [
        "## Data Visualization"
      ],
      "metadata": {
        "id": "u82WcN-wbSL2"
      }
    },
    {
      "cell_type": "markdown",
      "source": [
        "1. **Pie chart for Not Canceled, May get Canceled and Canceled Policies**"
      ],
      "metadata": {
        "id": "8WoSEV7DbqFE"
      }
    },
    {
      "cell_type": "code",
      "source": [
        "# Count the frequency of each cancel value\n",
        "cancel_counts = df_pandas['cancel'].value_counts()\n",
        "\n",
        "# Create a pie chart\n",
        "labels = ['Not canceled', 'May be Canceled', 'Canceled']\n",
        "colors = ['lightblue', 'orange', 'lightcoral']\n",
        "plt.pie(cancel_counts, labels=labels, colors=colors, autopct='%1.1f%%')\n",
        "plt.title('Policy Cancellation Distribution')\n",
        "plt.axis('equal')\n",
        "plt.show()"
      ],
      "metadata": {
        "colab": {
          "base_uri": "https://localhost:8080/",
          "height": 428
        },
        "id": "WDTUikCBbVAY",
        "outputId": "f3cbb83b-23ac-4c0b-d11d-e43f012bf50f"
      },
      "execution_count": null,
      "outputs": [
        {
          "output_type": "display_data",
          "data": {
            "text/plain": [
              "<Figure size 640x480 with 1 Axes>"
            ],
            "image/png": "[encoded data removed]"
          },
          "metadata": {}
        }
      ]
    },
    {
      "cell_type": "markdown",
      "source": [
        "*Inference:-*\n",
        "\n",
        "*The training dataset for the target variable shows that the majority of the observations (71.0%) have a value of 'Not canceled'. This indicates that the majority of customers are likely to complete their bookings without cancellation.* \n",
        "\n",
        "*However, a significant proportion of the observations (21.9%) have a value of 'May be Canceled or could be convined', which suggests that there is some uncertainty about whether these bookings will be completed or not.*\n",
        "\n",
        "*Additionally, a smaller proportion of the observations (7.2%) have a value of 'Canceled', which suggests that a small percentage of bookings are likely to be canceled.*\n",
        "\n",
        "*NOTE: The training dataset for the target variable shows an imbalanced distribution, as the majority of the observations (71.0%) have a value of 'Not canceled', while a smaller proportion of the observations have a value of 'May be Canceled' (21.9%) or 'Canceled' (7.2%).* "
      ],
      "metadata": {
        "id": "JhlX6r9GCkYI"
      }
    },
    {
      "cell_type": "markdown",
      "source": [
        "2. **Corelation Plot of Features**"
      ],
      "metadata": {
        "id": "HsJ-HhcWrJ7D"
      }
    },
    {
      "cell_type": "code",
      "source": [
        "# define which columns should be scaled and which should be one-hot encoded\n",
        "num_cols = ['ni_age', 'len_at_res', 'premium', 'n_adults', 'n_children', 'tenure','cancel']\n",
        "cat_cols = ['year','house_color', 'credit', 'coverage_type','sales_channel','dwelling_type', 'ni_gender', 'ni_marital_status', 'claim_ind']"
      ],
      "metadata": {
        "id": "xtyI9wo-dfSE"
      },
      "execution_count": null,
      "outputs": []
    },
    {
      "cell_type": "code",
      "source": [
        "# Convert specified columns to integer data type\n",
        "df_pandas[num_cols] = df_pandas[num_cols].astype(float)"
      ],
      "metadata": {
        "id": "2peM6Mavcylq"
      },
      "execution_count": null,
      "outputs": []
    },
    {
      "cell_type": "code",
      "source": [
        "# plotting heatmap usill all methods for all numerical variables\n",
        "import seaborn as sns\n",
        "\n",
        "plt.figure(figsize=(20,3), dpi=140)\n",
        "for j,i in enumerate(['pearson']):\n",
        "  plt.subplot(1,3,j+1)\n",
        "  correlation = df_pandas[num_cols].dropna().corr(method=i)\n",
        "  sns.heatmap(correlation, linewidth = 2, cmap=\"Blues\")\n",
        "  plt.title(i, fontsize=5)"
      ],
      "metadata": {
        "colab": {
          "base_uri": "https://localhost:8080/",
          "height": 502
        },
        "id": "hvS0Jtx-n8iW",
        "outputId": "6b747b2d-f33d-4aa8-c04c-bddc3df90766"
      },
      "execution_count": null,
      "outputs": [
        {
          "output_type": "display_data",
          "data": {
            "text/plain": [
              "<Figure size 2800x420 with 2 Axes>"
            ],
            "image/png": "[encoded data removed]"
          },
          "metadata": {}
        }
      ]
    },
    {
      "cell_type": "markdown",
      "source": [
        "*Inference:-*\n",
        "\n",
        "*The correlation plot for the numeric columns ni_age, len_at_res, premium, n_adults, n_children, tenure, and cancel suggests that there is a moderate positive correlation between tenure and age of policy holder with a correlation coefficient of around 0.6.*\n",
        "\n",
        "\n",
        "> *This indicates that as customers get older, they tend to have longer tenure with the company. However, there are no significant correlations between any of the other columns.*\n",
        "\n",
        "\n",
        "However, there are no significant correlations between any of the other columns, indicating that these features are largely independent of one another."
      ],
      "metadata": {
        "id": "cDahbdZQD0jA"
      }
    },
    {
      "cell_type": "markdown",
      "source": [
        "3. **Box Plot for Age vs Cancel Indicator**\n",
        "4. **Number of Children vs Cancel Indicator**"
      ],
      "metadata": {
        "id": "tShyYfImeu0P"
      }
    },
    {
      "cell_type": "code",
      "source": [
        "# Plotting box plots of age_ni and premium vs cancel\n",
        "fig, (ax1,ax2) = plt.subplots(1,2, figsize = (15,6))\n",
        "palette = sns.cubehelix_palette(8)\n",
        "plte = sns.cubehelix_palette(8, start=2, rot=0, dark=0, light=.95, reverse=True)\n",
        "\n",
        "sns.boxplot(x='cancel', y='ni_age', data=df_pandas, palette = [plte[6],plte[4],plte[2]], ax = ax1)\n",
        "sns.boxplot(x='cancel', y='n_children', data=df_pandas, palette = [palette[2],palette[4],palette[7]], ax = ax2)\n",
        "ax1.set_ylabel('Age')\n",
        "ax1.set_title('Age vs Cancel')\n",
        "ax2.set_title('Number of Children vs Cancel')"
      ],
      "metadata": {
        "colab": {
          "base_uri": "https://localhost:8080/",
          "height": 526
        },
        "id": "kP-tkOi_cewY",
        "outputId": "c9bf6320-8616-49fb-9190-a831046dc460"
      },
      "execution_count": null,
      "outputs": [
        {
          "output_type": "execute_result",
          "data": {
            "text/plain": [
              "Text(0.5, 1.0, 'Number of Children vs Cancel')"
            ]
          },
          "metadata": {},
          "execution_count": 214
        },
        {
          "output_type": "display_data",
          "data": {
            "text/plain": [
              "<Figure size 1500x600 with 2 Axes>"
            ],
            "image/png": "[encoded data removed]"
          },
          "metadata": {}
        }
      ]
    },
    {
      "cell_type": "markdown",
      "source": [
        "*Inference:-*\n",
        "\n",
        "*Age vs Cancellation*\n",
        "> *The box plot for age of policy holder vs cancel indicator shows that the age distribution for all three cancel indicator values (0, 1, and 2) is right-skewed with a few outliers.*\n",
        "\n",
        "> *The age of policyholders who haven't cancelled their policy (cancel indicator 0) has a lot of outliers, indicating a wider age range for this group.* \n",
        "\n",
        "> *However, the 50th percentile (or median) age for all three cancel indicator values falls in the range of 40-50 years, which suggests that the majority of policyholders fall within this age range.*\n",
        "\n",
        "*Number of Children vs Cancel*\n",
        "\n",
        "> *For policyholders who haven't cancelled their policy (cancel indicator 0), the number of children ranges from 0 to 5, with a 75th percentile range of 2.This suggests that the majority of policyholders who haven't cancelled their policy have 2 children or less*\n",
        "\n",
        "\n",
        "> *For policyholders with a cancel indicator value of 1 or 2 (may be canceled and canceled, respectively), the number of children ranges from 0 to 7, with a median of 3 for both groups. This suggests that policyholders who are more likely to cancel their policy may have slightly more children on average than those who haven't cancelled.*\n",
        "\n",
        "*However, there are some outliers in all the groups, indicating that there are some policyholders with a larger number of children.*\n"
      ],
      "metadata": {
        "id": "MB-lNM5gG0Xr"
      }
    },
    {
      "cell_type": "markdown",
      "source": [
        "5. **Count plot for Credit feature on Policy Cancellation Target**"
      ],
      "metadata": {
        "id": "9-8Vlwc4e8li"
      }
    },
    {
      "cell_type": "code",
      "source": [
        "# Plotting credit categories vs cancel indicator\n",
        "fig, ax = plt.subplots(figsize = (15,6))\n",
        "\n",
        "#choose nice color palette for our plot\n",
        "palet = sns.light_palette((210, 90, 60), input=\"husl\")\n",
        "\n",
        "sns.countplot(x='credit', hue='cancel', data=df_pandas, palette = [palet[1],palet[3],palet[5]])\n",
        "ax.bar_label(container=ax.containers[0])\n",
        "ax.bar_label(container=ax.containers[1])\n",
        "ax.bar_label(container=ax.containers[2])"
      ],
      "metadata": {
        "colab": {
          "base_uri": "https://localhost:8080/",
          "height": 500
        },
        "id": "U94c5ihkfEll",
        "outputId": "600ef88a-9d03-4cf5-cdf4-c9b7499fe509"
      },
      "execution_count": null,
      "outputs": [
        {
          "output_type": "execute_result",
          "data": {
            "text/plain": [
              "[Text(0, 0, '11891'), Text(0, 0, '7824'), Text(0, 0, '6495')]"
            ]
          },
          "metadata": {},
          "execution_count": 215
        },
        {
          "output_type": "display_data",
          "data": {
            "text/plain": [
              "<Figure size 1500x600 with 1 Axes>"
            ],
            "image/png": "[encoded data removed]"
          },
          "metadata": {}
        }
      ]
    },
    {
      "cell_type": "markdown",
      "source": [
        "*Inference:-*\n",
        "\n",
        "*The count plot for credit vs cancel indicator values 0, 1, and 2 shows that the distribution of credit scores differs for each cancel indicator value.*\n",
        "\n",
        ">*The policyholders with high credit scores who have not canceled their policies are the largest group, with the frequency of (58727), followed by a much smaller number of policyholders who have cancelled their policies, and the smallest number of policyholders count are the ones who can be convinced to cancel their policies.*\n",
        "\n",
        ">*The policyholders with medium credit scores have next contribution in the dataset. The highest number of policyholders, who do not cancel their policies (9481), followed by a smaller number of policyholders who have cancelled or likely to cancel their policies.*\n",
        "\n",
        ">*Finally, the policyholders with low credit scores are the smallest group, with the highest number of policyholders who have not cancelled policies (16855), followed by a smaller number of policyholders who have cancelled their policies or can be convinced to cancel.*\n",
        "\n",
        "*This suggest having high credit score has very less chance of cancellation as compared to medium or low credit score.*"
      ],
      "metadata": {
        "id": "TwzYQ6oGKoeq"
      }
    },
    {
      "cell_type": "markdown",
      "source": [
        "6. **Plotting Coverage Type and Sales Channel vs Conversion Indicator**"
      ],
      "metadata": {
        "id": "o_xMrcB8hWaC"
      }
    },
    {
      "cell_type": "code",
      "source": [
        "#Plotting coverage type and sales channel vs conversion indicator\n",
        "fig, (ax1,ax2) = plt.subplots(1,2, figsize = (15,6))\n",
        "plte = sns.cubehelix_palette(8, start=2, rot=0, dark=0, light=.95, reverse=True)\n",
        "sns.countplot(x='coverage_type', hue='cancel', data=df_pandas, ax = ax1, palette = [plte[6],plte[4],plte[2]])\n",
        "# generate the color palette\n",
        "palette = sns.cubehelix_palette(8)\n",
        "sns.countplot(x='sales_channel', hue='cancel', data=df_pandas, ax = ax2, palette = [palette[2],palette[4],palette[7]])\n",
        "fig.tight_layout()"
      ],
      "metadata": {
        "colab": {
          "base_uri": "https://localhost:8080/",
          "height": 458
        },
        "id": "HNTS_R0ahVfT",
        "outputId": "37aa8110-40a5-4994-c647-7a1af7b4b204"
      },
      "execution_count": null,
      "outputs": [
        {
          "output_type": "display_data",
          "data": {
            "text/plain": [
              "<Figure size 1500x600 with 2 Axes>"
            ],
            "image/png": "[encoded data removed]"
          },
          "metadata": {}
        }
      ]
    },
    {
      "cell_type": "markdown",
      "source": [
        "*Inference:-*\n",
        "\n",
        "*Policy cancellation count per Coverage type*\n",
        "\n",
        "> *From coverage vs cancel plot, it can be noted that coverage C has the highest count for both the cancelled and not cancelled policies, while coverage B has the lowest count for the policies that have not been cancelled.*\n",
        "\n",
        "*Policy cancellation count per Sales channel*\n",
        "\n",
        "> *Based on the count plot for sales channel vs cancel indicator, it can be observed that the broker channel has the highest count followed by the phone and online channels for both the customers who have cancelled their policies and the ones who have not.*"
      ],
      "metadata": {
        "id": "NWeNPDzbOU_n"
      }
    },
    {
      "cell_type": "markdown",
      "source": [
        "7. **Scatter Plot Age of Policyholder vs Tenure**"
      ],
      "metadata": {
        "id": "vLGrF4H-iDoU"
      }
    },
    {
      "cell_type": "code",
      "source": [
        "sns.scatterplot(data=df_pandas, x=np.log(df_pandas['ni_age']), y='tenure')"
      ],
      "metadata": {
        "colab": {
          "base_uri": "https://localhost:8080/",
          "height": 467
        },
        "id": "Nazh0THRmpmq",
        "outputId": "ccf6c038-6ba9-420a-c96f-21dc3ae3b511"
      },
      "execution_count": null,
      "outputs": [
        {
          "output_type": "execute_result",
          "data": {
            "text/plain": [
              "<Axes: xlabel='ni_age', ylabel='tenure'>"
            ]
          },
          "metadata": {},
          "execution_count": 95
        },
        {
          "output_type": "display_data",
          "data": {
            "text/plain": [
              "<Figure size 640x480 with 1 Axes>"
            ],
            "image/png": "[encoded data removed]"
          },
          "metadata": {}
        }
      ]
    },
    {
      "cell_type": "markdown",
      "source": [
        "*Inference:-*\n",
        "\n",
        "*Based on the observation, as age of policy holder increases, tenure also increases, it is possible to infer that there could be a positive correlation between these two variables.*\n",
        "\n",
        " *This could be explained by the fact that older policyholders may have been associated with the insurance company for a longer period of time, and as a result, they would have a higher tenure.*\n",
        " \n",
        " * *Additionally, older policyholders may be more likely to renew their policies and maintain a longer relationship with the insurance company.*"
      ],
      "metadata": {
        "id": "RBqUD0qUQQBX"
      }
    },
    {
      "cell_type": "markdown",
      "source": [
        "## Tabular Visualization"
      ],
      "metadata": {
        "id": "xl1sbN7hsMRk"
      }
    },
    {
      "cell_type": "code",
      "source": [
        "!pip install tabulate"
      ],
      "metadata": {
        "colab": {
          "base_uri": "https://localhost:8080/"
        },
        "id": "ksA6WxIbgtXM",
        "outputId": "f2a4e0d1-6969-4c01-81a1-12531e369063"
      },
      "execution_count": null,
      "outputs": [
        {
          "output_type": "stream",
          "name": "stdout",
          "text": [
            "Looking in indexes: https://pypi.org/simple, https://us-python.pkg.dev/colab-wheels/public/simple/\n",
            "Requirement already satisfied: tabulate in /usr/local/lib/python3.10/dist-packages (0.8.10)\n"
          ]
        }
      ]
    },
    {
      "cell_type": "code",
      "source": [
        "from tabulate import tabulate"
      ],
      "metadata": {
        "id": "57dgqsqIgylY"
      },
      "execution_count": null,
      "outputs": []
    },
    {
      "cell_type": "markdown",
      "source": [
        "1. **Tabulating percentage cancel by credit categories**"
      ],
      "metadata": {
        "id": "EN6j6x0xfyi5"
      }
    },
    {
      "cell_type": "code",
      "source": [
        "# Tabulating percentage cancel by credit categories\n",
        "ct = pd.crosstab(df_pandas['credit'], df_pandas['cancel'], normalize='index') * 100\n",
        "\n",
        "# Sort features in ascending order of frequency\n",
        "print(tabulate(ct.sort_values(by=list(ct.columns), ascending=False), headers=[0,1,2]))"
      ],
      "metadata": {
        "colab": {
          "base_uri": "https://localhost:8080/"
        },
        "id": "YKcS4_ULfzC1",
        "outputId": "ef3be2a2-a891-4845-b7cb-9498dc24da61"
      },
      "execution_count": null,
      "outputs": [
        {
          "output_type": "stream",
          "name": "stdout",
          "text": [
            "              0         1        2\n",
            "------  -------  --------  -------\n",
            "high    79.1682   4.80183  16.0299\n",
            "medium  64.2609  10.9764   24.7627\n",
            "low     48.648   11.2063   40.1457\n"
          ]
        }
      ]
    },
    {
      "cell_type": "markdown",
      "source": [
        "Inference :-\n",
        "\n",
        ">*The above pivot table shows the percentage distribution of policy types (not cancel, might cancel, cancel) based on credit categories (high, medium, low).*\n",
        "\n",
        ">*It suggests that as the credit score decreases from high to low, the percentage of policyholders with type 2 policies (who will cancel their policy) increases, while the percentage of policyholders with type 0 policies (one who do not cancel their policy) decreases.*\n",
        "\n",
        ">*There is also a slight increase in the percentage of policyholders with type 1 policies for medium and low credit scores, compared to high credit scores. This may suggest a correlation between credit score and insurance risk, and the need for insurance companies to assess credit scores when underwriting policies.*"
      ],
      "metadata": {
        "id": "ZntNIN5FRhNt"
      }
    },
    {
      "cell_type": "markdown",
      "source": [
        "2. **Credit by Coverage Type and Sales Channel**"
      ],
      "metadata": {
        "id": "-3Ro5EhUw5D1"
      }
    },
    {
      "cell_type": "code",
      "source": [
        "# Create a pivot table to show the average premium for each coverage type and sales channel combination\n",
        "pivot_table = pd.pivot_table(df_pandas, values='Credit', index='coverage_type', columns='sales_channel', aggfunc='count')"
      ],
      "metadata": {
        "id": "vBt9A6YgtK8V"
      },
      "execution_count": null,
      "outputs": []
    },
    {
      "cell_type": "code",
      "source": [
        "pivot_table.head()"
      ],
      "metadata": {
        "colab": {
          "base_uri": "https://localhost:8080/",
          "height": 175
        },
        "id": "gK2QzbK9tN-y",
        "outputId": "f7914913-7879-417f-b332-92d678c8cd3d"
      },
      "execution_count": null,
      "outputs": [
        {
          "output_type": "execute_result",
          "data": {
            "text/plain": [
              "sales_channel  Broker  Online  Phone\n",
              "coverage_type                       \n",
              "A               23785    3526  13562\n",
              "B               16545    2324   9519\n",
              "C               29161    4329  16891"
            ],
            "text/html": [
              "\n",
              "  <div id=\"df-054d2874-5006-49ae-b287-b64285230fb2\">\n",
              "    <div class=\"colab-df-container\">\n",
              "      <div>\n",
              "<style scoped>\n",
              "    .dataframe tbody tr th:only-of-type {\n",
              "        vertical-align: middle;\n",
              "    }\n",
              "\n",
              "    .dataframe tbody tr th {\n",
              "        vertical-align: top;\n",
              "    }\n",
              "\n",
              "    .dataframe thead th {\n",
              "        text-align: right;\n",
              "    }\n",
              "</style>\n",
              "<table border=\"1\" class=\"dataframe\">\n",
              "  <thead>\n",
              "    <tr style=\"text-align: right;\">\n",
              "      <th>sales_channel</th>\n",
              "      <th>Broker</th>\n",
              "      <th>Online</th>\n",
              "      <th>Phone</th>\n",
              "    </tr>\n",
              "    <tr>\n",
              "      <th>coverage_type</th>\n",
              "      <th></th>\n",
              "      <th></th>\n",
              "      <th></th>\n",
              "    </tr>\n",
              "  </thead>\n",
              "  <tbody>\n",
              "    <tr>\n",
              "      <th>A</th>\n",
              "      <td>23785</td>\n",
              "      <td>3526</td>\n",
              "      <td>13562</td>\n",
              "    </tr>\n",
              "    <tr>\n",
              "      <th>B</th>\n",
              "      <td>16545</td>\n",
              "      <td>2324</td>\n",
              "      <td>9519</td>\n",
              "    </tr>\n",
              "    <tr>\n",
              "      <th>C</th>\n",
              "      <td>29161</td>\n",
              "      <td>4329</td>\n",
              "      <td>16891</td>\n",
              "    </tr>\n",
              "  </tbody>\n",
              "</table>\n",
              "</div>\n",
              "      <button class=\"colab-df-convert\" onclick=\"convertToInteractive('df-054d2874-5006-49ae-b287-b64285230fb2')\"\n",
              "              title=\"Convert this dataframe to an interactive table.\"\n",
              "              style=\"display:none;\">\n",
              "        \n",
              "  <svg xmlns=\"http://www.w3.org/2000/svg\" height=\"24px\"viewBox=\"0 0 24 24\"\n",
              "       width=\"24px\">\n",
              "    <path d=\"M0 0h24v24H0V0z\" fill=\"none\"/>\n",
              "    <path d=\"M18.56 5.44l.94 2.06.94-2.06 2.06-.94-2.06-.94-.94-2.06-.94 2.06-2.06.94zm-11 1L8.5 8.5l.94-2.06 2.06-.94-2.06-.94L8.5 2.5l-.94 2.06-2.06.94zm10 10l.94 2.06.94-2.06 2.06-.94-2.06-.94-.94-2.06-.94 2.06-2.06.94z\"/><path d=\"M17.41 7.96l-1.37-1.37c-.4-.4-.92-.59-1.43-.59-.52 0-1.04.2-1.43.59L10.3 9.45l-7.72 7.72c-.78.78-.78 2.05 0 2.83L4 21.41c.39.39.9.59 1.41.59.51 0 1.02-.2 1.41-.59l7.78-7.78 2.81-2.81c.8-.78.8-2.07 0-2.86zM5.41 20L4 18.59l7.72-7.72 1.47 1.35L5.41 20z\"/>\n",
              "  </svg>\n",
              "      </button>\n",
              "      \n",
              "  <style>\n",
              "    .colab-df-container {\n",
              "      display:flex;\n",
              "      flex-wrap:wrap;\n",
              "      gap: 12px;\n",
              "    }\n",
              "\n",
              "    .colab-df-convert {\n",
              "      background-color: #E8F0FE;\n",
              "      border: none;\n",
              "      border-radius: 50%;\n",
              "      cursor: pointer;\n",
              "      display: none;\n",
              "      fill: #1967D2;\n",
              "      height: 32px;\n",
              "      padding: 0 0 0 0;\n",
              "      width: 32px;\n",
              "    }\n",
              "\n",
              "    .colab-df-convert:hover {\n",
              "      background-color: #E2EBFA;\n",
              "      box-shadow: 0px 1px 2px rgba(60, 64, 67, 0.3), 0px 1px 3px 1px rgba(60, 64, 67, 0.15);\n",
              "      fill: #174EA6;\n",
              "    }\n",
              "\n",
              "    [theme=dark] .colab-df-convert {\n",
              "      background-color: #3B4455;\n",
              "      fill: #D2E3FC;\n",
              "    }\n",
              "\n",
              "    [theme=dark] .colab-df-convert:hover {\n",
              "      background-color: #434B5C;\n",
              "      box-shadow: 0px 1px 3px 1px rgba(0, 0, 0, 0.15);\n",
              "      filter: drop-shadow(0px 1px 2px rgba(0, 0, 0, 0.3));\n",
              "      fill: #FFFFFF;\n",
              "    }\n",
              "  </style>\n",
              "\n",
              "      <script>\n",
              "        const buttonEl =\n",
              "          document.querySelector('#df-054d2874-5006-49ae-b287-b64285230fb2 button.colab-df-convert');\n",
              "        buttonEl.style.display =\n",
              "          google.colab.kernel.accessAllowed ? 'block' : 'none';\n",
              "\n",
              "        async function convertToInteractive(key) {\n",
              "          const element = document.querySelector('#df-054d2874-5006-49ae-b287-b64285230fb2');\n",
              "          const dataTable =\n",
              "            await google.colab.kernel.invokeFunction('convertToInteractive',\n",
              "                                                     [key], {});\n",
              "          if (!dataTable) return;\n",
              "\n",
              "          const docLinkHtml = 'Like what you see? Visit the ' +\n",
              "            '<a target=\"_blank\" href=https://colab.research.google.com/notebooks/data_table.ipynb>data table notebook</a>'\n",
              "            + ' to learn more about interactive tables.';\n",
              "          element.innerHTML = '';\n",
              "          dataTable['output_type'] = 'display_data';\n",
              "          await google.colab.output.renderOutput(dataTable, element);\n",
              "          const docLink = document.createElement('div');\n",
              "          docLink.innerHTML = docLinkHtml;\n",
              "          element.appendChild(docLink);\n",
              "        }\n",
              "      </script>\n",
              "    </div>\n",
              "  </div>\n",
              "  "
            ]
          },
          "metadata": {},
          "execution_count": 138
        }
      ]
    },
    {
      "cell_type": "markdown",
      "source": [
        "Inference:-\n",
        "\n",
        "> *The above pivot table shows that the credit count for broker channel seems to be the most common across all coverage types, followed by phone and online channels.*\n",
        "\n",
        "> *We can also infer that credit count for coverage C has highest credit across all the sales channel followed by coverage A and then coverage B.*"
      ],
      "metadata": {
        "id": "0rH5TksUT-Yd"
      }
    },
    {
      "cell_type": "markdown",
      "source": [
        "3. **Residential Length based on Policyholder marital status and Gender**"
      ],
      "metadata": {
        "id": "b0Ab9o8fzzca"
      }
    },
    {
      "cell_type": "code",
      "source": [
        "# Create a pivot table to show the average premium for each coverage type and sales channel combination\n",
        "pivot_table = pd.pivot_table(df_pandas, values='len_at_res', index='ni_marital_status', columns='ni_gender', aggfunc='count')\n",
        "pivot_table = pivot_table.rename(index={0: 'No', 1: 'Yes'})"
      ],
      "metadata": {
        "id": "TJbMiIuNxQYN"
      },
      "execution_count": null,
      "outputs": []
    },
    {
      "cell_type": "code",
      "source": [
        "pivot_table.head()"
      ],
      "metadata": {
        "colab": {
          "base_uri": "https://localhost:8080/",
          "height": 143
        },
        "id": "2iRvGHU8xonX",
        "outputId": "89aca8b8-00ff-4167-850b-7c31792b287c"
      },
      "execution_count": null,
      "outputs": [
        {
          "output_type": "execute_result",
          "data": {
            "text/plain": [
              "ni_gender              F      M\n",
              "ni_marital_status              \n",
              "0.0                16871  18049\n",
              "1.0                40534  44192"
            ],
            "text/html": [
              "\n",
              "  <div id=\"df-862bff20-a27e-4106-b55e-e2d581169992\">\n",
              "    <div class=\"colab-df-container\">\n",
              "      <div>\n",
              "<style scoped>\n",
              "    .dataframe tbody tr th:only-of-type {\n",
              "        vertical-align: middle;\n",
              "    }\n",
              "\n",
              "    .dataframe tbody tr th {\n",
              "        vertical-align: top;\n",
              "    }\n",
              "\n",
              "    .dataframe thead th {\n",
              "        text-align: right;\n",
              "    }\n",
              "</style>\n",
              "<table border=\"1\" class=\"dataframe\">\n",
              "  <thead>\n",
              "    <tr style=\"text-align: right;\">\n",
              "      <th>ni_gender</th>\n",
              "      <th>F</th>\n",
              "      <th>M</th>\n",
              "    </tr>\n",
              "    <tr>\n",
              "      <th>ni_marital_status</th>\n",
              "      <th></th>\n",
              "      <th></th>\n",
              "    </tr>\n",
              "  </thead>\n",
              "  <tbody>\n",
              "    <tr>\n",
              "      <th>0.0</th>\n",
              "      <td>16871</td>\n",
              "      <td>18049</td>\n",
              "    </tr>\n",
              "    <tr>\n",
              "      <th>1.0</th>\n",
              "      <td>40534</td>\n",
              "      <td>44192</td>\n",
              "    </tr>\n",
              "  </tbody>\n",
              "</table>\n",
              "</div>\n",
              "      <button class=\"colab-df-convert\" onclick=\"convertToInteractive('df-862bff20-a27e-4106-b55e-e2d581169992')\"\n",
              "              title=\"Convert this dataframe to an interactive table.\"\n",
              "              style=\"display:none;\">\n",
              "        \n",
              "  <svg xmlns=\"http://www.w3.org/2000/svg\" height=\"24px\"viewBox=\"0 0 24 24\"\n",
              "       width=\"24px\">\n",
              "    <path d=\"M0 0h24v24H0V0z\" fill=\"none\"/>\n",
              "    <path d=\"M18.56 5.44l.94 2.06.94-2.06 2.06-.94-2.06-.94-.94-2.06-.94 2.06-2.06.94zm-11 1L8.5 8.5l.94-2.06 2.06-.94-2.06-.94L8.5 2.5l-.94 2.06-2.06.94zm10 10l.94 2.06.94-2.06 2.06-.94-2.06-.94-.94-2.06-.94 2.06-2.06.94z\"/><path d=\"M17.41 7.96l-1.37-1.37c-.4-.4-.92-.59-1.43-.59-.52 0-1.04.2-1.43.59L10.3 9.45l-7.72 7.72c-.78.78-.78 2.05 0 2.83L4 21.41c.39.39.9.59 1.41.59.51 0 1.02-.2 1.41-.59l7.78-7.78 2.81-2.81c.8-.78.8-2.07 0-2.86zM5.41 20L4 18.59l7.72-7.72 1.47 1.35L5.41 20z\"/>\n",
              "  </svg>\n",
              "      </button>\n",
              "      \n",
              "  <style>\n",
              "    .colab-df-container {\n",
              "      display:flex;\n",
              "      flex-wrap:wrap;\n",
              "      gap: 12px;\n",
              "    }\n",
              "\n",
              "    .colab-df-convert {\n",
              "      background-color: #E8F0FE;\n",
              "      border: none;\n",
              "      border-radius: 50%;\n",
              "      cursor: pointer;\n",
              "      display: none;\n",
              "      fill: #1967D2;\n",
              "      height: 32px;\n",
              "      padding: 0 0 0 0;\n",
              "      width: 32px;\n",
              "    }\n",
              "\n",
              "    .colab-df-convert:hover {\n",
              "      background-color: #E2EBFA;\n",
              "      box-shadow: 0px 1px 2px rgba(60, 64, 67, 0.3), 0px 1px 3px 1px rgba(60, 64, 67, 0.15);\n",
              "      fill: #174EA6;\n",
              "    }\n",
              "\n",
              "    [theme=dark] .colab-df-convert {\n",
              "      background-color: #3B4455;\n",
              "      fill: #D2E3FC;\n",
              "    }\n",
              "\n",
              "    [theme=dark] .colab-df-convert:hover {\n",
              "      background-color: #434B5C;\n",
              "      box-shadow: 0px 1px 3px 1px rgba(0, 0, 0, 0.15);\n",
              "      filter: drop-shadow(0px 1px 2px rgba(0, 0, 0, 0.3));\n",
              "      fill: #FFFFFF;\n",
              "    }\n",
              "  </style>\n",
              "\n",
              "      <script>\n",
              "        const buttonEl =\n",
              "          document.querySelector('#df-862bff20-a27e-4106-b55e-e2d581169992 button.colab-df-convert');\n",
              "        buttonEl.style.display =\n",
              "          google.colab.kernel.accessAllowed ? 'block' : 'none';\n",
              "\n",
              "        async function convertToInteractive(key) {\n",
              "          const element = document.querySelector('#df-862bff20-a27e-4106-b55e-e2d581169992');\n",
              "          const dataTable =\n",
              "            await google.colab.kernel.invokeFunction('convertToInteractive',\n",
              "                                                     [key], {});\n",
              "          if (!dataTable) return;\n",
              "\n",
              "          const docLinkHtml = 'Like what you see? Visit the ' +\n",
              "            '<a target=\"_blank\" href=https://colab.research.google.com/notebooks/data_table.ipynb>data table notebook</a>'\n",
              "            + ' to learn more about interactive tables.';\n",
              "          element.innerHTML = '';\n",
              "          dataTable['output_type'] = 'display_data';\n",
              "          await google.colab.output.renderOutput(dataTable, element);\n",
              "          const docLink = document.createElement('div');\n",
              "          docLink.innerHTML = docLinkHtml;\n",
              "          element.appendChild(docLink);\n",
              "        }\n",
              "      </script>\n",
              "    </div>\n",
              "  </div>\n",
              "  "
            ]
          },
          "metadata": {},
          "execution_count": 163
        }
      ]
    },
    {
      "cell_type": "markdown",
      "source": [
        "*Inference:-*\n",
        "\n",
        ">*The given pivot table shows the length of residence of polichyholders based on their gender and marital statu (0 for single, and 1 for married).*\n",
        "\n",
        ">*The table shows that for length of residence of policyholders that there are 16,871 single females and 18,049 single males, while there are 40,534 married females and 44,192 married males.*\n",
        "\n",
        ">*It appears that there are more married policyholders than single policyholders, and more male policyholders than female policyholders.*"
      ],
      "metadata": {
        "id": "5mPXzHMMVeSv"
      }
    },
    {
      "cell_type": "markdown",
      "source": [
        "4. **Premium by combination of Credit and Dwelling Type**"
      ],
      "metadata": {
        "id": "9WF-puEGv9x7"
      }
    },
    {
      "cell_type": "code",
      "source": [
        "# Let's create a pivot table for multi-variate analysis\n",
        "pd.pivot_table(df_pandas, values='premium', index='credit', columns='dwelling_type', aggfunc='count')"
      ],
      "metadata": {
        "colab": {
          "base_uri": "https://localhost:8080/",
          "height": 175
        },
        "id": "6o4ECQgYuM2F",
        "outputId": "5f51d3b1-a997-4b55-ac68-63040e583160"
      },
      "execution_count": null,
      "outputs": [
        {
          "output_type": "execute_result",
          "data": {
            "text/plain": [
              "dwelling_type  Condo  House  Tenant\n",
              "credit                             \n",
              "high           17653  41799   14581\n",
              "low             4724  10814    3922\n",
              "medium          6304  14603    5268"
            ],
            "text/html": [
              "\n",
              "  <div id=\"df-3ae00fad-eefc-4169-923e-2d901d167f5f\">\n",
              "    <div class=\"colab-df-container\">\n",
              "      <div>\n",
              "<style scoped>\n",
              "    .dataframe tbody tr th:only-of-type {\n",
              "        vertical-align: middle;\n",
              "    }\n",
              "\n",
              "    .dataframe tbody tr th {\n",
              "        vertical-align: top;\n",
              "    }\n",
              "\n",
              "    .dataframe thead th {\n",
              "        text-align: right;\n",
              "    }\n",
              "</style>\n",
              "<table border=\"1\" class=\"dataframe\">\n",
              "  <thead>\n",
              "    <tr style=\"text-align: right;\">\n",
              "      <th>dwelling_type</th>\n",
              "      <th>Condo</th>\n",
              "      <th>House</th>\n",
              "      <th>Tenant</th>\n",
              "    </tr>\n",
              "    <tr>\n",
              "      <th>credit</th>\n",
              "      <th></th>\n",
              "      <th></th>\n",
              "      <th></th>\n",
              "    </tr>\n",
              "  </thead>\n",
              "  <tbody>\n",
              "    <tr>\n",
              "      <th>high</th>\n",
              "      <td>17653</td>\n",
              "      <td>41799</td>\n",
              "      <td>14581</td>\n",
              "    </tr>\n",
              "    <tr>\n",
              "      <th>low</th>\n",
              "      <td>4724</td>\n",
              "      <td>10814</td>\n",
              "      <td>3922</td>\n",
              "    </tr>\n",
              "    <tr>\n",
              "      <th>medium</th>\n",
              "      <td>6304</td>\n",
              "      <td>14603</td>\n",
              "      <td>5268</td>\n",
              "    </tr>\n",
              "  </tbody>\n",
              "</table>\n",
              "</div>\n",
              "      <button class=\"colab-df-convert\" onclick=\"convertToInteractive('df-3ae00fad-eefc-4169-923e-2d901d167f5f')\"\n",
              "              title=\"Convert this dataframe to an interactive table.\"\n",
              "              style=\"display:none;\">\n",
              "        \n",
              "  <svg xmlns=\"http://www.w3.org/2000/svg\" height=\"24px\"viewBox=\"0 0 24 24\"\n",
              "       width=\"24px\">\n",
              "    <path d=\"M0 0h24v24H0V0z\" fill=\"none\"/>\n",
              "    <path d=\"M18.56 5.44l.94 2.06.94-2.06 2.06-.94-2.06-.94-.94-2.06-.94 2.06-2.06.94zm-11 1L8.5 8.5l.94-2.06 2.06-.94-2.06-.94L8.5 2.5l-.94 2.06-2.06.94zm10 10l.94 2.06.94-2.06 2.06-.94-2.06-.94-.94-2.06-.94 2.06-2.06.94z\"/><path d=\"M17.41 7.96l-1.37-1.37c-.4-.4-.92-.59-1.43-.59-.52 0-1.04.2-1.43.59L10.3 9.45l-7.72 7.72c-.78.78-.78 2.05 0 2.83L4 21.41c.39.39.9.59 1.41.59.51 0 1.02-.2 1.41-.59l7.78-7.78 2.81-2.81c.8-.78.8-2.07 0-2.86zM5.41 20L4 18.59l7.72-7.72 1.47 1.35L5.41 20z\"/>\n",
              "  </svg>\n",
              "      </button>\n",
              "      \n",
              "  <style>\n",
              "    .colab-df-container {\n",
              "      display:flex;\n",
              "      flex-wrap:wrap;\n",
              "      gap: 12px;\n",
              "    }\n",
              "\n",
              "    .colab-df-convert {\n",
              "      background-color: #E8F0FE;\n",
              "      border: none;\n",
              "      border-radius: 50%;\n",
              "      cursor: pointer;\n",
              "      display: none;\n",
              "      fill: #1967D2;\n",
              "      height: 32px;\n",
              "      padding: 0 0 0 0;\n",
              "      width: 32px;\n",
              "    }\n",
              "\n",
              "    .colab-df-convert:hover {\n",
              "      background-color: #E2EBFA;\n",
              "      box-shadow: 0px 1px 2px rgba(60, 64, 67, 0.3), 0px 1px 3px 1px rgba(60, 64, 67, 0.15);\n",
              "      fill: #174EA6;\n",
              "    }\n",
              "\n",
              "    [theme=dark] .colab-df-convert {\n",
              "      background-color: #3B4455;\n",
              "      fill: #D2E3FC;\n",
              "    }\n",
              "\n",
              "    [theme=dark] .colab-df-convert:hover {\n",
              "      background-color: #434B5C;\n",
              "      box-shadow: 0px 1px 3px 1px rgba(0, 0, 0, 0.15);\n",
              "      filter: drop-shadow(0px 1px 2px rgba(0, 0, 0, 0.3));\n",
              "      fill: #FFFFFF;\n",
              "    }\n",
              "  </style>\n",
              "\n",
              "      <script>\n",
              "        const buttonEl =\n",
              "          document.querySelector('#df-3ae00fad-eefc-4169-923e-2d901d167f5f button.colab-df-convert');\n",
              "        buttonEl.style.display =\n",
              "          google.colab.kernel.accessAllowed ? 'block' : 'none';\n",
              "\n",
              "        async function convertToInteractive(key) {\n",
              "          const element = document.querySelector('#df-3ae00fad-eefc-4169-923e-2d901d167f5f');\n",
              "          const dataTable =\n",
              "            await google.colab.kernel.invokeFunction('convertToInteractive',\n",
              "                                                     [key], {});\n",
              "          if (!dataTable) return;\n",
              "\n",
              "          const docLinkHtml = 'Like what you see? Visit the ' +\n",
              "            '<a target=\"_blank\" href=https://colab.research.google.com/notebooks/data_table.ipynb>data table notebook</a>'\n",
              "            + ' to learn more about interactive tables.';\n",
              "          element.innerHTML = '';\n",
              "          dataTable['output_type'] = 'display_data';\n",
              "          await google.colab.output.renderOutput(dataTable, element);\n",
              "          const docLink = document.createElement('div');\n",
              "          docLink.innerHTML = docLinkHtml;\n",
              "          element.appendChild(docLink);\n",
              "        }\n",
              "      </script>\n",
              "    </div>\n",
              "  </div>\n",
              "  "
            ]
          },
          "metadata": {},
          "execution_count": 140
        }
      ]
    },
    {
      "cell_type": "markdown",
      "source": [
        "*Inference:-*\n",
        "\n",
        ">*The above tabular pivot report shows the count of premiums for different combinations of dwelling types and credit types.* \n",
        "\n",
        ">*It indicates that the highest premium count is for houses with high credit, followed by houses with medium credit and condos with high credit.*\n",
        "\n",
        ">*NOTE: It can be generalised that high credit score have high premium regardless of their dwelling type.*\n",
        "\n",
        ">*Also, the lowest premium count is for tenants for all the credit types, with minimum count of 3922.*"
      ],
      "metadata": {
        "id": "Vt5nWqDSXVv1"
      }
    },
    {
      "cell_type": "markdown",
      "source": [
        "\n",
        "5. **Premium amount for coverage type and Credit level**\n",
        "\n",
        "\n"
      ],
      "metadata": {
        "id": "KEvzvXW6vyv9"
      }
    },
    {
      "cell_type": "code",
      "source": [
        "# Let's create a pivot table for multi-variate analysis\n",
        "pd.pivot_table(df_pandas, values='premium', index=['coverage_type'], columns=['credit'], aggfunc='count')"
      ],
      "metadata": {
        "colab": {
          "base_uri": "https://localhost:8080/",
          "height": 175
        },
        "id": "qaxxgXnWuhg1",
        "outputId": "6907a42b-2c29-4de8-e85d-f8beca5e50bc"
      },
      "execution_count": null,
      "outputs": [
        {
          "output_type": "execute_result",
          "data": {
            "text/plain": [
              "credit          high   low  medium\n",
              "coverage_type                     \n",
              "A              25322  6607    8953\n",
              "B              17577  4589    6226\n",
              "C              31122  8269   10994"
            ],
            "text/html": [
              "\n",
              "  <div id=\"df-d31292e7-65f5-4d6a-bc16-f04ed0cda031\">\n",
              "    <div class=\"colab-df-container\">\n",
              "      <div>\n",
              "<style scoped>\n",
              "    .dataframe tbody tr th:only-of-type {\n",
              "        vertical-align: middle;\n",
              "    }\n",
              "\n",
              "    .dataframe tbody tr th {\n",
              "        vertical-align: top;\n",
              "    }\n",
              "\n",
              "    .dataframe thead th {\n",
              "        text-align: right;\n",
              "    }\n",
              "</style>\n",
              "<table border=\"1\" class=\"dataframe\">\n",
              "  <thead>\n",
              "    <tr style=\"text-align: right;\">\n",
              "      <th>credit</th>\n",
              "      <th>high</th>\n",
              "      <th>low</th>\n",
              "      <th>medium</th>\n",
              "    </tr>\n",
              "    <tr>\n",
              "      <th>coverage_type</th>\n",
              "      <th></th>\n",
              "      <th></th>\n",
              "      <th></th>\n",
              "    </tr>\n",
              "  </thead>\n",
              "  <tbody>\n",
              "    <tr>\n",
              "      <th>A</th>\n",
              "      <td>25322</td>\n",
              "      <td>6607</td>\n",
              "      <td>8953</td>\n",
              "    </tr>\n",
              "    <tr>\n",
              "      <th>B</th>\n",
              "      <td>17577</td>\n",
              "      <td>4589</td>\n",
              "      <td>6226</td>\n",
              "    </tr>\n",
              "    <tr>\n",
              "      <th>C</th>\n",
              "      <td>31122</td>\n",
              "      <td>8269</td>\n",
              "      <td>10994</td>\n",
              "    </tr>\n",
              "  </tbody>\n",
              "</table>\n",
              "</div>\n",
              "      <button class=\"colab-df-convert\" onclick=\"convertToInteractive('df-d31292e7-65f5-4d6a-bc16-f04ed0cda031')\"\n",
              "              title=\"Convert this dataframe to an interactive table.\"\n",
              "              style=\"display:none;\">\n",
              "        \n",
              "  <svg xmlns=\"http://www.w3.org/2000/svg\" height=\"24px\"viewBox=\"0 0 24 24\"\n",
              "       width=\"24px\">\n",
              "    <path d=\"M0 0h24v24H0V0z\" fill=\"none\"/>\n",
              "    <path d=\"M18.56 5.44l.94 2.06.94-2.06 2.06-.94-2.06-.94-.94-2.06-.94 2.06-2.06.94zm-11 1L8.5 8.5l.94-2.06 2.06-.94-2.06-.94L8.5 2.5l-.94 2.06-2.06.94zm10 10l.94 2.06.94-2.06 2.06-.94-2.06-.94-.94-2.06-.94 2.06-2.06.94z\"/><path d=\"M17.41 7.96l-1.37-1.37c-.4-.4-.92-.59-1.43-.59-.52 0-1.04.2-1.43.59L10.3 9.45l-7.72 7.72c-.78.78-.78 2.05 0 2.83L4 21.41c.39.39.9.59 1.41.59.51 0 1.02-.2 1.41-.59l7.78-7.78 2.81-2.81c.8-.78.8-2.07 0-2.86zM5.41 20L4 18.59l7.72-7.72 1.47 1.35L5.41 20z\"/>\n",
              "  </svg>\n",
              "      </button>\n",
              "      \n",
              "  <style>\n",
              "    .colab-df-container {\n",
              "      display:flex;\n",
              "      flex-wrap:wrap;\n",
              "      gap: 12px;\n",
              "    }\n",
              "\n",
              "    .colab-df-convert {\n",
              "      background-color: #E8F0FE;\n",
              "      border: none;\n",
              "      border-radius: 50%;\n",
              "      cursor: pointer;\n",
              "      display: none;\n",
              "      fill: #1967D2;\n",
              "      height: 32px;\n",
              "      padding: 0 0 0 0;\n",
              "      width: 32px;\n",
              "    }\n",
              "\n",
              "    .colab-df-convert:hover {\n",
              "      background-color: #E2EBFA;\n",
              "      box-shadow: 0px 1px 2px rgba(60, 64, 67, 0.3), 0px 1px 3px 1px rgba(60, 64, 67, 0.15);\n",
              "      fill: #174EA6;\n",
              "    }\n",
              "\n",
              "    [theme=dark] .colab-df-convert {\n",
              "      background-color: #3B4455;\n",
              "      fill: #D2E3FC;\n",
              "    }\n",
              "\n",
              "    [theme=dark] .colab-df-convert:hover {\n",
              "      background-color: #434B5C;\n",
              "      box-shadow: 0px 1px 3px 1px rgba(0, 0, 0, 0.15);\n",
              "      filter: drop-shadow(0px 1px 2px rgba(0, 0, 0, 0.3));\n",
              "      fill: #FFFFFF;\n",
              "    }\n",
              "  </style>\n",
              "\n",
              "      <script>\n",
              "        const buttonEl =\n",
              "          document.querySelector('#df-d31292e7-65f5-4d6a-bc16-f04ed0cda031 button.colab-df-convert');\n",
              "        buttonEl.style.display =\n",
              "          google.colab.kernel.accessAllowed ? 'block' : 'none';\n",
              "\n",
              "        async function convertToInteractive(key) {\n",
              "          const element = document.querySelector('#df-d31292e7-65f5-4d6a-bc16-f04ed0cda031');\n",
              "          const dataTable =\n",
              "            await google.colab.kernel.invokeFunction('convertToInteractive',\n",
              "                                                     [key], {});\n",
              "          if (!dataTable) return;\n",
              "\n",
              "          const docLinkHtml = 'Like what you see? Visit the ' +\n",
              "            '<a target=\"_blank\" href=https://colab.research.google.com/notebooks/data_table.ipynb>data table notebook</a>'\n",
              "            + ' to learn more about interactive tables.';\n",
              "          element.innerHTML = '';\n",
              "          dataTable['output_type'] = 'display_data';\n",
              "          await google.colab.output.renderOutput(dataTable, element);\n",
              "          const docLink = document.createElement('div');\n",
              "          docLink.innerHTML = docLinkHtml;\n",
              "          element.appendChild(docLink);\n",
              "        }\n",
              "      </script>\n",
              "    </div>\n",
              "  </div>\n",
              "  "
            ]
          },
          "metadata": {},
          "execution_count": 148
        }
      ]
    },
    {
      "cell_type": "markdown",
      "source": [
        "*Inference:-*\n",
        "\n",
        ">*The above pivot table shows the relationship between premium count and combination of credit type and coverage type.*\n",
        "\n",
        ">*It can be observed that the people with high credit have high premium across all coverage type, maximum. The lowest premium count is for coverage type B with low credit, with a minimum count of 4589.*\n",
        "\n",
        ">This indicates that customers with higher credit scores are more likely to opt for higher coverage options, resulting in higher premium counts.\n",
        "\n",
        ">Additionally, the lower premium counts for coverage type B and low credit may indicate that these customers are more budget-conscious and prefer lower coverage options."
      ],
      "metadata": {
        "id": "Es03FxFbZzWo"
      }
    },
    {
      "cell_type": "markdown",
      "metadata": {
        "id": "gA0qigdI8cGQ"
      },
      "source": [
        "# Data Cleaning and Feature Engineering "
      ]
    },
    {
      "cell_type": "markdown",
      "source": [
        "## Extracting States from zipcodes"
      ],
      "metadata": {
        "id": "eAS81fhHFYU2"
      }
    },
    {
      "cell_type": "code",
      "source": [
        "# Let's create states from zipcodes\n",
        "from pyspark.sql.functions import col, udf\n",
        "from pyspark.sql.types import StringType\n",
        "from uszipcode import SearchEngine\n",
        "\n",
        "# Define a function to extract state from zipcode\n",
        "def get_state_from_zip(zipcode):\n",
        "    search = SearchEngine()\n",
        "    try:\n",
        "        zipcode_data = search.by_zipcode(zipcode)\n",
        "        state = zipcode_data.state\n",
        "    except:\n",
        "        state = None\n",
        "    return state"
      ],
      "metadata": {
        "colab": {
          "base_uri": "https://localhost:8080/"
        },
        "id": "PJ2W6ykrZhd1",
        "outputId": "9b59be10-5c3c-4d67-91a3-353a1cfcfa47"
      },
      "execution_count": 10,
      "outputs": [
        {
          "output_type": "stream",
          "name": "stderr",
          "text": [
            "/usr/local/lib/python3.10/dist-packages/fuzzywuzzy/fuzz.py:11: UserWarning: Using slow pure-python SequenceMatcher. Install python-Levenshtein to remove this warning\n",
            "  warnings.warn('Using slow pure-python SequenceMatcher. Install python-Levenshtein to remove this warning')\n"
          ]
        }
      ]
    },
    {
      "cell_type": "code",
      "source": [
        "from pyspark.sql.functions import udf, regexp_replace\n",
        "from pyspark.sql.types import StringType\n",
        "\n",
        "# Define a user-defined function (UDF) to extract state from zip code\n",
        "get_state_udf = udf(get_state_from_zip, StringType())\n",
        "\n",
        "# Cast the zip code column to double type and then to string type to remove decimal point\n",
        "df_renamed = df_renamed.withColumn(\"zip_code\", col(\"zip_code\").cast(\"double\"))  # cast to double type\n",
        "df_renamed = df_renamed.withColumn(\"zip_code\", regexp_replace(col(\"zip_code\"), \"\\\\.0\", \"\").cast(\"string\"))  # cast to string type and remove decimal point\n",
        "\n",
        "# Apply the UDF to extract state from zip code\n",
        "df_renamed = df_renamed.withColumn(\"state\", get_state_udf(col(\"zip_code\")))\n",
        "\n",
        "# Repeat the same process for the test dataset\n",
        "df_test = df_test.withColumn(\"zip_code\", col(\"zip_code\").cast(\"double\"))  # cast to double type\n",
        "df_test = df_test.withColumn(\"zip_code\", regexp_replace(col(\"zip_code\"), \"\\\\.0\", \"\").cast(\"string\"))  # cast to string type and remove decimal point\n",
        "df_test = df_test.withColumn(\"state\", get_state_udf(col(\"zip_code\")))"
      ],
      "metadata": {
        "id": "yPWWnXFFZmxu"
      },
      "execution_count": 11,
      "outputs": []
    },
    {
      "cell_type": "code",
      "source": [
        "# Let's check our work\n",
        "df_renamed.show()"
      ],
      "metadata": {
        "colab": {
          "base_uri": "https://localhost:8080/"
        },
        "id": "t_Gwsj9vZsq7",
        "outputId": "efaa8fd2-3c06-46e9-8507-21a180500959"
      },
      "execution_count": null,
      "outputs": [
        {
          "output_type": "stream",
          "name": "stdout",
          "text": [
            "+-------+----+--------+-----------+------+----------+------+-------------+-------------+-----------------+-------------+---------+-----------------+--------+----------+------+---------+------+-----+\n",
            "|     id|year|zip_code|house_color|ni_age|len_at_res|credit|coverage_type|dwelling_type|          premium|sales_channel|ni_gender|ni_marital_status|n_adults|n_children|tenure|claim_ind|cancel|state|\n",
            "+-------+----+--------+-----------+------+----------+------+-------------+-------------+-----------------+-------------+---------+-----------------+--------+----------+------+---------+------+-----+\n",
            "| 688609|2016|   50001|      white|  44.0|      25.0|  high|            A|        Condo|      950.7386189|       Broker|        F|              1.0|     3.0|       0.0|  17.0|      0.0|     0|   IA|\n",
            "| 308155|2015|   50048|     yellow|  31.0|      22.0|  high|            B|       Tenant|      1003.420558|       Broker|        M|              0.0|     2.0|       0.0|   8.0|      1.0|     0|   IA|\n",
            "| 240486|2015|   98034|      white|  39.0|      17.0|   low|            C|        House|822.5538692000001|        Phone|        M|              1.0|     3.0|       0.0|   8.0|      0.0|     0|   WA|\n",
            "| 629942|2013|   98022|      white|  37.0|      22.0|  high|            B|        House|      827.0485096|        Phone|        F|              1.0|     1.0|       2.0|  16.0|      0.0|     0|   WA|\n",
            "| 532682|2013|   80011|        red|  39.0|      13.0|medium|            C|        Condo|      706.7646465|       Broker|        F|              1.0|     1.0|       0.0|  14.0|      0.0|     0|   CO|\n",
            "| 414845|2015|   50047|      white|  26.0|      14.0|  high|            C|        House|      999.6689768|       Broker|        M|              1.0|     4.0|       1.0|   4.0|      0.0|     0|   IA|\n",
            "| 717963|2015|   50012|       blue|  36.0|      17.0|  high|            A|       Tenant|      881.7901489|        Phone|        F|              1.0|     2.0|       1.0|   2.0|      1.0|     0|   IA|\n",
            "| 504339|2015|   50008|      white|  37.0|      12.0|medium|            A|       Tenant|824.6881802999999|       Broker|        F|              0.0|     4.0|       0.0|   0.0|      0.0|     0|   IA|\n",
            "| 982865|2015|   50039|        red|  47.0|      12.0|  high|            C|        House|      824.1878299|       Broker|        M|              1.0|     1.0|       3.0|  18.0|      1.0|     0|   IA|\n",
            "|  34431|2015|   85011|      white|  29.0|       6.0|  high|            A|        Condo|      1041.867835|       Broker|        F|              1.0|     1.0|       0.0|   6.0|      0.0|     0|   AZ|\n",
            "| 443508|2014|   15054|        red|  61.0|       8.0|  high|            A|        House|824.6099092999999|       Broker|        M|              1.0|     1.0|       1.0|  23.0|      0.0|     0|   PA|\n",
            "| 970618|2016|   15009|       blue|  42.0|      19.0|  high|            C|        House|      882.0434817|        Phone|        M|              0.0|     2.0|       1.0|  14.0|      0.0|     0|   PA|\n",
            "| 652399|2016|   80014|        red|  33.0|      13.0|   low|            C|        Condo|      902.3094373|       Broker|        F|              0.0|     1.0|       0.0|   6.0|      1.0|     0|   CO|\n",
            "| 123186|2013|   80002|       blue|  53.0|      13.0|medium|            B|        House|      767.0643712|       Broker|        M|              1.0|     3.0|       1.0|  15.0|      0.0|     0|   CO|\n",
            "| 215207|2014|   80016|      white|  49.0|      12.0|   low|            A|       Tenant|      965.7790739|       Broker|        M|              1.0|     3.0|       1.0|  19.0|      0.0|     0|   CO|\n",
            "|1036498|2015|   15043|       blue|  62.0|      14.0|  high|            A|        Condo|914.6389207999998|       Broker|        M|              0.0|     2.0|       0.0|  12.0|      0.0|     0|   PA|\n",
            "| 648594|2014|   85044|       blue|  47.0|      21.0|   low|            A|        Condo|      790.2149754|       Broker|        M|              1.0|     1.0|       1.0|  14.0|      0.0|     0|   AZ|\n",
            "| 550200|2015|   85030|       blue|  27.0|      25.0|medium|            A|        House|      942.5149163|        Phone|        F|              0.0|     1.0|       0.0|   7.0|      0.0|     0|   AZ|\n",
            "| 613401|2016|   15056|       blue|  51.0|      14.0|medium|            B|        House|      726.7544091|       Broker|        M|              0.0|     2.0|       0.0|  22.0|      0.0|     0|   PA|\n",
            "|1008646|2016|   15050|      white|  46.0|      10.0|  high|            A|       Tenant|       990.864223|        Phone|     null|              1.0|     3.0|       2.0|  15.0|      0.0|     0|   PA|\n",
            "+-------+----+--------+-----------+------+----------+------+-------------+-------------+-----------------+-------------+---------+-----------------+--------+----------+------+---------+------+-----+\n",
            "only showing top 20 rows\n",
            "\n"
          ]
        }
      ]
    },
    {
      "cell_type": "code",
      "execution_count": 12,
      "metadata": {
        "id": "b1aRM8rPFdXq"
      },
      "outputs": [],
      "source": [
        "# Let's remove zip and year as we won't be needing that column for modeling\n",
        "df_renamed = df_renamed.drop('zip_code')\n",
        "df_test = df_test.drop('zip_code')"
      ]
    },
    {
      "cell_type": "markdown",
      "source": [
        "## Checking Missing Values"
      ],
      "metadata": {
        "id": "oYCEsOLaCY6w"
      }
    },
    {
      "cell_type": "code",
      "execution_count": null,
      "metadata": {
        "colab": {
          "base_uri": "https://localhost:8080/"
        },
        "id": "PJKHgkX_FD8d",
        "outputId": "b2ea94fc-1ff8-469e-f60c-bf4c5556a943"
      },
      "outputs": [
        {
          "output_type": "stream",
          "name": "stdout",
          "text": [
            "Columns with null values: ['house_color', 'ni_age', 'len_at_res', 'credit', 'coverage_type', 'dwelling_type', 'premium', 'sales_channel', 'ni_gender', 'ni_marital_status', 'n_adults', 'n_children', 'tenure', 'claim_ind', 'state']\n"
          ]
        }
      ],
      "source": [
        "# Create an empty list to store column names with null values\n",
        "null_columns = []\n",
        "\n",
        "# Check for null values in each column\n",
        "for col_name in df_renamed.columns:\n",
        "    if df_renamed.filter(F.col(col_name).isNull()).count() > 0:\n",
        "        null_columns.append(col_name)\n",
        "\n",
        "# Print the list of columns with null values\n",
        "print(\"Columns with null values:\", null_columns)"
      ]
    },
    {
      "cell_type": "code",
      "execution_count": 13,
      "metadata": {
        "colab": {
          "base_uri": "https://localhost:8080/"
        },
        "id": "YmPu8cYPy1o2",
        "outputId": "2d1def7d-f00e-4c23-eee7-6e279c92b349"
      },
      "outputs": [
        {
          "output_type": "stream",
          "name": "stdout",
          "text": [
            "['len_at_res', 'premium', 'tenure', 'ni_age', 'n_adults', 'n_children']\n"
          ]
        }
      ],
      "source": [
        "# Let's create a list of columns that are numerical that will be imputed seperately\n",
        "\n",
        "CONTINUOUS_COLUMNS = [\n",
        "\"len_at_res\",\n",
        "\"premium\",\n",
        "\"tenure\",\n",
        "\"ni_age\",\n",
        "'n_adults', \n",
        "'n_children',\n",
        "]\n",
        "print(CONTINUOUS_COLUMNS)"
      ]
    },
    {
      "cell_type": "code",
      "execution_count": 14,
      "metadata": {
        "id": "caieQbCpCbwN"
      },
      "outputs": [],
      "source": [
        "# make continuous columns from string to double\n",
        "for column in CONTINUOUS_COLUMNS:\n",
        "  df_renamed = df_renamed.withColumn(column, F.col(column).cast(T.DoubleType()))\n",
        "  df_test = df_test.withColumn(column, F.col(column).cast(T.DoubleType())) #Cast the datatype"
      ]
    },
    {
      "cell_type": "markdown",
      "source": [
        "## Imputing missing values in Categorical Features"
      ],
      "metadata": {
        "id": "VgtnuT_SCmjp"
      }
    },
    {
      "cell_type": "code",
      "execution_count": 15,
      "metadata": {
        "colab": {
          "base_uri": "https://localhost:8080/"
        },
        "id": "a4M-9a1wRowl",
        "outputId": "9bbdb3f6-aae8-44ed-eb5f-41c53b2817e1"
      },
      "outputs": [
        {
          "output_type": "stream",
          "name": "stdout",
          "text": [
            "['house_color', 'credit', 'coverage_type', 'dwelling_type', 'sales_channel', 'ni_gender', 'ni_marital_status', 'claim_ind', 'state']\n"
          ]
        }
      ],
      "source": [
        "# Create a list of categorical columns\n",
        "CATEGORICAL_COLUMNS = [\n",
        "    x\n",
        "    for x in df_renamed.columns\n",
        "    if x not in CONTINUOUS_COLUMNS and x not in ['id', 'year','cancel']\n",
        "]\n",
        "print(CATEGORICAL_COLUMNS)"
      ]
    },
    {
      "cell_type": "code",
      "execution_count": 16,
      "metadata": {
        "id": "FTGX7ziFR2S2"
      },
      "outputs": [],
      "source": [
        "# Calculate the mode (most frequent value) for each column\n",
        "mode_values = df_renamed.agg(*[F.mode(c).alias(c) for c in CATEGORICAL_COLUMNS])\n",
        "\n",
        "# Impute missing values with mode values\n",
        "df_imputed = df_renamed.fillna(mode_values.first().asDict(), subset=CATEGORICAL_COLUMNS )\n",
        "df_test = df_test.fillna(mode_values.first().asDict(), subset=CATEGORICAL_COLUMNS )"
      ]
    },
    {
      "cell_type": "code",
      "execution_count": null,
      "metadata": {
        "colab": {
          "base_uri": "https://localhost:8080/"
        },
        "id": "YYa6HjWZoLIg",
        "outputId": "af3d9f88-a587-48c4-af37-6d0bb88d232b"
      },
      "outputs": [
        {
          "output_type": "stream",
          "name": "stdout",
          "text": [
            "+-------+----+-----------+------+----------+------+-------------+-------------+-----------------+-------------+---------+-----------------+--------+----------+------+---------+------+-----+\n",
            "|     id|year|house_color|ni_age|len_at_res|credit|coverage_type|dwelling_type|          premium|sales_channel|ni_gender|ni_marital_status|n_adults|n_children|tenure|claim_ind|cancel|state|\n",
            "+-------+----+-----------+------+----------+------+-------------+-------------+-----------------+-------------+---------+-----------------+--------+----------+------+---------+------+-----+\n",
            "| 688609|2016|      white|  44.0|      25.0|  high|            A|        Condo|      950.7386189|       Broker|        F|              1.0|     3.0|       0.0|  17.0|      0.0|     0|   IA|\n",
            "| 308155|2015|     yellow|  31.0|      22.0|  high|            B|       Tenant|      1003.420558|       Broker|        M|              0.0|     2.0|       0.0|   8.0|      1.0|     0|   IA|\n",
            "| 240486|2015|      white|  39.0|      17.0|   low|            C|        House|822.5538692000001|        Phone|        M|              1.0|     3.0|       0.0|   8.0|      0.0|     0|   WA|\n",
            "| 629942|2013|      white|  37.0|      22.0|  high|            B|        House|      827.0485096|        Phone|        F|              1.0|     1.0|       2.0|  16.0|      0.0|     0|   WA|\n",
            "| 532682|2013|        red|  39.0|      13.0|medium|            C|        Condo|      706.7646465|       Broker|        F|              1.0|     1.0|       0.0|  14.0|      0.0|     0|   CO|\n",
            "| 414845|2015|      white|  26.0|      14.0|  high|            C|        House|      999.6689768|       Broker|        M|              1.0|     4.0|       1.0|   4.0|      0.0|     0|   IA|\n",
            "| 717963|2015|       blue|  36.0|      17.0|  high|            A|       Tenant|      881.7901489|        Phone|        F|              1.0|     2.0|       1.0|   2.0|      1.0|     0|   IA|\n",
            "| 504339|2015|      white|  37.0|      12.0|medium|            A|       Tenant|824.6881802999999|       Broker|        F|              0.0|     4.0|       0.0|   0.0|      0.0|     0|   IA|\n",
            "| 982865|2015|        red|  47.0|      12.0|  high|            C|        House|      824.1878299|       Broker|        M|              1.0|     1.0|       3.0|  18.0|      1.0|     0|   IA|\n",
            "|  34431|2015|      white|  29.0|       6.0|  high|            A|        Condo|      1041.867835|       Broker|        F|              1.0|     1.0|       0.0|   6.0|      0.0|     0|   AZ|\n",
            "| 443508|2014|        red|  61.0|       8.0|  high|            A|        House|824.6099092999999|       Broker|        M|              1.0|     1.0|       1.0|  23.0|      0.0|     0|   PA|\n",
            "| 970618|2016|       blue|  42.0|      19.0|  high|            C|        House|      882.0434817|        Phone|        M|              0.0|     2.0|       1.0|  14.0|      0.0|     0|   PA|\n",
            "| 652399|2016|        red|  33.0|      13.0|   low|            C|        Condo|      902.3094373|       Broker|        F|              0.0|     1.0|       0.0|   6.0|      1.0|     0|   CO|\n",
            "| 123186|2013|       blue|  53.0|      13.0|medium|            B|        House|      767.0643712|       Broker|        M|              1.0|     3.0|       1.0|  15.0|      0.0|     0|   CO|\n",
            "| 215207|2014|      white|  49.0|      12.0|   low|            A|       Tenant|      965.7790739|       Broker|        M|              1.0|     3.0|       1.0|  19.0|      0.0|     0|   CO|\n",
            "|1036498|2015|       blue|  62.0|      14.0|  high|            A|        Condo|914.6389207999998|       Broker|        M|              0.0|     2.0|       0.0|  12.0|      0.0|     0|   PA|\n",
            "| 648594|2014|       blue|  47.0|      21.0|   low|            A|        Condo|      790.2149754|       Broker|        M|              1.0|     1.0|       1.0|  14.0|      0.0|     0|   AZ|\n",
            "| 550200|2015|       blue|  27.0|      25.0|medium|            A|        House|      942.5149163|        Phone|        F|              0.0|     1.0|       0.0|   7.0|      0.0|     0|   AZ|\n",
            "| 613401|2016|       blue|  51.0|      14.0|medium|            B|        House|      726.7544091|       Broker|        M|              0.0|     2.0|       0.0|  22.0|      0.0|     0|   PA|\n",
            "|1008646|2016|      white|  46.0|      10.0|  high|            A|       Tenant|       990.864223|        Phone|        M|              1.0|     3.0|       2.0|  15.0|      0.0|     0|   PA|\n",
            "+-------+----+-----------+------+----------+------+-------------+-------------+-----------------+-------------+---------+-----------------+--------+----------+------+---------+------+-----+\n",
            "only showing top 20 rows\n",
            "\n"
          ]
        }
      ],
      "source": [
        "# Let's check our dataframe\n",
        "df_imputed.show()"
      ]
    },
    {
      "cell_type": "code",
      "execution_count": null,
      "metadata": {
        "id": "TtgXFzHFTu8_",
        "colab": {
          "base_uri": "https://localhost:8080/"
        },
        "outputId": "43365540-3b6c-4955-a264-24cfc0a467a8"
      },
      "outputs": [
        {
          "output_type": "stream",
          "name": "stdout",
          "text": [
            "Columns with null values in train: ['ni_age', 'len_at_res', 'premium', 'n_adults', 'n_children', 'tenure']\n",
            "Columns with null values in test: ['ni_age', 'len_at_res', 'premium', 'n_adults', 'n_children', 'tenure']\n"
          ]
        }
      ],
      "source": [
        "# Let's check if our code has worked by checking columns having null once again\n",
        "# Create an empty list to store column names with null values\n",
        "null_columns_train = []\n",
        "null_columns_test = []\n",
        "\n",
        "\n",
        "# Check for null values in each column\n",
        "for col_name in df_imputed.columns:\n",
        "    if df_imputed.filter(F.col(col_name).isNull()).count() > 0:\n",
        "        null_columns_train.append(col_name)\n",
        "\n",
        "# Check for null values in each column\n",
        "for col_name in df_test.columns:\n",
        "    if df_test.filter(F.col(col_name).isNull()).count() > 0:\n",
        "        null_columns_test.append(col_name)\n",
        "\n",
        "# Print the list of columns with null values\n",
        "print(\"Columns with null values in train:\", null_columns_train)\n",
        "print(\"Columns with null values in test:\", null_columns_test)"
      ]
    },
    {
      "cell_type": "markdown",
      "source": [
        "## Imputing missing values in Numerical Features"
      ],
      "metadata": {
        "id": "TAE-sS-WCsHo"
      }
    },
    {
      "cell_type": "code",
      "execution_count": 17,
      "metadata": {
        "id": "5OexQ6ntpb8p",
        "colab": {
          "base_uri": "https://localhost:8080/"
        },
        "outputId": "c5343cc6-aa31-4ca0-c9e7-5f7f041b13a7"
      },
      "outputs": [
        {
          "output_type": "stream",
          "name": "stdout",
          "text": [
            "['len_at_res', 'premium', 'tenure']\n",
            "['ni_age', 'n_adults', 'n_children']\n"
          ]
        }
      ],
      "source": [
        "# Let's split our numerical columns into continuous and binning columns\n",
        "CONTINUOUS_COLUMNS = [\n",
        "\"len_at_res\",\n",
        "\"premium\",\n",
        "\"tenure\",\n",
        "]\n",
        "print(CONTINUOUS_COLUMNS)\n",
        "BINNING_COLUMNS = [\n",
        "\"ni_age\",\n",
        "'n_adults', \n",
        "'n_children',\n",
        "]    \n",
        "print(BINNING_COLUMNS)"
      ]
    },
    {
      "cell_type": "code",
      "execution_count": 18,
      "metadata": {
        "id": "LTD3zWTjpxO_",
        "colab": {
          "base_uri": "https://localhost:8080/"
        },
        "outputId": "0289d851-abe3-4950-caaa-867942c55d45"
      },
      "outputs": [
        {
          "output_type": "stream",
          "name": "stdout",
          "text": [
            "+-------+----+-----------+------+----------+------+-------------+-------------+-----------------+-------------+---------+-----------------+--------+----------+------+---------+------+-----+--------+----------+------------+\n",
            "|id     |year|house_color|ni_age|len_at_res|credit|coverage_type|dwelling_type|premium          |sales_channel|ni_gender|ni_marital_status|n_adults|n_children|tenure|claim_ind|cancel|state|ni_age_i|n_adults_i|n_children_i|\n",
            "+-------+----+-----------+------+----------+------+-------------+-------------+-----------------+-------------+---------+-----------------+--------+----------+------+---------+------+-----+--------+----------+------------+\n",
            "|688609 |2016|white      |44.0  |25.0      |high  |A            |Condo        |950.7386189      |Broker       |F        |1.0              |3.0     |0.0       |17.0  |0.0      |0     |IA   |44.0    |3.0       |0.0         |\n",
            "|308155 |2015|yellow     |31.0  |22.0      |high  |B            |Tenant       |1003.420558      |Broker       |M        |0.0              |2.0     |0.0       |8.0   |1.0      |0     |IA   |31.0    |2.0       |0.0         |\n",
            "|240486 |2015|white      |39.0  |17.0      |low   |C            |House        |822.5538692000001|Phone        |M        |1.0              |3.0     |0.0       |8.0   |0.0      |0     |WA   |39.0    |3.0       |0.0         |\n",
            "|629942 |2013|white      |37.0  |22.0      |high  |B            |House        |827.0485096      |Phone        |F        |1.0              |1.0     |2.0       |16.0  |0.0      |0     |WA   |37.0    |1.0       |2.0         |\n",
            "|532682 |2013|red        |39.0  |13.0      |medium|C            |Condo        |706.7646465      |Broker       |F        |1.0              |1.0     |0.0       |14.0  |0.0      |0     |CO   |39.0    |1.0       |0.0         |\n",
            "|414845 |2015|white      |26.0  |14.0      |high  |C            |House        |999.6689768      |Broker       |M        |1.0              |4.0     |1.0       |4.0   |0.0      |0     |IA   |26.0    |4.0       |1.0         |\n",
            "|717963 |2015|blue       |36.0  |17.0      |high  |A            |Tenant       |881.7901489      |Phone        |F        |1.0              |2.0     |1.0       |2.0   |1.0      |0     |IA   |36.0    |2.0       |1.0         |\n",
            "|504339 |2015|white      |37.0  |12.0      |medium|A            |Tenant       |824.6881802999999|Broker       |F        |0.0              |4.0     |0.0       |0.0   |0.0      |0     |IA   |37.0    |4.0       |0.0         |\n",
            "|982865 |2015|red        |47.0  |12.0      |high  |C            |House        |824.1878299      |Broker       |M        |1.0              |1.0     |3.0       |18.0  |1.0      |0     |IA   |47.0    |1.0       |3.0         |\n",
            "|34431  |2015|white      |29.0  |6.0       |high  |A            |Condo        |1041.867835      |Broker       |F        |1.0              |1.0     |0.0       |6.0   |0.0      |0     |AZ   |29.0    |1.0       |0.0         |\n",
            "|443508 |2014|red        |61.0  |8.0       |high  |A            |House        |824.6099092999999|Broker       |M        |1.0              |1.0     |1.0       |23.0  |0.0      |0     |PA   |61.0    |1.0       |1.0         |\n",
            "|970618 |2016|blue       |42.0  |19.0      |high  |C            |House        |882.0434817      |Phone        |M        |0.0              |2.0     |1.0       |14.0  |0.0      |0     |PA   |42.0    |2.0       |1.0         |\n",
            "|652399 |2016|red        |33.0  |13.0      |low   |C            |Condo        |902.3094373      |Broker       |F        |0.0              |1.0     |0.0       |6.0   |1.0      |0     |CO   |33.0    |1.0       |0.0         |\n",
            "|123186 |2013|blue       |53.0  |13.0      |medium|B            |House        |767.0643712      |Broker       |M        |1.0              |3.0     |1.0       |15.0  |0.0      |0     |CO   |53.0    |3.0       |1.0         |\n",
            "|215207 |2014|white      |49.0  |12.0      |low   |A            |Tenant       |965.7790739      |Broker       |M        |1.0              |3.0     |1.0       |19.0  |0.0      |0     |CO   |49.0    |3.0       |1.0         |\n",
            "|1036498|2015|blue       |62.0  |14.0      |high  |A            |Condo        |914.6389207999998|Broker       |M        |0.0              |2.0     |0.0       |12.0  |0.0      |0     |PA   |62.0    |2.0       |0.0         |\n",
            "|648594 |2014|blue       |47.0  |21.0      |low   |A            |Condo        |790.2149754      |Broker       |M        |1.0              |1.0     |1.0       |14.0  |0.0      |0     |AZ   |47.0    |1.0       |1.0         |\n",
            "|550200 |2015|blue       |27.0  |25.0      |medium|A            |House        |942.5149163      |Phone        |F        |0.0              |1.0     |0.0       |7.0   |0.0      |0     |AZ   |27.0    |1.0       |0.0         |\n",
            "|613401 |2016|blue       |51.0  |14.0      |medium|B            |House        |726.7544091      |Broker       |M        |0.0              |2.0     |0.0       |22.0  |0.0      |0     |PA   |51.0    |2.0       |0.0         |\n",
            "|1008646|2016|white      |46.0  |10.0      |high  |A            |Tenant       |990.864223       |Phone        |M        |1.0              |3.0     |2.0       |15.0  |0.0      |0     |PA   |46.0    |3.0       |2.0         |\n",
            "+-------+----+-----------+------+----------+------+-------------+-------------+-----------------+-------------+---------+-----------------+--------+----------+------+---------+------+-----+--------+----------+------------+\n",
            "only showing top 20 rows\n",
            "\n"
          ]
        }
      ],
      "source": [
        "# Let's impute the median values in our binning columns using Imputer class from PySpark ML library\n",
        "# Set the stages for the binning columns pipeline\n",
        "from pyspark.ml import Pipeline\n",
        "import pyspark.ml.feature as MF\n",
        "\n",
        "# The list of original column names for which we are creating imputed columns\n",
        "OLD_COLS = ['ni_age', 'n_adults', 'n_children']\n",
        "\n",
        "# The list of new column names created after imputing\n",
        "NEW_COLS = ['ni_age_i','n_adults_i', 'n_children_i']\n",
        "\n",
        "# Create an instance of Imputer class from PySpark ML library with median imputation strategy\n",
        "imputer = MF.Imputer(\n",
        "    strategy=\"median\",\n",
        "    inputCols=OLD_COLS,                           \n",
        "    outputCols=NEW_COLS,\n",
        ")\n",
        "\n",
        "# Fit the imputer model on the training data\n",
        "imputer_model = imputer.fit(df_imputed) \n",
        "\n",
        "# Use the imputer model to transform the training data\n",
        "df_final = imputer_model.transform(df_imputed)\n",
        "\n",
        "# Use the imputer model to transform the test data\n",
        "df_test = imputer_model.transform(df_test)\n",
        "\n",
        "# Display the resulting data frame after median imputation\n",
        "df_final.show(truncate=False)"
      ]
    },
    {
      "cell_type": "markdown",
      "source": [
        "### Pipeline for Transformation of continuous features"
      ],
      "metadata": {
        "id": "DnzY7-ymC6ix"
      }
    },
    {
      "cell_type": "code",
      "execution_count": 19,
      "metadata": {
        "id": "xgnGUCQ48IdJ"
      },
      "outputs": [],
      "source": [
        "# Let's create a pipeline for continuous columns\n",
        "\n",
        "# Define the list of columns we want to impute, and the names of the new columns\n",
        "OLD_COLS = ['len_at_res', 'premium', 'tenure']\n",
        "NEW_COLS = ['len_at_res_i', 'premium_i', 'tenure_i']\n",
        "\n",
        "# Create an imputer transformer to fill missing values with the median of each column\n",
        "imputer = MF.Imputer(\n",
        "    strategy=\"median\",\n",
        "    inputCols=OLD_COLS,                           \n",
        "    outputCols=NEW_COLS,\n",
        ")\n",
        "\n",
        "# Create a vector assembler transformer to combine the imputed columns into a single vector\n",
        "continuous_assembler = MF.VectorAssembler(   \n",
        "    inputCols=NEW_COLS,\n",
        "    outputCol=\"continuous\",\n",
        ")\n",
        "\n",
        "# Create a MinMaxScaler transformer to scale the continuous features between 0 and 1\n",
        "continuous_scaler = MF.MinMaxScaler(         \n",
        "     inputCol=\"continuous\",\n",
        "   outputCol=\"continuous_scaled\",\n",
        ")\n",
        "\n",
        "# Create a pipeline to apply the imputer, vector assembler, and scaler transformers in sequence\n",
        "train_pipeline = Pipeline(                    \n",
        "     stages=[imputer, continuous_assembler, continuous_scaler]\n",
        ")"
      ]
    },
    {
      "cell_type": "code",
      "execution_count": 20,
      "metadata": {
        "id": "G4CwYh44DE_q",
        "colab": {
          "base_uri": "https://localhost:8080/"
        },
        "outputId": "384b3bc8-e450-463f-817a-7c876c1f1ee9"
      },
      "outputs": [
        {
          "output_type": "stream",
          "name": "stdout",
          "text": [
            "+------+------------------------------+\n",
            "|cancel|             continuous_scaled|\n",
            "+------+------------------------------+\n",
            "|     0|[0.47928493771387476,0.5412...|\n",
            "|     0|[0.4167695110555433,0.62614...|\n",
            "|     0|[0.3125771332916574,0.33476...|\n",
            "|     0|[0.4167695110555433,0.34200...|\n",
            "|     0|[0.2292232310805488,0.14821...|\n",
            "+------+------------------------------+\n",
            "only showing top 5 rows\n",
            "\n"
          ]
        }
      ],
      "source": [
        "# Set the stages for the continuous columns pipeline\n",
        "train_pipeline.setStages(\n",
        "    [imputer, continuous_assembler, continuous_scaler]\n",
        ")\n",
        " \n",
        "# Update the list of continuous columns to include the new columns generated by the pipeline\n",
        "CONTINUOUS_COLUMNS = (\n",
        "    list(set(CONTINUOUS_COLUMNS) - set(OLD_COLS)) + NEW_COLS  \n",
        ")\n",
        "\n",
        "# Fit the pipeline model on the training dataset\n",
        "train_pipeline_model = train_pipeline.fit(df_final)  \n",
        "\n",
        "# Transform the training and test datasets with the pipeline model to include the new continuous columns\n",
        "train_features = train_pipeline_model.transform(df_final)\n",
        "df_test = train_pipeline_model.transform(df_test)\n",
        "\n",
        "# Display the \"cancel\" and \"continuous_scaled\" columns for the first five rows of the transformed training dataset\n",
        "train_features.select(\"cancel\", \"continuous_scaled\").show(5, truncate=30)"
      ]
    },
    {
      "cell_type": "code",
      "execution_count": 21,
      "metadata": {
        "id": "mXuEBgRxrASe"
      },
      "outputs": [],
      "source": [
        "# Let's drop the columns not needed\n",
        "# Now we can drop \"ni age\", \"n adults\", \"n children\", \"age_bin\", \"adult_bin\", \"child_bin\"\n",
        "columns_to_drop = ['ni_age', 'len_at_res', 'premium', 'tenure', 'n_adults', 'n_children']\n",
        "\n",
        "# Drop the columns\n",
        "train_features = train_features.drop(*columns_to_drop)\n",
        "df_test = df_test.drop(*columns_to_drop)"
      ]
    },
    {
      "cell_type": "code",
      "execution_count": 22,
      "metadata": {
        "id": "kp4UN6E9WLe6",
        "colab": {
          "base_uri": "https://localhost:8080/"
        },
        "outputId": "3b9920cf-bf5f-423b-8ed5-bc495ed04e3c"
      },
      "outputs": [
        {
          "output_type": "stream",
          "name": "stdout",
          "text": [
            "Columns with null values in train: []\n",
            "Columns with null values in test: []\n"
          ]
        }
      ],
      "source": [
        "# Let's check if our code has worked by checking for missing values\n",
        "# Create an empty list to store column names with null values\n",
        "null_columns_train = []\n",
        "null_columns_test = []\n",
        "\n",
        "\n",
        "# Check for null values in each column\n",
        "for col_name in train_features.columns:\n",
        "    if train_features.filter(F.col(col_name).isNull()).count() > 0:\n",
        "        null_columns_train.append(col_name)\n",
        "\n",
        "# Check for null values in each column\n",
        "for col_name in df_test.columns:\n",
        "    if df_test.filter(F.col(col_name).isNull()).count() > 0:\n",
        "        null_columns_test.append(col_name)\n",
        "\n",
        "# Print the list of columns with null values\n",
        "print(\"Columns with null values in train:\", null_columns_train)\n",
        "print(\"Columns with null values in test:\", null_columns_test)"
      ]
    },
    {
      "cell_type": "code",
      "execution_count": null,
      "metadata": {
        "id": "tPfI-PHsf8Km",
        "colab": {
          "base_uri": "https://localhost:8080/"
        },
        "outputId": "636322c4-3ff4-4551-9c67-f4fa71df498c"
      },
      "outputs": [
        {
          "output_type": "stream",
          "name": "stdout",
          "text": [
            "+-------+------------------+------------------+-----------------+------------------+------------------+------------------+\n",
            "|summary|          ni_age_i|      len_at_res_i|        premium_i|          tenure_i|        n_adults_i|      n_children_i|\n",
            "+-------+------------------+------------------+-----------------+------------------+------------------+------------------+\n",
            "|   mean|43.545098894471494|15.197963502375263|899.8208192093799|11.660558333333332|2.1345916666666667|1.7363916666666668|\n",
            "| stddev| 12.37295785134236| 4.554005928463922|77.75382414264597| 5.929603473806268| 1.249262351176647| 2.349215820237747|\n",
            "|    min|              18.0|               2.0|614.7618825000001|               0.0|               1.0|               0.0|\n",
            "|     1%|              22.0|               7.0|      730.4598276|               0.0|               1.0|               0.0|\n",
            "|    25%|              35.0|              12.0|      843.6975149|               6.0|               1.0|               0.0|\n",
            "|    50%|              43.0|              15.0|899.5015582999998|              13.0|               2.0|               1.0|\n",
            "|    75%|              51.0|              18.0|       955.396229|              16.0|               3.0|               2.0|\n",
            "|    99%|              76.0|              28.0|      1074.498135|              23.0|               6.0|              10.0|\n",
            "|    max|       318.6773963|       49.98815525|      1235.480942|              32.0|              10.0|              12.0|\n",
            "+-------+------------------+------------------+-----------------+------------------+------------------+------------------+\n",
            "\n"
          ]
        }
      ],
      "source": [
        "# Let's check the distribution of continuous features to check for outliers\n",
        "\n",
        "train_features.select(['ni_age_i', 'len_at_res_i', 'premium_i', 'tenure_i', 'n_adults_i', 'n_children_i']).summary(\n",
        "\"mean\",\n",
        "\"stddev\",\n",
        "\"min\",\n",
        "\"1%\",\n",
        "\"25%\",\n",
        "\"50%\",\n",
        "\"75%\",\n",
        "\"99%\",\n",
        "\"max\",\n",
        ").show()"
      ]
    },
    {
      "cell_type": "markdown",
      "source": [
        "## Outlier Correction"
      ],
      "metadata": {
        "id": "iOXVis5aBhxr"
      }
    },
    {
      "cell_type": "code",
      "execution_count": null,
      "metadata": {
        "id": "G6zmvovyRl1a",
        "colab": {
          "base_uri": "https://localhost:8080/"
        },
        "outputId": "44ea7a25-152d-4a1f-b41e-b937a532ffaf"
      },
      "outputs": [
        {
          "output_type": "execute_result",
          "data": {
            "text/plain": [
              "69"
            ]
          },
          "metadata": {},
          "execution_count": 36
        }
      ],
      "source": [
        "# We can see that we have max age as 318\n",
        "# let's check for how many entries we have age > 110\n",
        "train_features.filter(F.col(\"ni_age_i\") > 110).count()"
      ]
    },
    {
      "cell_type": "code",
      "execution_count": 23,
      "metadata": {
        "id": "Dc2pd_R8Wvaf"
      },
      "outputs": [],
      "source": [
        "# let's impute values of age > 110 by 110 \n",
        "from pyspark.sql.functions import when, col\n",
        "\n",
        "train_features = train_features.withColumn(\n",
        "    \"ni_age_i\",\n",
        "    when(col(\"ni_age_i\") > 110, 110).otherwise(col(\"ni_age_i\"))\n",
        ")\n",
        "df_test = df_test.withColumn(\n",
        "    \"ni_age_i\",\n",
        "    when(col(\"ni_age_i\") > 110, 110).otherwise(col(\"ni_age_i\"))\n",
        ")"
      ]
    },
    {
      "cell_type": "markdown",
      "source": [
        "## Creating buckets using Bucketizer"
      ],
      "metadata": {
        "id": "TZes-i8CBNCV"
      }
    },
    {
      "cell_type": "markdown",
      "source": [
        "Features like Age, No. of adults and no. of children could be transformed into buckets as this could provide us better inference when we create our model"
      ],
      "metadata": {
        "id": "-7t3RLFTBzCk"
      }
    },
    {
      "cell_type": "code",
      "execution_count": 24,
      "metadata": {
        "id": "7-acaAQFn1XZ",
        "colab": {
          "base_uri": "https://localhost:8080/"
        },
        "outputId": "2fc4461b-4180-409b-f723-3f268fdc62b4"
      },
      "outputs": [
        {
          "output_type": "stream",
          "name": "stdout",
          "text": [
            "+-------+----+-----------+------+-------------+-------------+-------------+---------+-----------------+---------+------+-----+--------+----------+------------+------------+-----------------+--------+--------------------+--------------------+-------+---------+---------+\n",
            "|     id|year|house_color|credit|coverage_type|dwelling_type|sales_channel|ni_gender|ni_marital_status|claim_ind|cancel|state|ni_age_i|n_adults_i|n_children_i|len_at_res_i|        premium_i|tenure_i|          continuous|   continuous_scaled|age_bin|adult_bin|child_bin|\n",
            "+-------+----+-----------+------+-------------+-------------+-------------+---------+-----------------+---------+------+-----+--------+----------+------------+------------+-----------------+--------+--------------------+--------------------+-------+---------+---------+\n",
            "| 688609|2016|      white|  high|            A|        Condo|       Broker|        F|              1.0|      0.0|     0|   IA|    44.0|       3.0|         0.0|        25.0|      950.7386189|    17.0|[25.0,950.7386189...|[0.47928493771387...|    2.0|      3.0|      0.0|\n",
            "| 308155|2015|     yellow|  high|            B|       Tenant|       Broker|        M|              0.0|      1.0|     0|   IA|    31.0|       2.0|         0.0|        22.0|      1003.420558|     8.0|[22.0,1003.420558...|[0.41676951105554...|    1.0|      2.0|      0.0|\n",
            "| 240486|2015|      white|   low|            C|        House|        Phone|        M|              1.0|      0.0|     0|   WA|    39.0|       3.0|         0.0|        17.0|822.5538692000001|     8.0|[17.0,822.5538692...|[0.31257713329165...|    1.0|      3.0|      0.0|\n",
            "| 629942|2013|      white|  high|            B|        House|        Phone|        F|              1.0|      0.0|     0|   WA|    37.0|       1.0|         2.0|        22.0|      827.0485096|    16.0|[22.0,827.0485096...|[0.41676951105554...|    1.0|      1.0|      2.0|\n",
            "| 532682|2013|        red|medium|            C|        Condo|       Broker|        F|              1.0|      0.0|     0|   CO|    39.0|       1.0|         0.0|        13.0|      706.7646465|    14.0|[13.0,706.7646465...|[0.22922323108054...|    1.0|      1.0|      0.0|\n",
            "| 414845|2015|      white|  high|            C|        House|       Broker|        M|              1.0|      0.0|     0|   IA|    26.0|       4.0|         1.0|        14.0|      999.6689768|     4.0|[14.0,999.6689768...|[0.25006170663332...|    0.0|      4.0|      1.0|\n",
            "| 717963|2015|       blue|  high|            A|       Tenant|        Phone|        F|              1.0|      1.0|     0|   IA|    36.0|       2.0|         1.0|        17.0|      881.7901489|     2.0|[17.0,881.7901489...|[0.31257713329165...|    1.0|      2.0|      1.0|\n",
            "| 504339|2015|      white|medium|            A|       Tenant|       Broker|        F|              0.0|      0.0|     0|   IA|    37.0|       4.0|         0.0|        12.0|824.6881802999999|     0.0|[12.0,824.6881802...|[0.20838475552777...|    1.0|      4.0|      0.0|\n",
            "| 982865|2015|        red|  high|            C|        House|       Broker|        M|              1.0|      1.0|     0|   IA|    47.0|       1.0|         3.0|        12.0|      824.1878299|    18.0|[12.0,824.1878299...|[0.20838475552777...|    2.0|      1.0|      3.0|\n",
            "|  34431|2015|      white|  high|            A|        Condo|       Broker|        F|              1.0|      0.0|     0|   AZ|    29.0|       1.0|         0.0|         6.0|      1041.867835|     6.0|[6.0,1041.867835,...|[0.08335390221110...|    0.0|      1.0|      0.0|\n",
            "| 443508|2014|        red|  high|            A|        House|       Broker|        M|              1.0|      0.0|     0|   PA|    61.0|       1.0|         1.0|         8.0|824.6099092999999|    23.0|[8.0,824.60990929...|[0.12503085331666...|    4.0|      1.0|      1.0|\n",
            "| 970618|2016|       blue|  high|            C|        House|        Phone|        M|              0.0|      0.0|     0|   PA|    42.0|       2.0|         1.0|        19.0|      882.0434817|    14.0|[19.0,882.0434817...|[0.35425408439721...|    2.0|      2.0|      1.0|\n",
            "| 652399|2016|        red|   low|            C|        Condo|       Broker|        F|              0.0|      1.0|     0|   CO|    33.0|       1.0|         0.0|        13.0|      902.3094373|     6.0|[13.0,902.3094373...|[0.22922323108054...|    1.0|      1.0|      0.0|\n",
            "| 123186|2013|       blue|medium|            B|        House|       Broker|        M|              1.0|      0.0|     0|   CO|    53.0|       3.0|         1.0|        13.0|      767.0643712|    15.0|[13.0,767.0643712...|[0.22922323108054...|    3.0|      3.0|      1.0|\n",
            "| 215207|2014|      white|   low|            A|       Tenant|       Broker|        M|              1.0|      0.0|     0|   CO|    49.0|       3.0|         1.0|        12.0|      965.7790739|    19.0|[12.0,965.7790739...|[0.20838475552777...|    2.0|      3.0|      1.0|\n",
            "|1036498|2015|       blue|  high|            A|        Condo|       Broker|        M|              0.0|      0.0|     0|   PA|    62.0|       2.0|         0.0|        14.0|914.6389207999998|    12.0|[14.0,914.6389207...|[0.25006170663332...|    4.0|      2.0|      0.0|\n",
            "| 648594|2014|       blue|   low|            A|        Condo|       Broker|        M|              1.0|      0.0|     0|   AZ|    47.0|       1.0|         1.0|        21.0|      790.2149754|    14.0|[21.0,790.2149754...|[0.39593103550276...|    2.0|      1.0|      1.0|\n",
            "| 550200|2015|       blue|medium|            A|        House|        Phone|        F|              0.0|      0.0|     0|   AZ|    27.0|       1.0|         0.0|        25.0|      942.5149163|     7.0|[25.0,942.5149163...|[0.47928493771387...|    0.0|      1.0|      0.0|\n",
            "| 613401|2016|       blue|medium|            B|        House|       Broker|        M|              0.0|      0.0|     0|   PA|    51.0|       2.0|         0.0|        14.0|      726.7544091|    22.0|[14.0,726.7544091...|[0.25006170663332...|    3.0|      2.0|      0.0|\n",
            "|1008646|2016|      white|  high|            A|       Tenant|        Phone|        M|              1.0|      0.0|     0|   PA|    46.0|       3.0|         2.0|        10.0|       990.864223|    15.0|[10.0,990.864223,...|[0.16670780442221...|    2.0|      3.0|      2.0|\n",
            "+-------+----+-----------+------+-------------+-------------+-------------+---------+-----------------+---------+------+-----+--------+----------+------------+------------+-----------------+--------+--------------------+--------------------+-------+---------+---------+\n",
            "only showing top 20 rows\n",
            "\n"
          ]
        }
      ],
      "source": [
        "from pyspark.ml.feature import Bucketizer\n",
        "from pyspark.sql.functions import col\n",
        "\n",
        "# Define splits for age column\n",
        "age_splits = [float('-inf'), 30, 40, 50, 60, float('inf')]\n",
        "\n",
        "# Define splits for n adults column\n",
        "adult_splits = [float('-inf'), 1, 2, 3, 4, float('inf')]\n",
        "\n",
        "# Define splits for n children column\n",
        "child_splits = [float('-inf'), 1, 2, 3,  float('inf')]\n",
        "\n",
        "# Create bucketizer instances for each column\n",
        "age_bucketizer = Bucketizer(splits=age_splits, inputCol='ni_age_i', outputCol='age_bin')\n",
        "adult_bucketizer = Bucketizer(splits=adult_splits, inputCol='n_adults_i', outputCol='adult_bin')\n",
        "child_bucketizer = Bucketizer(splits=child_splits, inputCol='n_children_i', outputCol='child_bin')\n",
        "\n",
        "# Apply bucketizers to DataFrame\n",
        "df_binned = age_bucketizer.transform(train_features)\n",
        "df_binned = adult_bucketizer.transform(df_binned)\n",
        "df_binned = child_bucketizer.transform(df_binned)\n",
        "\n",
        "df_test = age_bucketizer.transform(df_test)\n",
        "df_test = adult_bucketizer.transform(df_test)\n",
        "df_test = child_bucketizer.transform(df_test)\n",
        "\n",
        "df_binned.show()"
      ]
    },
    {
      "cell_type": "code",
      "execution_count": 25,
      "metadata": {
        "id": "1jeT8tp9syMc"
      },
      "outputs": [],
      "source": [
        "# Let's provide the buckets some meaningfull names to make sense of these buckets\n",
        "\n",
        "from pyspark.sql.functions import udf\n",
        "# Define function to recode buckets as strings\n",
        "def age_recode(bucket):\n",
        "    if bucket == 0:\n",
        "        return \"18-29\"\n",
        "    elif bucket == 1:\n",
        "        return \"30-39\"\n",
        "    elif bucket == 2:\n",
        "        return \"40-49\"\n",
        "    elif bucket == 3:\n",
        "        return \"50-59\"\n",
        "    else:\n",
        "        return \"60+\"\n",
        "\n",
        "# Create udf\n",
        "age_recode_udf = udf(lambda x: age_recode(x))\n",
        "# Apply udf to age_bucket column\n",
        "df_binned = df_binned.withColumn(\"age_bucket_label\", age_recode_udf(\"age_bin\"))\n",
        "df_test = df_test.withColumn(\"age_bucket_label\", age_recode_udf(\"age_bin\"))"
      ]
    },
    {
      "cell_type": "code",
      "execution_count": 26,
      "metadata": {
        "id": "SVtN7igNthoP"
      },
      "outputs": [],
      "source": [
        "# Define function to recode buckets as strings\n",
        "def adult_recode(bucket):\n",
        "    if bucket == 0:\n",
        "        return \"0\"\n",
        "    elif bucket == 1:\n",
        "        return \"1\"\n",
        "    elif bucket == 2:\n",
        "        return \"2\"\n",
        "    elif bucket == 3:\n",
        "        return \"3\"\n",
        "    else:\n",
        "        return \"3+\"\n",
        "# Create udf\n",
        "adult_recode_udf = udf(lambda x: adult_recode(x))\n",
        "# Apply udf to age_bucket column\n",
        "df_binned = df_binned.withColumn(\"adult_bucket_label\", adult_recode_udf(\"adult_bin\"))\n",
        "df_test = df_test.withColumn(\"adult_bucket_label\", adult_recode_udf(\"adult_bin\"))"
      ]
    },
    {
      "cell_type": "code",
      "execution_count": 27,
      "metadata": {
        "id": "0Rh6wQ8MtkL0",
        "colab": {
          "base_uri": "https://localhost:8080/"
        },
        "outputId": "fb45db5c-779d-4f71-9b12-5f28d371b4ba"
      },
      "outputs": [
        {
          "output_type": "stream",
          "name": "stdout",
          "text": [
            "+-------+----+-----------+------+-------------+-------------+-------------+---------+-----------------+---------+------+-----+--------+----------+------------+------------+-----------------+--------+--------------------+--------------------+-------+---------+---------+----------------+------------------+------------------+\n",
            "|     id|year|house_color|credit|coverage_type|dwelling_type|sales_channel|ni_gender|ni_marital_status|claim_ind|cancel|state|ni_age_i|n_adults_i|n_children_i|len_at_res_i|        premium_i|tenure_i|          continuous|   continuous_scaled|age_bin|adult_bin|child_bin|age_bucket_label|adult_bucket_label|child_bucket_label|\n",
            "+-------+----+-----------+------+-------------+-------------+-------------+---------+-----------------+---------+------+-----+--------+----------+------------+------------+-----------------+--------+--------------------+--------------------+-------+---------+---------+----------------+------------------+------------------+\n",
            "| 688609|2016|      white|  high|            A|        Condo|       Broker|        F|              1.0|      0.0|     0|   IA|    44.0|       3.0|         0.0|        25.0|      950.7386189|    17.0|[25.0,950.7386189...|[0.47928493771387...|    2.0|      3.0|      0.0|           40-49|                 3|                 0|\n",
            "| 308155|2015|     yellow|  high|            B|       Tenant|       Broker|        M|              0.0|      1.0|     0|   IA|    31.0|       2.0|         0.0|        22.0|      1003.420558|     8.0|[22.0,1003.420558...|[0.41676951105554...|    1.0|      2.0|      0.0|           30-39|                 2|                 0|\n",
            "| 240486|2015|      white|   low|            C|        House|        Phone|        M|              1.0|      0.0|     0|   WA|    39.0|       3.0|         0.0|        17.0|822.5538692000001|     8.0|[17.0,822.5538692...|[0.31257713329165...|    1.0|      3.0|      0.0|           30-39|                 3|                 0|\n",
            "| 629942|2013|      white|  high|            B|        House|        Phone|        F|              1.0|      0.0|     0|   WA|    37.0|       1.0|         2.0|        22.0|      827.0485096|    16.0|[22.0,827.0485096...|[0.41676951105554...|    1.0|      1.0|      2.0|           30-39|                 1|                 2|\n",
            "| 532682|2013|        red|medium|            C|        Condo|       Broker|        F|              1.0|      0.0|     0|   CO|    39.0|       1.0|         0.0|        13.0|      706.7646465|    14.0|[13.0,706.7646465...|[0.22922323108054...|    1.0|      1.0|      0.0|           30-39|                 1|                 0|\n",
            "| 414845|2015|      white|  high|            C|        House|       Broker|        M|              1.0|      0.0|     0|   IA|    26.0|       4.0|         1.0|        14.0|      999.6689768|     4.0|[14.0,999.6689768...|[0.25006170663332...|    0.0|      4.0|      1.0|           18-29|                3+|                 1|\n",
            "| 717963|2015|       blue|  high|            A|       Tenant|        Phone|        F|              1.0|      1.0|     0|   IA|    36.0|       2.0|         1.0|        17.0|      881.7901489|     2.0|[17.0,881.7901489...|[0.31257713329165...|    1.0|      2.0|      1.0|           30-39|                 2|                 1|\n",
            "| 504339|2015|      white|medium|            A|       Tenant|       Broker|        F|              0.0|      0.0|     0|   IA|    37.0|       4.0|         0.0|        12.0|824.6881802999999|     0.0|[12.0,824.6881802...|[0.20838475552777...|    1.0|      4.0|      0.0|           30-39|                3+|                 0|\n",
            "| 982865|2015|        red|  high|            C|        House|       Broker|        M|              1.0|      1.0|     0|   IA|    47.0|       1.0|         3.0|        12.0|      824.1878299|    18.0|[12.0,824.1878299...|[0.20838475552777...|    2.0|      1.0|      3.0|           40-49|                 1|                2+|\n",
            "|  34431|2015|      white|  high|            A|        Condo|       Broker|        F|              1.0|      0.0|     0|   AZ|    29.0|       1.0|         0.0|         6.0|      1041.867835|     6.0|[6.0,1041.867835,...|[0.08335390221110...|    0.0|      1.0|      0.0|           18-29|                 1|                 0|\n",
            "| 443508|2014|        red|  high|            A|        House|       Broker|        M|              1.0|      0.0|     0|   PA|    61.0|       1.0|         1.0|         8.0|824.6099092999999|    23.0|[8.0,824.60990929...|[0.12503085331666...|    4.0|      1.0|      1.0|             60+|                 1|                 1|\n",
            "| 970618|2016|       blue|  high|            C|        House|        Phone|        M|              0.0|      0.0|     0|   PA|    42.0|       2.0|         1.0|        19.0|      882.0434817|    14.0|[19.0,882.0434817...|[0.35425408439721...|    2.0|      2.0|      1.0|           40-49|                 2|                 1|\n",
            "| 652399|2016|        red|   low|            C|        Condo|       Broker|        F|              0.0|      1.0|     0|   CO|    33.0|       1.0|         0.0|        13.0|      902.3094373|     6.0|[13.0,902.3094373...|[0.22922323108054...|    1.0|      1.0|      0.0|           30-39|                 1|                 0|\n",
            "| 123186|2013|       blue|medium|            B|        House|       Broker|        M|              1.0|      0.0|     0|   CO|    53.0|       3.0|         1.0|        13.0|      767.0643712|    15.0|[13.0,767.0643712...|[0.22922323108054...|    3.0|      3.0|      1.0|           50-59|                 3|                 1|\n",
            "| 215207|2014|      white|   low|            A|       Tenant|       Broker|        M|              1.0|      0.0|     0|   CO|    49.0|       3.0|         1.0|        12.0|      965.7790739|    19.0|[12.0,965.7790739...|[0.20838475552777...|    2.0|      3.0|      1.0|           40-49|                 3|                 1|\n",
            "|1036498|2015|       blue|  high|            A|        Condo|       Broker|        M|              0.0|      0.0|     0|   PA|    62.0|       2.0|         0.0|        14.0|914.6389207999998|    12.0|[14.0,914.6389207...|[0.25006170663332...|    4.0|      2.0|      0.0|             60+|                 2|                 0|\n",
            "| 648594|2014|       blue|   low|            A|        Condo|       Broker|        M|              1.0|      0.0|     0|   AZ|    47.0|       1.0|         1.0|        21.0|      790.2149754|    14.0|[21.0,790.2149754...|[0.39593103550276...|    2.0|      1.0|      1.0|           40-49|                 1|                 1|\n",
            "| 550200|2015|       blue|medium|            A|        House|        Phone|        F|              0.0|      0.0|     0|   AZ|    27.0|       1.0|         0.0|        25.0|      942.5149163|     7.0|[25.0,942.5149163...|[0.47928493771387...|    0.0|      1.0|      0.0|           18-29|                 1|                 0|\n",
            "| 613401|2016|       blue|medium|            B|        House|       Broker|        M|              0.0|      0.0|     0|   PA|    51.0|       2.0|         0.0|        14.0|      726.7544091|    22.0|[14.0,726.7544091...|[0.25006170663332...|    3.0|      2.0|      0.0|           50-59|                 2|                 0|\n",
            "|1008646|2016|      white|  high|            A|       Tenant|        Phone|        M|              1.0|      0.0|     0|   PA|    46.0|       3.0|         2.0|        10.0|       990.864223|    15.0|[10.0,990.864223,...|[0.16670780442221...|    2.0|      3.0|      2.0|           40-49|                 3|                 2|\n",
            "+-------+----+-----------+------+-------------+-------------+-------------+---------+-----------------+---------+------+-----+--------+----------+------------+------------+-----------------+--------+--------------------+--------------------+-------+---------+---------+----------------+------------------+------------------+\n",
            "only showing top 20 rows\n",
            "\n"
          ]
        }
      ],
      "source": [
        "# Define function to recode buckets as strings\n",
        "def child_recode(bucket):\n",
        "    if bucket == 0:\n",
        "        return \"0\"\n",
        "    elif bucket == 1:\n",
        "        return \"1\"\n",
        "    elif bucket == 2:\n",
        "        return \"2\"\n",
        "    else:\n",
        "        return \"2+\"\n",
        "# Create udf\n",
        "child_recode_udf = udf(lambda x: child_recode(x))\n",
        "# Apply udf to age_bucket column\n",
        "df_binned = df_binned.withColumn(\"child_bucket_label\", child_recode_udf(\"child_bin\"))\n",
        "df_test = df_test.withColumn(\"child_bucket_label\", child_recode_udf(\"child_bin\"))\n",
        "df_binned.show()"
      ]
    },
    {
      "cell_type": "code",
      "execution_count": 28,
      "metadata": {
        "id": "9kF0DA1FwDKp"
      },
      "outputs": [],
      "source": [
        "# Now we can drop \"ni age\", \"n adults\", \"n children\", \"age_bin\", \"adult_bin\", \"child_bin\"\n",
        "columns_to_drop = [\"ni_age_i\", \"n_adults_i\", \"n_children_i\", \"age_bin\", \"adult_bin\", \"child_bin\"]\n",
        "\n",
        "# Drop the columns\n",
        "df_binned = df_binned.drop(*columns_to_drop)\n",
        "df_test = df_test.drop(*columns_to_drop)"
      ]
    },
    {
      "cell_type": "code",
      "execution_count": 65,
      "metadata": {
        "id": "MGnE4Pobwbat",
        "colab": {
          "base_uri": "https://localhost:8080/"
        },
        "outputId": "fd8825ae-cffb-4298-ee4c-1e06ce32639a"
      },
      "outputs": [
        {
          "output_type": "stream",
          "name": "stdout",
          "text": [
            "+-------+----+-----------+------+-------------+-------------+-------------+---------+-----------------+---------+------+-----+------------+-----------------+--------+--------------------+--------------------+----------------+------------------+------------------+\n",
            "|     id|year|house_color|credit|coverage_type|dwelling_type|sales_channel|ni_gender|ni_marital_status|claim_ind|cancel|state|len_at_res_i|        premium_i|tenure_i|          continuous|   continuous_scaled|age_bucket_label|adult_bucket_label|child_bucket_label|\n",
            "+-------+----+-----------+------+-------------+-------------+-------------+---------+-----------------+---------+------+-----+------------+-----------------+--------+--------------------+--------------------+----------------+------------------+------------------+\n",
            "| 688609|2016|      white|  high|            A|        Condo|       Broker|        F|              1.0|      0.0|     0|   IA|        25.0|      950.7386189|    17.0|[25.0,950.7386189...|[0.47928493771387...|           40-49|                 3|                 0|\n",
            "| 308155|2015|     yellow|  high|            B|       Tenant|       Broker|        M|              0.0|      1.0|     0|   IA|        22.0|      1003.420558|     8.0|[22.0,1003.420558...|[0.41676951105554...|           30-39|                 2|                 0|\n",
            "| 240486|2015|      white|   low|            C|        House|        Phone|        M|              1.0|      0.0|     0|   WA|        17.0|822.5538692000001|     8.0|[17.0,822.5538692...|[0.31257713329165...|           30-39|                 3|                 0|\n",
            "| 629942|2013|      white|  high|            B|        House|        Phone|        F|              1.0|      0.0|     0|   WA|        22.0|      827.0485096|    16.0|[22.0,827.0485096...|[0.41676951105554...|           30-39|                 1|                 2|\n",
            "| 532682|2013|        red|medium|            C|        Condo|       Broker|        F|              1.0|      0.0|     0|   CO|        13.0|      706.7646465|    14.0|[13.0,706.7646465...|[0.22922323108054...|           30-39|                 1|                 0|\n",
            "| 414845|2015|      white|  high|            C|        House|       Broker|        M|              1.0|      0.0|     0|   IA|        14.0|      999.6689768|     4.0|[14.0,999.6689768...|[0.25006170663332...|           18-29|                3+|                 1|\n",
            "| 717963|2015|       blue|  high|            A|       Tenant|        Phone|        F|              1.0|      1.0|     0|   IA|        17.0|      881.7901489|     2.0|[17.0,881.7901489...|[0.31257713329165...|           30-39|                 2|                 1|\n",
            "| 504339|2015|      white|medium|            A|       Tenant|       Broker|        F|              0.0|      0.0|     0|   IA|        12.0|824.6881802999999|     0.0|[12.0,824.6881802...|[0.20838475552777...|           30-39|                3+|                 0|\n",
            "| 982865|2015|        red|  high|            C|        House|       Broker|        M|              1.0|      1.0|     0|   IA|        12.0|      824.1878299|    18.0|[12.0,824.1878299...|[0.20838475552777...|           40-49|                 1|                2+|\n",
            "|  34431|2015|      white|  high|            A|        Condo|       Broker|        F|              1.0|      0.0|     0|   AZ|         6.0|      1041.867835|     6.0|[6.0,1041.867835,...|[0.08335390221110...|           18-29|                 1|                 0|\n",
            "| 443508|2014|        red|  high|            A|        House|       Broker|        M|              1.0|      0.0|     0|   PA|         8.0|824.6099092999999|    23.0|[8.0,824.60990929...|[0.12503085331666...|             60+|                 1|                 1|\n",
            "| 970618|2016|       blue|  high|            C|        House|        Phone|        M|              0.0|      0.0|     0|   PA|        19.0|      882.0434817|    14.0|[19.0,882.0434817...|[0.35425408439721...|           40-49|                 2|                 1|\n",
            "| 652399|2016|        red|   low|            C|        Condo|       Broker|        F|              0.0|      1.0|     0|   CO|        13.0|      902.3094373|     6.0|[13.0,902.3094373...|[0.22922323108054...|           30-39|                 1|                 0|\n",
            "| 123186|2013|       blue|medium|            B|        House|       Broker|        M|              1.0|      0.0|     0|   CO|        13.0|      767.0643712|    15.0|[13.0,767.0643712...|[0.22922323108054...|           50-59|                 3|                 1|\n",
            "| 215207|2014|      white|   low|            A|       Tenant|       Broker|        M|              1.0|      0.0|     0|   CO|        12.0|      965.7790739|    19.0|[12.0,965.7790739...|[0.20838475552777...|           40-49|                 3|                 1|\n",
            "|1036498|2015|       blue|  high|            A|        Condo|       Broker|        M|              0.0|      0.0|     0|   PA|        14.0|914.6389207999998|    12.0|[14.0,914.6389207...|[0.25006170663332...|             60+|                 2|                 0|\n",
            "| 648594|2014|       blue|   low|            A|        Condo|       Broker|        M|              1.0|      0.0|     0|   AZ|        21.0|      790.2149754|    14.0|[21.0,790.2149754...|[0.39593103550276...|           40-49|                 1|                 1|\n",
            "| 550200|2015|       blue|medium|            A|        House|        Phone|        F|              0.0|      0.0|     0|   AZ|        25.0|      942.5149163|     7.0|[25.0,942.5149163...|[0.47928493771387...|           18-29|                 1|                 0|\n",
            "| 613401|2016|       blue|medium|            B|        House|       Broker|        M|              0.0|      0.0|     0|   PA|        14.0|      726.7544091|    22.0|[14.0,726.7544091...|[0.25006170663332...|           50-59|                 2|                 0|\n",
            "|1008646|2016|      white|  high|            A|       Tenant|        Phone|        M|              1.0|      0.0|     0|   PA|        10.0|       990.864223|    15.0|[10.0,990.864223,...|[0.16670780442221...|           40-49|                 3|                 2|\n",
            "+-------+----+-----------+------+-------------+-------------+-------------+---------+-----------------+---------+------+-----+------------+-----------------+--------+--------------------+--------------------+----------------+------------------+------------------+\n",
            "only showing top 20 rows\n",
            "\n"
          ]
        }
      ],
      "source": [
        "# Let's check our dataframe with binned features\n",
        "df_binned.show()"
      ]
    },
    {
      "cell_type": "markdown",
      "source": [
        "## One-Hot Encoding"
      ],
      "metadata": {
        "id": "hptbGOZtAmNw"
      }
    },
    {
      "cell_type": "code",
      "execution_count": 29,
      "metadata": {
        "id": "UizyppEA3QY5",
        "colab": {
          "base_uri": "https://localhost:8080/"
        },
        "outputId": "053e3047-3b97-48f8-84c5-287dc0188180"
      },
      "outputs": [
        {
          "output_type": "stream",
          "name": "stdout",
          "text": [
            "+-------+---------+---------+---------+---------+----------------+---------------+-----------------+------------------+-----------+----------+-------------+---------------+---------------+---------------+-------------------+-------------------+--------------------+--------------------+--------------------+-------------------+-----------+-----------+----------------------+----------------------+----------------------+----------------------+--------------------+--------------------+--------------------+--------------------+---------------------+--------------------+--------------------+--------------------+---------------------+--------+--------+--------+--------+--------+--------+\n",
            "|     id|year_2013|year_2014|year_2015|year_2016|house_color_blue|house_color_red|house_color_white|house_color_yellow|credit_high|credit_low|credit_medium|coverage_type_A|coverage_type_B|coverage_type_C|dwelling_type_Condo|dwelling_type_House|dwelling_type_Tenant|sales_channel_Broker|sales_channel_Online|sales_channel_Phone|ni_gender_F|ni_gender_M|age_bucket_label_18-29|age_bucket_label_30-39|age_bucket_label_40-49|age_bucket_label_50-59|age_bucket_label_60+|adult_bucket_label_1|adult_bucket_label_2|adult_bucket_label_3|adult_bucket_label_3+|child_bucket_label_0|child_bucket_label_1|child_bucket_label_2|child_bucket_label_2+|state_AZ|state_CO|state_IA|state_PA|state_VA|state_WA|\n",
            "+-------+---------+---------+---------+---------+----------------+---------------+-----------------+------------------+-----------+----------+-------------+---------------+---------------+---------------+-------------------+-------------------+--------------------+--------------------+--------------------+-------------------+-----------+-----------+----------------------+----------------------+----------------------+----------------------+--------------------+--------------------+--------------------+--------------------+---------------------+--------------------+--------------------+--------------------+---------------------+--------+--------+--------+--------+--------+--------+\n",
            "|1000006|        0|        0|        0|        1|               0|              1|                0|                 0|          1|         0|            0|              0|              1|              0|                  0|                  1|                   0|                   0|                   0|                  1|          0|          1|                     0|                     1|                     0|                     0|                   0|                   0|                   1|                   0|                    0|                   1|                   0|                   0|                    0|       1|       0|       0|       0|       0|       0|\n",
            "|1000015|        0|        0|        0|        1|               0|              1|                0|                 0|          0|         0|            1|              0|              0|              1|                  0|                  0|                   1|                   1|                   0|                  0|          1|          0|                     0|                     1|                     0|                     0|                   0|                   0|                   0|                   0|                    1|                   0|                   1|                   0|                    0|       1|       0|       0|       0|       0|       0|\n",
            "|1000038|        0|        0|        0|        1|               0|              0|                1|                 0|          1|         0|            0|              0|              0|              1|                  0|                  1|                   0|                   0|                   0|                  1|          1|          0|                     0|                     1|                     0|                     0|                   0|                   1|                   0|                   0|                    0|                   0|                   0|                   1|                    0|       0|       0|       0|       1|       0|       0|\n",
            "|1000041|        0|        0|        0|        1|               0|              0|                1|                 0|          0|         1|            0|              0|              0|              1|                  1|                  0|                   0|                   0|                   1|                  0|          1|          0|                     1|                     0|                     0|                     0|                   0|                   0|                   0|                   0|                    1|                   0|                   1|                   0|                    0|       0|       0|       1|       0|       0|       0|\n",
            "|1000057|        0|        0|        0|        1|               1|              0|                0|                 0|          1|         0|            0|              0|              0|              1|                  1|                  0|                   0|                   1|                   0|                  0|          1|          0|                     0|                     0|                     1|                     0|                   0|                   1|                   0|                   0|                    0|                   1|                   0|                   0|                    0|       0|       0|       0|       1|       0|       0|\n",
            "|1000061|        0|        0|        0|        1|               0|              0|                1|                 0|          0|         1|            0|              0|              0|              1|                  0|                  0|                   1|                   1|                   0|                  0|          0|          1|                     0|                     1|                     0|                     0|                   0|                   0|                   1|                   0|                    0|                   0|                   0|                   0|                    1|       1|       0|       0|       0|       0|       0|\n",
            "|1000076|        0|        0|        0|        1|               1|              0|                0|                 0|          0|         1|            0|              1|              0|              0|                  0|                  1|                   0|                   1|                   0|                  0|          1|          0|                     1|                     0|                     0|                     0|                   0|                   0|                   0|                   0|                    1|                   1|                   0|                   0|                    0|       1|       0|       0|       0|       0|       0|\n",
            "|1000081|        0|        0|        0|        1|               0|              0|                1|                 0|          0|         1|            0|              0|              1|              0|                  1|                  0|                   0|                   1|                   0|                  0|          1|          0|                     0|                     0|                     1|                     0|                   0|                   1|                   0|                   0|                    0|                   0|                   0|                   1|                    0|       1|       0|       0|       0|       0|       0|\n",
            "|1000105|        0|        0|        0|        1|               1|              0|                0|                 0|          1|         0|            0|              0|              1|              0|                  1|                  0|                   0|                   1|                   0|                  0|          0|          1|                     0|                     0|                     1|                     0|                   0|                   1|                   0|                   0|                    0|                   0|                   1|                   0|                    0|       1|       0|       0|       0|       0|       0|\n",
            "|1000110|        0|        0|        0|        1|               0|              0|                1|                 0|          0|         0|            1|              1|              0|              0|                  0|                  0|                   1|                   1|                   0|                  0|          0|          1|                     0|                     0|                     1|                     0|                   0|                   1|                   0|                   0|                    0|                   1|                   0|                   0|                    0|       1|       0|       0|       0|       0|       0|\n",
            "|1000113|        0|        0|        0|        1|               0|              0|                1|                 0|          1|         0|            0|              0|              0|              1|                  0|                  0|                   1|                   1|                   0|                  0|          0|          1|                     0|                     1|                     0|                     0|                   0|                   1|                   0|                   0|                    0|                   1|                   0|                   0|                    0|       1|       0|       0|       0|       0|       0|\n",
            "|1000119|        0|        0|        0|        1|               0|              0|                1|                 0|          1|         0|            0|              0|              0|              1|                  1|                  0|                   0|                   0|                   0|                  1|          0|          1|                     0|                     0|                     0|                     1|                   0|                   0|                   0|                   0|                    1|                   0|                   0|                   1|                    0|       1|       0|       0|       0|       0|       0|\n",
            "|1000128|        0|        0|        0|        1|               0|              0|                1|                 0|          0|         1|            0|              1|              0|              0|                  0|                  0|                   1|                   0|                   1|                  0|          0|          1|                     0|                     1|                     0|                     0|                   0|                   0|                   1|                   0|                    0|                   0|                   0|                   0|                    1|       0|       0|       0|       0|       0|       1|\n",
            "|1000140|        0|        0|        0|        1|               0|              1|                0|                 0|          1|         0|            0|              1|              0|              0|                  0|                  0|                   1|                   1|                   0|                  0|          1|          0|                     0|                     0|                     1|                     0|                   0|                   1|                   0|                   0|                    0|                   0|                   1|                   0|                    0|       0|       0|       1|       0|       0|       0|\n",
            "|1000147|        0|        0|        0|        1|               1|              0|                0|                 0|          1|         0|            0|              1|              0|              0|                  1|                  0|                   0|                   1|                   0|                  0|          1|          0|                     1|                     0|                     0|                     0|                   0|                   0|                   0|                   1|                    0|                   0|                   0|                   1|                    0|       0|       1|       0|       0|       0|       0|\n",
            "|1000174|        0|        0|        0|        1|               0|              1|                0|                 0|          1|         0|            0|              0|              0|              1|                  0|                  1|                   0|                   1|                   0|                  0|          0|          1|                     0|                     1|                     0|                     0|                   0|                   0|                   0|                   1|                    0|                   0|                   1|                   0|                    0|       0|       1|       0|       0|       0|       0|\n",
            "|1000187|        0|        0|        0|        1|               0|              0|                1|                 0|          1|         0|            0|              0|              0|              1|                  0|                  0|                   1|                   1|                   0|                  0|          0|          1|                     0|                     0|                     0|                     1|                   0|                   0|                   1|                   0|                    0|                   0|                   0|                   0|                    1|       0|       0|       1|       0|       0|       0|\n",
            "|1000193|        0|        0|        0|        1|               1|              0|                0|                 0|          1|         0|            0|              0|              1|              0|                  0|                  1|                   0|                   0|                   0|                  1|          0|          1|                     0|                     1|                     0|                     0|                   0|                   0|                   1|                   0|                    0|                   1|                   0|                   0|                    0|       0|       0|       0|       1|       0|       0|\n",
            "|1000204|        0|        0|        0|        1|               0|              1|                0|                 0|          1|         0|            0|              0|              0|              1|                  0|                  1|                   0|                   0|                   1|                  0|          0|          1|                     0|                     1|                     0|                     0|                   0|                   0|                   0|                   1|                    0|                   0|                   0|                   1|                    0|       0|       0|       1|       0|       0|       0|\n",
            "|1000207|        0|        0|        0|        1|               1|              0|                0|                 0|          1|         0|            0|              0|              0|              1|                  0|                  1|                   0|                   0|                   0|                  1|          0|          1|                     0|                     0|                     1|                     0|                   0|                   0|                   0|                   1|                    0|                   0|                   0|                   1|                    0|       1|       0|       0|       0|       0|       0|\n",
            "+-------+---------+---------+---------+---------+----------------+---------------+-----------------+------------------+-----------+----------+-------------+---------------+---------------+---------------+-------------------+-------------------+--------------------+--------------------+--------------------+-------------------+-----------+-----------+----------------------+----------------------+----------------------+----------------------+--------------------+--------------------+--------------------+--------------------+---------------------+--------------------+--------------------+--------------------+---------------------+--------+--------+--------+--------+--------+--------+\n",
            "only showing top 20 rows\n",
            "\n"
          ]
        }
      ],
      "source": [
        "# Now we'll perform one-hot encoding\n",
        "\n",
        "# We'll first define the columns to pivot on\n",
        "pivot_cols = ['year',\"house_color\",\"credit\",\"coverage_type\",\"dwelling_type\",\"sales_channel\", \"ni_gender\", \"age_bucket_label\",\"adult_bucket_label\",\"child_bucket_label\", \"state\"]\n",
        "# Then we define the keys to group on\n",
        "keys = ['id']\n",
        "\n",
        "# Helper function to recursively join a list of dataframes\n",
        "\n",
        "def join_all_train(dfs,keys):\n",
        "    # if there is more than one dataframe in the list\n",
        "    if len(dfs) > 1:\n",
        "        # recursively join the remaining dataframes\n",
        "        return dfs[0].join(join_all_train(dfs[1:],keys), on = keys, how = 'inner')\n",
        "    else:\n",
        "        # if there is only one dataframe, return it\n",
        "        return dfs[0]\n",
        "\n",
        "# Similar helper function for test data\n",
        "def join_all_test(dfss,keys):\n",
        "    if len(dfss) > 1:\n",
        "        return dfss[0].join(join_all_test(dfss[1:],keys), on = keys, how = 'inner')\n",
        "    else:\n",
        "        return dfss[0]\n",
        "\n",
        "dfs = []\n",
        "dfss = []\n",
        "combined_train = []\n",
        "combined_test = []\n",
        "\n",
        "# loop through each pivot column\n",
        "for pivot_col in pivot_cols:\n",
        "    # group by the keys and pivot on the column\n",
        "    pivotDF = df_binned.groupBy(keys).pivot(pivot_col).count()\n",
        "    # rename the columns to include the pivot column name\n",
        "    new_names = pivotDF.columns[:len(keys)] +  [\"{0}_{1}\".format(pivot_col, c) for c in pivotDF.columns[len(keys):]]        \n",
        "    df = pivotDF.toDF(*new_names).fillna(0)    \n",
        "    combined_train.append(df)\n",
        "\n",
        "# Repeat for test data\n",
        "for pivot_col in pivot_cols:\n",
        "    pivotDF = df_test.groupBy(keys).pivot(pivot_col).count()\n",
        "    new_names = pivotDF.columns[:len(keys)] +  [\"{0}_{1}\".format(pivot_col, c) for c in pivotDF.columns[len(keys):]]        \n",
        "    df = pivotDF.toDF(*new_names).fillna(0)    \n",
        "    combined_test.append(df)\n",
        "\n",
        "# join all the dataframes into one large dataframe\n",
        "join_all_train(combined_train,keys).show()"
      ]
    },
    {
      "cell_type": "code",
      "execution_count": 30,
      "metadata": {
        "id": "Vnmzgth-5zmX"
      },
      "outputs": [],
      "source": [
        "# Join the one-hot encoded features back to the original DataFrame\n",
        "df_encoded = join_all_train(combined_train, keys)\n",
        "df_renamed_encoded = df_binned.join(df_encoded, on=keys, how='left')\n",
        "\n",
        "df_encoded_t = join_all_test(combined_test, keys)\n",
        "df_test = df_test.join(df_encoded_t, on=keys, how='left')\n"
      ]
    },
    {
      "cell_type": "code",
      "execution_count": 31,
      "metadata": {
        "id": "8rMFikmh6RMB"
      },
      "outputs": [],
      "source": [
        "# Drop the columns\n",
        "df_renamed_encoded = df_renamed_encoded.drop(*pivot_cols)\n",
        "df_test = df_test.drop(*pivot_cols)"
      ]
    },
    {
      "cell_type": "code",
      "execution_count": 64,
      "metadata": {
        "id": "lUz044Vf6rdj",
        "colab": {
          "base_uri": "https://localhost:8080/"
        },
        "outputId": "c802a809-9911-4dcd-8fb8-4ac9e94a1fef"
      },
      "outputs": [
        {
          "output_type": "stream",
          "name": "stdout",
          "text": [
            "+-------+-----------------+---------+------+------------+-----------------+--------+-----------------------------+-------------------------------------------------+---------+---------+---------+---------+----------------+---------------+-----------------+------------------+-----------+----------+-------------+---------------+---------------+---------------+-------------------+-------------------+--------------------+--------------------+--------------------+-------------------+-----------+-----------+----------------------+----------------------+----------------------+----------------------+--------------------+--------------------+--------------------+--------------------+---------------------+--------------------+--------------------+--------------------+---------------------+--------+--------+--------+--------+--------+--------+------+\n",
            "|id     |ni_marital_status|claim_ind|cancel|len_at_res_i|premium_i        |tenure_i|continuous                   |continuous_scaled                                |year_2013|year_2014|year_2015|year_2016|house_color_blue|house_color_red|house_color_white|house_color_yellow|credit_high|credit_low|credit_medium|coverage_type_A|coverage_type_B|coverage_type_C|dwelling_type_Condo|dwelling_type_House|dwelling_type_Tenant|sales_channel_Broker|sales_channel_Online|sales_channel_Phone|ni_gender_F|ni_gender_M|age_bucket_label_18-29|age_bucket_label_30-39|age_bucket_label_40-49|age_bucket_label_50-59|age_bucket_label_60+|adult_bucket_label_1|adult_bucket_label_2|adult_bucket_label_3|adult_bucket_label_3+|child_bucket_label_0|child_bucket_label_1|child_bucket_label_2|child_bucket_label_2+|state_AZ|state_CO|state_IA|state_PA|state_VA|state_WA|weight|\n",
            "+-------+-----------------+---------+------+------------+-----------------+--------+-----------------------------+-------------------------------------------------+---------+---------+---------+---------+----------------+---------------+-----------------+------------------+-----------+----------+-------------+---------------+---------------+---------------+-------------------+-------------------+--------------------+--------------------+--------------------+-------------------+-----------+-----------+----------------------+----------------------+----------------------+----------------------+--------------------+--------------------+--------------------+--------------------+---------------------+--------------------+--------------------+--------------------+---------------------+--------+--------+--------+--------+--------+--------+------+\n",
            "|1000006|0.0              |1.0      |1.0   |11.0        |898.4031389      |2.0     |[11.0,898.4031389,2.0]       |[0.18754627997499446,0.45695593209024066,0.0625] |0        |0        |0        |1        |0               |1              |0                |0                 |1          |0         |0            |0              |1              |0              |0                  |1                  |0                   |0                   |0                   |1                  |0          |1          |0                     |1                     |0                     |0                     |0                   |0                   |1                   |0                   |0                    |1                   |0                   |0                   |0                    |1       |0       |0       |0       |0       |0       |1.0   |\n",
            "|1000015|1.0              |1.0      |0.0   |9.0         |956.9864223      |5.0     |[9.0,956.9864223,5.0]        |[0.14586932886944015,0.5513356397911605,0.15625] |0        |0        |0        |1        |0               |1              |0                |0                 |0          |0         |1            |0              |0              |1              |0                  |0                  |1                   |1                   |0                   |0                  |1          |0          |0                     |1                     |0                     |0                     |0                   |0                   |0                   |0                   |1                    |0                   |1                   |0                   |0                    |1       |0       |0       |0       |0       |0       |1.0   |\n",
            "|1000038|1.0              |0.0      |0.0   |18.0        |934.0632186      |18.0    |[18.0,934.0632186,18.0]      |[0.3334156088444346,0.5144055611200384,0.5625]   |0        |0        |0        |1        |0               |0              |1                |0                 |1          |0         |0            |0              |0              |1              |0                  |1                  |0                   |0                   |0                   |1                  |1          |0          |0                     |1                     |0                     |0                     |0                   |1                   |0                   |0                   |0                    |0                   |0                   |1                   |0                    |0       |0       |0       |1       |0       |0       |1.0   |\n",
            "|1000041|1.0              |0.0      |2.0   |9.0         |851.8284482999999|0.0     |[9.0,851.8284482999999,0.0]  |[0.14586932886944015,0.38192248517543687,0.0]    |0        |0        |0        |1        |0               |0              |1                |0                 |0          |1         |0            |0              |0              |1              |1                  |0                  |0                   |0                   |1                   |0                  |1          |0          |1                     |0                     |0                     |0                     |0                   |0                   |0                   |0                   |1                    |0                   |1                   |0                   |0                    |0       |0       |1       |0       |0       |0       |1.8   |\n",
            "|1000057|0.0              |0.0      |0.0   |17.0        |806.918151       |13.0    |[17.0,806.918151,13.0]       |[0.3125771332916574,0.3095704337720597,0.40625]  |0        |0        |0        |1        |1               |0              |0                |0                 |1          |0         |0            |0              |0              |1              |1                  |0                  |0                   |1                   |0                   |0                  |1          |0          |0                     |0                     |1                     |0                     |0                   |1                   |0                   |0                   |0                    |1                   |0                   |0                   |0                    |0       |0       |0       |1       |0       |0       |1.0   |\n",
            "|1000061|1.0              |0.0      |0.0   |9.0         |879.0304741      |3.0     |[9.0,879.0304741,3.0]        |[0.14586932886944015,0.42574589511215094,0.09375]|0        |0        |0        |1        |0               |0              |1                |0                 |0          |1         |0            |0              |0              |1              |0                  |0                  |1                   |1                   |0                   |0                  |0          |1          |0                     |1                     |0                     |0                     |0                   |0                   |1                   |0                   |0                    |0                   |0                   |0                   |1                    |1       |0       |0       |0       |0       |0       |1.0   |\n",
            "|1000076|0.0              |0.0      |2.0   |12.0        |817.4857616      |8.0     |[12.0,817.4857616,8.0]       |[0.20838475552777164,0.32659522210144093,0.25]   |0        |0        |0        |1        |1               |0              |0                |0                 |0          |1         |0            |1              |0              |0              |0                  |1                  |0                   |1                   |0                   |0                  |1          |0          |1                     |0                     |0                     |0                     |0                   |0                   |0                   |0                   |1                    |1                   |0                   |0                   |0                    |1       |0       |0       |0       |0       |0       |1.8   |\n",
            "|1000081|1.0              |0.0      |1.0   |15.0        |842.5175374      |16.0    |[15.0,842.5175374,16.0]      |[0.2709001821861031,0.36692228378400554,0.5]     |0        |0        |0        |1        |0               |0              |1                |0                 |0          |1         |0            |0              |1              |0              |1                  |0                  |0                   |1                   |0                   |0                  |1          |0          |0                     |0                     |1                     |0                     |0                   |1                   |0                   |0                   |0                    |0                   |0                   |1                   |0                    |1       |0       |0       |0       |0       |0       |1.0   |\n",
            "|1000105|1.0              |1.0      |0.0   |16.0        |869.0187763      |15.0    |[16.0,869.0187763,15.0]      |[0.2917386577388803,0.4096167016440712,0.46875]  |0        |0        |0        |1        |1               |0              |0                |0                 |1          |0         |0            |0              |1              |0              |1                  |0                  |0                   |1                   |0                   |0                  |0          |1          |0                     |0                     |1                     |0                     |0                   |1                   |0                   |0                   |0                    |0                   |1                   |0                   |0                    |1       |0       |0       |0       |0       |0       |1.0   |\n",
            "|1000110|1.0              |0.0      |0.0   |13.0        |710.7109159      |19.0    |[13.0,710.7109159,19.0]      |[0.2292232310805488,0.1545772309251928,0.59375]  |0        |0        |0        |1        |0               |0              |1                |0                 |0          |0         |1            |1              |0              |0              |0                  |0                  |1                   |1                   |0                   |0                  |0          |1          |0                     |0                     |1                     |0                     |0                   |1                   |0                   |0                   |0                    |1                   |0                   |0                   |0                    |1       |0       |0       |0       |0       |0       |1.0   |\n",
            "|1000113|0.0              |0.0      |0.0   |15.0        |1018.007623      |7.0     |[15.0,1018.007623,7.0]       |[0.2709001821861031,0.6496429170788174,0.21875]  |0        |0        |0        |1        |0               |0              |1                |0                 |1          |0         |0            |0              |0              |1              |0                  |0                  |1                   |1                   |0                   |0                  |0          |1          |0                     |1                     |0                     |0                     |0                   |1                   |0                   |0                   |0                    |1                   |0                   |0                   |0                    |1       |0       |0       |0       |0       |0       |1.0   |\n",
            "|1000119|1.0              |0.0      |0.0   |8.0         |1001.613517      |14.0    |[8.0,1001.613517,14.0]       |[0.12503085331666297,0.6232314419531692,0.4375]  |0        |0        |0        |1        |0               |0              |1                |0                 |1          |0         |0            |0              |0              |1              |1                  |0                  |0                   |0                   |0                   |1                  |0          |1          |0                     |0                     |0                     |1                     |0                   |0                   |0                   |0                   |1                    |0                   |0                   |1                   |0                    |1       |0       |0       |0       |0       |0       |1.0   |\n",
            "|1000128|1.0              |0.0      |2.0   |16.0        |835.3572831      |5.0     |[16.0,835.3572831,5.0]       |[0.2917386577388803,0.3553868649976584,0.15625]  |0        |0        |0        |1        |0               |0              |1                |0                 |0          |1         |0            |1              |0              |0              |0                  |0                  |1                   |0                   |1                   |0                  |0          |1          |0                     |1                     |0                     |0                     |0                   |0                   |1                   |0                   |0                    |0                   |0                   |0                   |1                    |0       |0       |0       |0       |0       |1       |1.8   |\n",
            "|1000140|0.0              |0.0      |0.0   |11.0        |887.7206432      |20.0    |[11.0,887.7206432,20.0]      |[0.18754627997499446,0.43974605986784593,0.625]  |0        |0        |0        |1        |0               |1              |0                |0                 |1          |0         |0            |1              |0              |0              |0                  |0                  |1                   |1                   |0                   |0                  |1          |0          |0                     |0                     |1                     |0                     |0                   |1                   |0                   |0                   |0                    |0                   |1                   |0                   |0                    |0       |0       |1       |0       |0       |0       |1.0   |\n",
            "|1000147|1.0              |1.0      |0.0   |16.0        |864.4563965      |4.0     |[16.0,864.4563965,4.0]       |[0.2917386577388803,0.40226654905865666,0.125]   |0        |0        |0        |1        |1               |0              |0                |0                 |1          |0         |0            |1              |0              |0              |1                  |0                  |0                   |1                   |0                   |0                  |1          |0          |1                     |0                     |0                     |0                     |0                   |0                   |0                   |1                   |0                    |0                   |0                   |1                   |0                    |0       |1       |0       |0       |0       |0       |1.0   |\n",
            "|1000174|1.0              |0.0      |0.0   |15.0        |844.1522175000001|15.0    |[15.0,844.1522175000001,15.0]|[0.2709001821861031,0.36955581029649387,0.46875] |0        |0        |0        |1        |0               |1              |0                |0                 |1          |0         |0            |0              |0              |1              |0                  |1                  |0                   |1                   |0                   |0                  |0          |1          |0                     |1                     |0                     |0                     |0                   |0                   |0                   |1                   |0                    |0                   |1                   |0                   |0                    |0       |1       |0       |0       |0       |0       |1.0   |\n",
            "|1000187|1.0              |0.0      |0.0   |17.0        |1009.330726      |10.0    |[17.0,1009.330726,10.0]      |[0.3125771332916574,0.635664134137966,0.3125]    |0        |0        |0        |1        |0               |0              |1                |0                 |1          |0         |0            |0              |0              |1              |0                  |0                  |1                   |1                   |0                   |0                  |0          |1          |0                     |0                     |0                     |1                     |0                   |0                   |1                   |0                   |0                    |0                   |0                   |0                   |1                    |0       |0       |1       |0       |0       |0       |1.0   |\n",
            "|1000193|0.0              |0.0      |0.0   |7.0         |976.0316685      |4.0     |[7.0,976.0316685,4.0]        |[0.10419237776388582,0.5820181940135835,0.125]   |0        |0        |0        |1        |1               |0              |0                |0                 |1          |0         |0            |0              |1              |0              |0                  |1                  |0                   |0                   |0                   |1                  |0          |1          |0                     |1                     |0                     |0                     |0                   |0                   |1                   |0                   |0                    |1                   |0                   |0                   |0                    |0       |0       |0       |1       |0       |0       |1.0   |\n",
            "|1000204|1.0              |0.0      |2.0   |8.0         |998.1304657      |3.0     |[8.0,998.1304657,3.0]        |[0.12503085331666297,0.6176201251316659,0.09375] |0        |0        |0        |1        |0               |1              |0                |0                 |1          |0         |0            |0              |0              |1              |0                  |1                  |0                   |0                   |1                   |0                  |0          |1          |0                     |1                     |0                     |0                     |0                   |0                   |0                   |1                   |0                    |0                   |0                   |1                   |0                    |0       |0       |1       |0       |0       |0       |1.8   |\n",
            "|1000207|1.0              |0.0      |0.0   |15.0        |769.1628307999999|13.0    |[15.0,769.1628307999999,13.0]|[0.2709001821861031,0.24874529940223286,0.40625] |0        |0        |0        |1        |1               |0              |0                |0                 |1          |0         |0            |0              |0              |1              |0                  |1                  |0                   |0                   |0                   |1                  |0          |1          |0                     |0                     |1                     |0                     |0                   |0                   |0                   |1                   |0                    |0                   |0                   |1                   |0                    |1       |0       |0       |0       |0       |0       |1.0   |\n",
            "+-------+-----------------+---------+------+------------+-----------------+--------+-----------------------------+-------------------------------------------------+---------+---------+---------+---------+----------------+---------------+-----------------+------------------+-----------+----------+-------------+---------------+---------------+---------------+-------------------+-------------------+--------------------+--------------------+--------------------+-------------------+-----------+-----------+----------------------+----------------------+----------------------+----------------------+--------------------+--------------------+--------------------+--------------------+---------------------+--------------------+--------------------+--------------------+---------------------+--------+--------+--------+--------+--------+--------+------+\n",
            "only showing top 20 rows\n",
            "\n"
          ]
        }
      ],
      "source": [
        "# Show the resulting DataFrame\n",
        "df_renamed_encoded.show(truncate=False)"
      ]
    },
    {
      "cell_type": "code",
      "execution_count": 63,
      "metadata": {
        "id": "RLnF4vNERlux",
        "colab": {
          "base_uri": "https://localhost:8080/"
        },
        "outputId": "5c3f1e73-453d-4800-ce1b-73ffb051cabc"
      },
      "outputs": [
        {
          "output_type": "stream",
          "name": "stdout",
          "text": [
            "root\n",
            " |-- id: string (nullable = true)\n",
            " |-- ni_marital_status: double (nullable = true)\n",
            " |-- claim_ind: double (nullable = true)\n",
            " |-- cancel: double (nullable = true)\n",
            " |-- len_at_res_i: double (nullable = true)\n",
            " |-- premium_i: double (nullable = true)\n",
            " |-- tenure_i: double (nullable = true)\n",
            " |-- continuous: vector (nullable = true)\n",
            " |-- continuous_scaled: vector (nullable = true)\n",
            " |-- year_2013: long (nullable = true)\n",
            " |-- year_2014: long (nullable = true)\n",
            " |-- year_2015: long (nullable = true)\n",
            " |-- year_2016: long (nullable = true)\n",
            " |-- house_color_blue: long (nullable = true)\n",
            " |-- house_color_red: long (nullable = true)\n",
            " |-- house_color_white: long (nullable = true)\n",
            " |-- house_color_yellow: long (nullable = true)\n",
            " |-- credit_high: long (nullable = true)\n",
            " |-- credit_low: long (nullable = true)\n",
            " |-- credit_medium: long (nullable = true)\n",
            " |-- coverage_type_A: long (nullable = true)\n",
            " |-- coverage_type_B: long (nullable = true)\n",
            " |-- coverage_type_C: long (nullable = true)\n",
            " |-- dwelling_type_Condo: long (nullable = true)\n",
            " |-- dwelling_type_House: long (nullable = true)\n",
            " |-- dwelling_type_Tenant: long (nullable = true)\n",
            " |-- sales_channel_Broker: long (nullable = true)\n",
            " |-- sales_channel_Online: long (nullable = true)\n",
            " |-- sales_channel_Phone: long (nullable = true)\n",
            " |-- ni_gender_F: long (nullable = true)\n",
            " |-- ni_gender_M: long (nullable = true)\n",
            " |-- age_bucket_label_18-29: long (nullable = true)\n",
            " |-- age_bucket_label_30-39: long (nullable = true)\n",
            " |-- age_bucket_label_40-49: long (nullable = true)\n",
            " |-- age_bucket_label_50-59: long (nullable = true)\n",
            " |-- age_bucket_label_60+: long (nullable = true)\n",
            " |-- adult_bucket_label_1: long (nullable = true)\n",
            " |-- adult_bucket_label_2: long (nullable = true)\n",
            " |-- adult_bucket_label_3: long (nullable = true)\n",
            " |-- adult_bucket_label_3+: long (nullable = true)\n",
            " |-- child_bucket_label_0: long (nullable = true)\n",
            " |-- child_bucket_label_1: long (nullable = true)\n",
            " |-- child_bucket_label_2: long (nullable = true)\n",
            " |-- child_bucket_label_2+: long (nullable = true)\n",
            " |-- state_AZ: long (nullable = true)\n",
            " |-- state_CO: long (nullable = true)\n",
            " |-- state_IA: long (nullable = true)\n",
            " |-- state_PA: long (nullable = true)\n",
            " |-- state_VA: long (nullable = true)\n",
            " |-- state_WA: long (nullable = true)\n",
            " |-- weight: double (nullable = true)\n",
            "\n"
          ]
        }
      ],
      "source": [
        "# Let's check datatypes\n",
        "df_renamed_encoded.printSchema()"
      ]
    },
    {
      "cell_type": "code",
      "execution_count": 32,
      "metadata": {
        "id": "6D0pR12Q0nHz"
      },
      "outputs": [],
      "source": [
        "# There are still three columns that need to be converted to double before we can model\n",
        "col_conv = ['cancel', 'ni_marital_status', 'claim_ind']\n",
        "for column in col_conv:\n",
        "  df_renamed_encoded = df_renamed_encoded.withColumn(column, F.col(column).cast(T.DoubleType()))\n",
        "  df_test = df_test.withColumn(column, F.col(column).cast(T.DoubleType()))"
      ]
    },
    {
      "cell_type": "markdown",
      "source": [
        "## Creating List of Identifier, Continuous, Binary and Target features"
      ],
      "metadata": {
        "id": "_CzWVJvBAs22"
      }
    },
    {
      "cell_type": "code",
      "execution_count": 33,
      "metadata": {
        "id": "kHwawhn0wN_H",
        "colab": {
          "base_uri": "https://localhost:8080/"
        },
        "outputId": "de7cc232-c7a5-48ff-9e42-521830564d13"
      },
      "outputs": [
        {
          "output_type": "stream",
          "name": "stdout",
          "text": [
            "['id']\n"
          ]
        }
      ],
      "source": [
        "# Let's create a list of our identifier column\n",
        "IDENTIFIERS = [\"id\"]\n",
        "print(IDENTIFIERS)"
      ]
    },
    {
      "cell_type": "code",
      "execution_count": 34,
      "metadata": {
        "id": "jUdSf6aWwP2Y",
        "colab": {
          "base_uri": "https://localhost:8080/"
        },
        "outputId": "6bac3dd2-5e8a-429b-810c-6438f9183b2a"
      },
      "outputs": [
        {
          "output_type": "stream",
          "name": "stdout",
          "text": [
            "['len_at_res_i', 'premium_i', 'tenure_i']\n"
          ]
        }
      ],
      "source": [
        "# Let's create a list of our continuous columns\n",
        "CONTINUOUS_COLUMNS = [\n",
        "\"len_at_res_i\",\n",
        "\"premium_i\",\n",
        "\"tenure_i\",\n",
        "]\n",
        "print(CONTINUOUS_COLUMNS)"
      ]
    },
    {
      "cell_type": "code",
      "execution_count": 35,
      "metadata": {
        "id": "39qS5K58wQ43",
        "colab": {
          "base_uri": "https://localhost:8080/"
        },
        "outputId": "5426b1cc-ccc2-48fa-d29f-4bdb772f57e7"
      },
      "outputs": [
        {
          "output_type": "stream",
          "name": "stdout",
          "text": [
            "['cancel']\n"
          ]
        }
      ],
      "source": [
        "# Let's create a list of our target column\n",
        "TARGET_COLUMN = [\"cancel\"]\n",
        "print(TARGET_COLUMN)"
      ]
    },
    {
      "cell_type": "code",
      "execution_count": 36,
      "metadata": {
        "id": "PMPDVQziwUeT",
        "colab": {
          "base_uri": "https://localhost:8080/"
        },
        "outputId": "b52550e5-4975-4ec1-8343-1ff66051c47b"
      },
      "outputs": [
        {
          "output_type": "stream",
          "name": "stdout",
          "text": [
            "['ni_marital_status', 'claim_ind', 'year_2013', 'year_2014', 'year_2015', 'year_2016', 'house_color_blue', 'house_color_red', 'house_color_white', 'house_color_yellow', 'credit_high', 'credit_low', 'credit_medium', 'coverage_type_A', 'coverage_type_B', 'coverage_type_C', 'dwelling_type_Condo', 'dwelling_type_House', 'dwelling_type_Tenant', 'sales_channel_Broker', 'sales_channel_Online', 'sales_channel_Phone', 'ni_gender_F', 'ni_gender_M', 'age_bucket_label_18-29', 'age_bucket_label_30-39', 'age_bucket_label_40-49', 'age_bucket_label_50-59', 'age_bucket_label_60+', 'adult_bucket_label_1', 'adult_bucket_label_2', 'adult_bucket_label_3', 'adult_bucket_label_3+', 'child_bucket_label_0', 'child_bucket_label_1', 'child_bucket_label_2', 'child_bucket_label_2+', 'state_AZ', 'state_CO', 'state_IA', 'state_PA', 'state_VA', 'state_WA']\n"
          ]
        }
      ],
      "source": [
        "# Let's create a list of our binary columns\n",
        "BINARY_COLUMNS = [\n",
        "    x\n",
        "    for x in df_renamed_encoded.columns\n",
        "    if x not in CONTINUOUS_COLUMNS and x not in TARGET_COLUMN and x not in IDENTIFIERS and x not in ['continuous', 'continuous_scaled']\n",
        "]\n",
        "print(BINARY_COLUMNS)"
      ]
    },
    {
      "cell_type": "code",
      "source": [
        "feature_names = BINARY_COLUMNS + CONTINUOUS_COLUMNS"
      ],
      "metadata": {
        "id": "ArnO-TXkY4Ry"
      },
      "execution_count": 37,
      "outputs": []
    },
    {
      "cell_type": "code",
      "execution_count": 62,
      "metadata": {
        "id": "cnDeOPCH1thO",
        "colab": {
          "base_uri": "https://localhost:8080/"
        },
        "outputId": "43d1c18d-f011-489a-f791-3afbbcb0f1cc"
      },
      "outputs": [
        {
          "output_type": "stream",
          "name": "stdout",
          "text": [
            "+-------+------------------+-----------------+------------------+\n",
            "|summary|      len_at_res_i|        premium_i|          tenure_i|\n",
            "+-------+------------------+-----------------+------------------+\n",
            "|  count|            120000|           120000|            120000|\n",
            "|   mean|15.197963502375263|899.8208192093799|11.660558333333332|\n",
            "| stddev| 4.554005928463922|77.75382414264597| 5.929603473806268|\n",
            "|    min|               2.0|614.7618825000001|               0.0|\n",
            "|    25%|              12.0|      843.6975149|               6.0|\n",
            "|    50%|              15.0|899.5015582999998|              13.0|\n",
            "|    75%|              18.0|       955.396229|              16.0|\n",
            "|    max|       49.98815525|      1235.480942|              32.0|\n",
            "+-------+------------------+-----------------+------------------+\n",
            "\n"
          ]
        }
      ],
      "source": [
        "# Let's check the distribution of our continuous columns after cleaning\n",
        "df_renamed_encoded.select(*CONTINUOUS_COLUMNS).summary().show()"
      ]
    },
    {
      "cell_type": "markdown",
      "source": [
        "## Checking for reliable binary predictors"
      ],
      "metadata": {
        "id": "y_HK7VURAzy3"
      }
    },
    {
      "cell_type": "markdown",
      "metadata": {
        "id": "7_DFeOTEXuRB"
      },
      "source": [
        "In this section, We remove the columns that are not present enough in the data set to be considered reliable predictors. Binary features with only a few zeroes or ones are not helpful in classifying."
      ]
    },
    {
      "cell_type": "code",
      "execution_count": 66,
      "metadata": {
        "id": "w91Cn7J1YF3z"
      },
      "outputs": [],
      "source": [
        "#get sum of each binary column\n",
        "# remember that we are dealing with just 0s and 1s here...\n",
        "inst_sum_of_binary_columns = [F.sum(F.col(x)).alias(x) for x in BINARY_COLUMNS]"
      ]
    },
    {
      "cell_type": "code",
      "execution_count": null,
      "metadata": {
        "id": "zDJ_NP33YF6O"
      },
      "outputs": [],
      "source": [
        "#got the first few rows of inst_sum_of_binar y_columns and make it as dictionary\n",
        "sum_of_binary_columns = (df_renamed_encoded.select(*inst_sum_of_binary_columns).head().asDict())"
      ]
    },
    {
      "cell_type": "code",
      "execution_count": null,
      "metadata": {
        "id": "e6Tnz2W5YF8z"
      },
      "outputs": [],
      "source": [
        "#count number of rows\n",
        "num_rows = df_renamed_encoded.count()"
      ]
    },
    {
      "cell_type": "code",
      "execution_count": null,
      "metadata": {
        "id": "DhGdwdrkYF_M"
      },
      "outputs": [],
      "source": [
        "# find out the number of times each one occurs\n",
        "# eliminate column if less than 100 occurances \n",
        "too_rare_features = [k for k, v in sum_of_binary_columns.items() if v < 100 or v > (num_rows - 100)]"
      ]
    },
    {
      "cell_type": "markdown",
      "source": [
        "Thus, none of our binary features are sparse enough or seem to lack the data variance to consider them to be unreliable predictors or to be lacking information and that should be removed before modeling."
      ],
      "metadata": {
        "id": "OUuUCMmt-kcu"
      }
    },
    {
      "cell_type": "code",
      "execution_count": null,
      "metadata": {
        "id": "TplsKid4YGBp"
      },
      "outputs": [],
      "source": [
        "#there are 0 binary features like this\n",
        "len(too_rare_features) # => 0"
      ]
    },
    {
      "cell_type": "code",
      "execution_count": null,
      "metadata": {
        "id": "NvnUagwRy81z"
      },
      "outputs": [],
      "source": [
        "# Let's check the transformed dense vector\n",
        "df_renamed_encoded.select(\"continuous\").show(3, False)"
      ]
    },
    {
      "cell_type": "code",
      "execution_count": null,
      "metadata": {
        "id": "GWYi0Wc2YIL8"
      },
      "outputs": [],
      "source": [
        "# Let's display the continuous scaled dense vector\n",
        "df_renamed_encoded.select(\"continuous_scaled\").show(3, False)"
      ]
    },
    {
      "cell_type": "code",
      "execution_count": 61,
      "metadata": {
        "id": "6t2AjjKp09jq",
        "colab": {
          "base_uri": "https://localhost:8080/"
        },
        "outputId": "c2efaf16-bd68-4ec9-b7ff-b6c5cd784a00"
      },
      "outputs": [
        {
          "output_type": "stream",
          "name": "stdout",
          "text": [
            "root\n",
            " |-- id: string (nullable = true)\n",
            " |-- ni_marital_status: double (nullable = true)\n",
            " |-- claim_ind: double (nullable = true)\n",
            " |-- cancel: double (nullable = true)\n",
            " |-- len_at_res_i: double (nullable = true)\n",
            " |-- premium_i: double (nullable = true)\n",
            " |-- tenure_i: double (nullable = true)\n",
            " |-- continuous: vector (nullable = true)\n",
            " |-- continuous_scaled: vector (nullable = true)\n",
            " |-- year_2013: long (nullable = true)\n",
            " |-- year_2014: long (nullable = true)\n",
            " |-- year_2015: long (nullable = true)\n",
            " |-- year_2016: long (nullable = true)\n",
            " |-- house_color_blue: long (nullable = true)\n",
            " |-- house_color_red: long (nullable = true)\n",
            " |-- house_color_white: long (nullable = true)\n",
            " |-- house_color_yellow: long (nullable = true)\n",
            " |-- credit_high: long (nullable = true)\n",
            " |-- credit_low: long (nullable = true)\n",
            " |-- credit_medium: long (nullable = true)\n",
            " |-- coverage_type_A: long (nullable = true)\n",
            " |-- coverage_type_B: long (nullable = true)\n",
            " |-- coverage_type_C: long (nullable = true)\n",
            " |-- dwelling_type_Condo: long (nullable = true)\n",
            " |-- dwelling_type_House: long (nullable = true)\n",
            " |-- dwelling_type_Tenant: long (nullable = true)\n",
            " |-- sales_channel_Broker: long (nullable = true)\n",
            " |-- sales_channel_Online: long (nullable = true)\n",
            " |-- sales_channel_Phone: long (nullable = true)\n",
            " |-- ni_gender_F: long (nullable = true)\n",
            " |-- ni_gender_M: long (nullable = true)\n",
            " |-- age_bucket_label_18-29: long (nullable = true)\n",
            " |-- age_bucket_label_30-39: long (nullable = true)\n",
            " |-- age_bucket_label_40-49: long (nullable = true)\n",
            " |-- age_bucket_label_50-59: long (nullable = true)\n",
            " |-- age_bucket_label_60+: long (nullable = true)\n",
            " |-- adult_bucket_label_1: long (nullable = true)\n",
            " |-- adult_bucket_label_2: long (nullable = true)\n",
            " |-- adult_bucket_label_3: long (nullable = true)\n",
            " |-- adult_bucket_label_3+: long (nullable = true)\n",
            " |-- child_bucket_label_0: long (nullable = true)\n",
            " |-- child_bucket_label_1: long (nullable = true)\n",
            " |-- child_bucket_label_2: long (nullable = true)\n",
            " |-- child_bucket_label_2+: long (nullable = true)\n",
            " |-- state_AZ: long (nullable = true)\n",
            " |-- state_CO: long (nullable = true)\n",
            " |-- state_IA: long (nullable = true)\n",
            " |-- state_PA: long (nullable = true)\n",
            " |-- state_VA: long (nullable = true)\n",
            " |-- state_WA: long (nullable = true)\n",
            " |-- weight: double (nullable = true)\n",
            "\n"
          ]
        }
      ],
      "source": [
        "# Let's check the schema of our data before we begin to model\n",
        "df_renamed_encoded.printSchema()"
      ]
    },
    {
      "cell_type": "markdown",
      "source": [
        "## Joining Binary Features and Continuous Vector to create our final feature vector "
      ],
      "metadata": {
        "id": "BCBevSmsA9cJ"
      }
    },
    {
      "cell_type": "code",
      "execution_count": 38,
      "metadata": {
        "id": "oXJdLuqZ6YWP"
      },
      "outputs": [],
      "source": [
        "# New Vector Assembler to create a dense vector\n",
        "preml_assembler = MF.VectorAssembler(\n",
        "inputCols=BINARY_COLUMNS\n",
        "+ [\"continuous_scaled\"],\n",
        "outputCol=\"features\",\n",
        ")"
      ]
    },
    {
      "cell_type": "markdown",
      "metadata": {
        "id": "k6DJNm9QFQid"
      },
      "source": [
        "# Model development"
      ]
    },
    {
      "cell_type": "markdown",
      "metadata": {
        "id": "_qMMPsC6ioy4"
      },
      "source": [
        "Initially, we split the train data into 75:25 for train and validation subset.\n",
        "\n",
        "We tried different models on train, and checked the performance on validation.\n",
        "\n",
        "Since our classes are imbalanced, we tried different class_weights on the train subset as well. \n",
        "\n",
        "Ideally, class weights should be based on the distribution of the classes\n",
        "Ideal class weights - {0: 1/0.71, 1: 1/0.07, 2: 1/0.22}\n",
        "\n",
        "But we do not get the optimal F1 using these weights.\n",
        "\n",
        "So we tried different combinations of class weights to optimize our score\n",
        "\n",
        "The class weights of {0: 1, 1: 1, 2: 1.8} seems to give us the best possible F1 and that is why it has been used below.\n"
      ]
    },
    {
      "cell_type": "markdown",
      "source": [
        "Models Fitted:\n",
        "1. Logistic Regression\n",
        "2. Decsion Tree\n",
        "3. Random Forest Classifier\n",
        "4. One vs Rest (Logistic Regression with CV)\n",
        "5. Multi-Layer Perceptron Classifier\n",
        "\n",
        "The best model comes out to be Logistic Regression.\n",
        "\n",
        "Due to the size of the data and features, we could not incorporate cross-validation. When we had not included the states as a feature, we did try cross validation on the data. But after including states, we observed an increase in accuracy but the data became too big for cross validation."
      ],
      "metadata": {
        "id": "_XZ9D1L2Gpsz"
      }
    },
    {
      "cell_type": "code",
      "source": [
        "# Optimal class weights obtained through multiple permutations\n",
        "class_weights = {0: 1, 1: 1, 2: 1.8}"
      ],
      "metadata": {
        "id": "nj2iezMjfqZ-"
      },
      "execution_count": 39,
      "outputs": []
    },
    {
      "cell_type": "code",
      "source": [
        "# Let's add the class weights as a column in our dataframe that will be later used for modelling\n",
        "from itertools import chain\n",
        "mapping_expr = F.create_map([F.lit(x) for x in chain(*class_weights.items())])\n",
        "\n",
        "df_renamed_encoded = df_renamed_encoded.withColumn(\"weight\", mapping_expr.getItem(F.col(\"cancel\")))\n"
      ],
      "metadata": {
        "id": "qt5jhLIdfqgS",
        "colab": {
          "base_uri": "https://localhost:8080/"
        },
        "outputId": "c07bea40-affe-4092-b691-96f518362b7f"
      },
      "execution_count": 40,
      "outputs": [
        {
          "output_type": "stream",
          "name": "stderr",
          "text": [
            "/usr/local/lib/python3.10/dist-packages/pyspark/sql/column.py:458: FutureWarning: A column as 'key' in getItem is deprecated as of Spark 3.0, and will not be supported in the future release. Use `column[key]` or `column.key` syntax instead.\n",
            "  warnings.warn(\n"
          ]
        }
      ]
    },
    {
      "cell_type": "markdown",
      "source": [
        "## Model Pipeline"
      ],
      "metadata": {
        "id": "YOJGxcwtGglE"
      }
    },
    {
      "cell_type": "markdown",
      "source": [
        "We could not add the stages of our previous pipeline like imputer, continuous assembler and continuous scaler as a lot of operations are performed after running those stages.\n",
        "\n",
        "We have created bins for a few features, renamed those bins, and then performed one-hot encoding on the categorical features.\n",
        "\n",
        "Thus, our pipeline for modeling only consists of two stages:\n",
        "1. preml_assembler - used to combine scaled and binary features\n",
        "2. logistic regression model"
      ],
      "metadata": {
        "id": "8K6-B7PZOUhH"
      }
    },
    {
      "cell_type": "code",
      "source": [
        "# Now we create our logistic regression model\n",
        "\n",
        "from pyspark.ml.classification import LogisticRegression\n",
        " \n",
        "lr = LogisticRegression(\n",
        "    featuresCol=\"features\", labelCol=\"cancel\", predictionCol=\"prediction_lr\", weightCol=\"weight\"\n",
        ")\n",
        "\n",
        "# Our pipeline consists of combining the continuous variables and the binary variables through our assembler and then running the model \n",
        "train_pipeline.setStages(\n",
        "    [   preml_assembler,\n",
        "        lr\n",
        "     ]\n",
        ")"
      ],
      "metadata": {
        "id": "J7Oj9fGZfqmw",
        "colab": {
          "base_uri": "https://localhost:8080/"
        },
        "outputId": "e4f10b69-25a5-46c5-f482-eb7aa38a907d"
      },
      "execution_count": 41,
      "outputs": [
        {
          "output_type": "execute_result",
          "data": {
            "text/plain": [
              "Pipeline_db518dc354f6"
            ]
          },
          "metadata": {},
          "execution_count": 41
        }
      ]
    },
    {
      "cell_type": "code",
      "source": [
        "# Now we fit our model on the train, and make predictions for train and test\n",
        "train_pipeline_model = train_pipeline.fit(df_renamed_encoded)  "
      ],
      "metadata": {
        "id": "FVPMewg3fqsU"
      },
      "execution_count": 42,
      "outputs": []
    },
    {
      "cell_type": "code",
      "source": [
        "# Let's get the predictions for train\n",
        "results_lr_train = train_pipeline_model.transform(df_renamed_encoded)"
      ],
      "metadata": {
        "id": "eKWYr9S3cb6T"
      },
      "execution_count": 50,
      "outputs": []
    },
    {
      "cell_type": "code",
      "source": [
        "# Let's get the predictions for test\n",
        "results_lr = train_pipeline_model.transform(df_test)"
      ],
      "metadata": {
        "id": "T-kpono0ccBV"
      },
      "execution_count": 43,
      "outputs": []
    },
    {
      "cell_type": "code",
      "source": [
        "# Let's evaluate the model to check for the F1 score\n",
        "from pyspark.ml.evaluation import MulticlassClassificationEvaluator\n",
        "\n",
        "evaluator = MulticlassClassificationEvaluator(labelCol=\"cancel\", predictionCol=\"prediction_lr\", metricName=\"f1\")\n",
        "# Calculate weighted average F1 score\n",
        "weighted_f1 = evaluator.evaluate(results_lr)\n",
        "print(f\"Weighted avg F1: {weighted_f1}\")"
      ],
      "metadata": {
        "id": "KtAv3vxtfqxa",
        "colab": {
          "base_uri": "https://localhost:8080/"
        },
        "outputId": "3469fc5d-c0ac-4ff2-e4b0-b3e1ddffae64"
      },
      "execution_count": null,
      "outputs": [
        {
          "output_type": "stream",
          "name": "stdout",
          "text": [
            "Weighted avg F1: 0.6795474479740478\n"
          ]
        }
      ]
    },
    {
      "cell_type": "markdown",
      "source": [
        "# Model Results"
      ],
      "metadata": {
        "id": "y5KDdFwKZxjq"
      }
    },
    {
      "cell_type": "markdown",
      "source": [
        "## Classification Report for Train"
      ],
      "metadata": {
        "id": "PDLmnohhcNr3"
      }
    },
    {
      "cell_type": "code",
      "source": [
        "# Let's select the columns we need\n",
        "results_pd_train = results_lr_train.select('cancel', 'prediction_lr')"
      ],
      "metadata": {
        "id": "qGO9V4YwAMa9"
      },
      "execution_count": 52,
      "outputs": []
    },
    {
      "cell_type": "code",
      "source": [
        "# Convert to Pandas dataframe\n",
        "results_pd_train = results_pd_train.toPandas()"
      ],
      "metadata": {
        "id": "-S9P8SJrAMSv"
      },
      "execution_count": 53,
      "outputs": []
    },
    {
      "cell_type": "code",
      "source": [
        "from sklearn.metrics import classification_report\n",
        "\n",
        "# Get target and predictions as arrays\n",
        "target_train = results_pd_train['cancel'].values\n",
        "predictions_train = results_pd_train['prediction_lr'].values\n",
        "\n",
        "# Generate classification report\n",
        "report_train = classification_report(target_train, predictions_train)\n",
        "print(report_train)"
      ],
      "metadata": {
        "colab": {
          "base_uri": "https://localhost:8080/"
        },
        "id": "O8OOSR_4A6TO",
        "outputId": "4c500de3-b3c5-4434-8f21-0fe003f96d3b"
      },
      "execution_count": 54,
      "outputs": [
        {
          "output_type": "stream",
          "name": "stdout",
          "text": [
            "              precision    recall  f1-score   support\n",
            "\n",
            "         0.0       0.78      0.87      0.82     85143\n",
            "         1.0       0.00      0.00      0.00      8630\n",
            "         2.0       0.45      0.44      0.45     26227\n",
            "\n",
            "    accuracy                           0.71    120000\n",
            "   macro avg       0.41      0.44      0.42    120000\n",
            "weighted avg       0.65      0.71      0.68    120000\n",
            "\n"
          ]
        },
        {
          "output_type": "stream",
          "name": "stderr",
          "text": [
            "/usr/local/lib/python3.10/dist-packages/sklearn/metrics/_classification.py:1344: UndefinedMetricWarning: Precision and F-score are ill-defined and being set to 0.0 in labels with no predicted samples. Use `zero_division` parameter to control this behavior.\n",
            "  _warn_prf(average, modifier, msg_start, len(result))\n",
            "/usr/local/lib/python3.10/dist-packages/sklearn/metrics/_classification.py:1344: UndefinedMetricWarning: Precision and F-score are ill-defined and being set to 0.0 in labels with no predicted samples. Use `zero_division` parameter to control this behavior.\n",
            "  _warn_prf(average, modifier, msg_start, len(result))\n",
            "/usr/local/lib/python3.10/dist-packages/sklearn/metrics/_classification.py:1344: UndefinedMetricWarning: Precision and F-score are ill-defined and being set to 0.0 in labels with no predicted samples. Use `zero_division` parameter to control this behavior.\n",
            "  _warn_prf(average, modifier, msg_start, len(result))\n"
          ]
        }
      ]
    },
    {
      "cell_type": "markdown",
      "source": [
        "## Classification Report for Test"
      ],
      "metadata": {
        "id": "40livF-1cFT1"
      }
    },
    {
      "cell_type": "code",
      "source": [
        "# Let's select the columns we need\n",
        "results_pd = results_lr.select('cancel', 'prediction_lr')"
      ],
      "metadata": {
        "id": "iFyk9kwxetnd"
      },
      "execution_count": 45,
      "outputs": []
    },
    {
      "cell_type": "code",
      "source": [
        "# Convert to Pandas dataframe\n",
        "results_pd = results_pd.toPandas()"
      ],
      "metadata": {
        "id": "75dg6UNS_c-X"
      },
      "execution_count": 46,
      "outputs": []
    },
    {
      "cell_type": "code",
      "source": [
        "from sklearn.metrics import classification_report\n",
        "\n",
        "# Get target and predictions as arrays\n",
        "target_test = results_pd['cancel'].values\n",
        "predictions_test = results_pd['prediction_lr'].values\n",
        "\n",
        "# Generate classification report\n",
        "report_test = classification_report(target_test, predictions_test)\n",
        "print(report_test)"
      ],
      "metadata": {
        "colab": {
          "base_uri": "https://localhost:8080/"
        },
        "id": "mi5F6zVLA2WC",
        "outputId": "bfa27cd5-54af-42d4-d6a9-9cc05bebca69"
      },
      "execution_count": 48,
      "outputs": [
        {
          "output_type": "stream",
          "name": "stderr",
          "text": [
            "/usr/local/lib/python3.10/dist-packages/sklearn/metrics/_classification.py:1344: UndefinedMetricWarning: Precision and F-score are ill-defined and being set to 0.0 in labels with no predicted samples. Use `zero_division` parameter to control this behavior.\n",
            "  _warn_prf(average, modifier, msg_start, len(result))\n",
            "/usr/local/lib/python3.10/dist-packages/sklearn/metrics/_classification.py:1344: UndefinedMetricWarning: Precision and F-score are ill-defined and being set to 0.0 in labels with no predicted samples. Use `zero_division` parameter to control this behavior.\n",
            "  _warn_prf(average, modifier, msg_start, len(result))\n"
          ]
        },
        {
          "output_type": "stream",
          "name": "stdout",
          "text": [
            "              precision    recall  f1-score   support\n",
            "\n",
            "         0.0       0.78      0.86      0.82    244522\n",
            "         1.0       0.00      0.00      0.00     24772\n",
            "         2.0       0.45      0.44      0.45     75597\n",
            "\n",
            "    accuracy                           0.71    344891\n",
            "   macro avg       0.41      0.44      0.42    344891\n",
            "weighted avg       0.65      0.71      0.68    344891\n",
            "\n"
          ]
        },
        {
          "output_type": "stream",
          "name": "stderr",
          "text": [
            "/usr/local/lib/python3.10/dist-packages/sklearn/metrics/_classification.py:1344: UndefinedMetricWarning: Precision and F-score are ill-defined and being set to 0.0 in labels with no predicted samples. Use `zero_division` parameter to control this behavior.\n",
            "  _warn_prf(average, modifier, msg_start, len(result))\n"
          ]
        }
      ]
    },
    {
      "cell_type": "markdown",
      "source": [
        "## Consfusion Matrix for Train"
      ],
      "metadata": {
        "id": "d3VhunyDcVrn"
      }
    },
    {
      "cell_type": "code",
      "source": [
        "from sklearn.metrics import confusion_matrix\n",
        "fig, ax = plt.subplots(figsize=(5,3))\n",
        "sns.heatmap(confusion_matrix(target_train, predictions_train), annot = True, fmt = 'd', cmap=\"YlGnBu\", \n",
        "            xticklabels=['Class 0', 'Class 1', 'Class 2'],\n",
        "            yticklabels=['Class 0', 'Class 1', 'Class 2'])\n",
        "plt.xlabel('Predicted Label')\n",
        "plt.ylabel('True Label')\n",
        "plt.title('Confusion Matrix')"
      ],
      "metadata": {
        "colab": {
          "base_uri": "https://localhost:8080/",
          "height": 350
        },
        "id": "dJVJxui5AJku",
        "outputId": "515944a9-43dc-4466-c15d-b72efe980a54"
      },
      "execution_count": 59,
      "outputs": [
        {
          "output_type": "execute_result",
          "data": {
            "text/plain": [
              "Text(0.5, 1.0, 'Confusion Matrix')"
            ]
          },
          "metadata": {},
          "execution_count": 59
        },
        {
          "output_type": "display_data",
          "data": {
            "text/plain": [
              "<Figure size 500x300 with 2 Axes>"
            ],
            "image/png": "[encoded data removed]"
          },
          "metadata": {}
        }
      ]
    },
    {
      "cell_type": "markdown",
      "source": [
        "## Confusion Matrix for Test"
      ],
      "metadata": {
        "id": "MQVr_NzfcR6T"
      }
    },
    {
      "cell_type": "code",
      "source": [
        "# confusion matrix for test\n",
        "results_lr.groupby(\"cancel\").pivot(\"prediction_lr\").count().show()"
      ],
      "metadata": {
        "id": "5YGYAjGWsGPW",
        "colab": {
          "base_uri": "https://localhost:8080/"
        },
        "outputId": "1d5cb281-998c-4d04-ddcf-72242f386fb0"
      },
      "execution_count": null,
      "outputs": [
        {
          "output_type": "stream",
          "name": "stdout",
          "text": [
            "+------+------+-----+\n",
            "|cancel|   0.0|  2.0|\n",
            "+------+------+-----+\n",
            "|   0.0|211234|33288|\n",
            "|   1.0| 17737| 7035|\n",
            "|   2.0| 42000|33597|\n",
            "+------+------+-----+\n",
            "\n"
          ]
        }
      ]
    },
    {
      "cell_type": "code",
      "source": [
        "from sklearn.metrics import confusion_matrix\n",
        "fig, ax = plt.subplots(figsize=(5,3))\n",
        "sns.heatmap(confusion_matrix(target_test, predictions_test), annot = True, fmt = 'd', cmap=\"YlGnBu\", \n",
        "            xticklabels=['Class 0', 'Class 1', 'Class 2'],\n",
        "            yticklabels=['Class 0', 'Class 1', 'Class 2'])\n",
        "plt.xlabel('Predicted Label')\n",
        "plt.ylabel('True Label')\n",
        "plt.title('Confusion Matrix')"
      ],
      "metadata": {
        "colab": {
          "base_uri": "https://localhost:8080/",
          "height": 350
        },
        "id": "yZQkLSroEgEj",
        "outputId": "429f874b-48fa-4cbd-cd37-79cde34e12e2"
      },
      "execution_count": 60,
      "outputs": [
        {
          "output_type": "execute_result",
          "data": {
            "text/plain": [
              "Text(0.5, 1.0, 'Confusion Matrix')"
            ]
          },
          "metadata": {},
          "execution_count": 60
        },
        {
          "output_type": "display_data",
          "data": {
            "text/plain": [
              "<Figure size 500x300 with 2 Axes>"
            ],
            "image/png": "[encoded data removed]"
          },
          "metadata": {}
        }
      ]
    },
    {
      "cell_type": "markdown",
      "source": [
        "The model does not predict any values for Class 1. This is mainly becuase of the class imbalance as we only have 7% values in the total data that are of Class 1. Even though our model does not predict any class 1 labels, we still have a decent weighted F1 score because of good predictions for Class 0 and 2.\n",
        "\n",
        "Additionally, the values for Accuracy, Precision and F1 for all the class across train and test are almost the same. This shows us that the model fits well on unseen data and does not overfit on the training data."
      ],
      "metadata": {
        "id": "oKPuJRaKGYf5"
      }
    },
    {
      "cell_type": "markdown",
      "source": [
        "# Model Evaluation"
      ],
      "metadata": {
        "id": "lufcHZaRH3Pk"
      }
    },
    {
      "cell_type": "markdown",
      "source": [
        "## Top 5 Features per Class with highest coefficients"
      ],
      "metadata": {
        "id": "a3oObS9WcuUI"
      }
    },
    {
      "cell_type": "code",
      "source": [
        "# Get the logistic regression model from the pipeline\n",
        "lr_model = train_pipeline_model.stages[-1]\n",
        "\n",
        "coefficients = lr_model.coefficientMatrix.toArray()\n",
        "\n",
        "# Create a dictionary to store the top coefficients for each class\n",
        "top_coefficients = {0: [], 1: [], 2: []}\n",
        "\n",
        "# Loop through each feature and its coefficient for each class\n",
        "for i, feature in enumerate(feature_names):\n",
        "    for j in range(3):\n",
        "        coefficient = coefficients[j][i]\n",
        "        top_coefficients[j].append((feature, coefficient))\n",
        "\n",
        "# Sort the coefficients by absolute value and get the top 5 for each class\n",
        "for j in range(3):\n",
        "    top_coefficients[j].sort(key=lambda x: abs(x[1]), reverse=True)\n",
        "    print(f\"Top 5 coefficients for class {j}:\")\n",
        "    for feature, coefficient in top_coefficients[j][:5]:\n",
        "        print(f\"\\t{feature}: {coefficient:.3f}\")"
      ],
      "metadata": {
        "colab": {
          "base_uri": "https://localhost:8080/"
        },
        "id": "5URrmM_uJlTH",
        "outputId": "b393ad1e-6ad8-44de-bdbb-649b8f75671a"
      },
      "execution_count": null,
      "outputs": [
        {
          "output_type": "stream",
          "name": "stdout",
          "text": [
            "Top 5 coefficients for class 0:\n",
            "\tlen_at_res_i: 0.862\n",
            "\tstate_VA: -0.677\n",
            "\ttenure_i: -0.621\n",
            "\tcredit_low: -0.542\n",
            "\tage_bucket_label_60+: 0.514\n",
            "Top 5 coefficients for class 1:\n",
            "\tlen_at_res_i: -0.620\n",
            "\ttenure_i: 0.409\n",
            "\tage_bucket_label_60+: -0.371\n",
            "\tpremium_i: -0.280\n",
            "\tstate_PA: -0.279\n",
            "Top 5 coefficients for class 2:\n",
            "\tstate_VA: 0.527\n",
            "\tcredit_low: 0.356\n",
            "\tlen_at_res_i: -0.242\n",
            "\ttenure_i: 0.213\n",
            "\tcredit_high: -0.169\n"
          ]
        }
      ]
    },
    {
      "cell_type": "markdown",
      "source": [
        "## Top 10 Feature Coefficients (Absolute Value)"
      ],
      "metadata": {
        "id": "uWO84zkxcxvY"
      }
    },
    {
      "cell_type": "code",
      "source": [
        "# Get the feature names from the assembler\n",
        "#feature_names = preml_assembler.getInputCols()\n",
        "\n",
        "# Get the top 10 coefficients across all classes\n",
        "num_classes = len(lr_model.coefficientMatrix.toArray())\n",
        "top_k = 10\n",
        "coefficients = lr_model.coefficientMatrix.toArray().flatten()\n",
        "top_k_idx = abs(coefficients).argsort()[-top_k:][::-1]\n",
        "top_k_values = coefficients[top_k_idx]\n",
        "print(\"Top {} coefficients across all classes:\".format(top_k))\n",
        "for idx, (value, feature_idx) in enumerate(zip(top_k_values, top_k_idx)):\n",
        "    feature_name = feature_names[feature_idx % len(feature_names)]\n",
        "    class_idx = feature_idx // len(feature_names)\n",
        "    print(\"\\t{}. Class {}: {}: {:.3f}\".format(idx+1, class_idx, feature_name,value))"
      ],
      "metadata": {
        "colab": {
          "base_uri": "https://localhost:8080/"
        },
        "id": "GZWa1deRK8Ws",
        "outputId": "ee2b5b75-8461-448c-c42d-d4af2eb2f2de"
      },
      "execution_count": null,
      "outputs": [
        {
          "output_type": "stream",
          "name": "stdout",
          "text": [
            "Top 10 coefficients across all classes:\n",
            "\t1. Class 0: len_at_res_i: 0.862\n",
            "\t2. Class 0: state_VA: -0.677\n",
            "\t3. Class 0: tenure_i: -0.621\n",
            "\t4. Class 1: len_at_res_i: -0.620\n",
            "\t5. Class 0: credit_low: -0.542\n",
            "\t6. Class 2: state_VA: 0.527\n",
            "\t7. Class 0: age_bucket_label_60+: 0.514\n",
            "\t8. Class 0: credit_high: 0.440\n",
            "\t9. Class 0: premium_i: 0.419\n",
            "\t10. Class 1: tenure_i: 0.409\n"
          ]
        }
      ]
    },
    {
      "cell_type": "markdown",
      "source": [
        "## Feature Importance Plot"
      ],
      "metadata": {
        "id": "5ttIu0Doc_Bo"
      }
    },
    {
      "cell_type": "code",
      "source": [
        "# Get the coefficients and intercepts for all the classes\n",
        "coefs = lr_model.coefficientMatrix.toArray()\n",
        "intercepts = lr_model.interceptVector.toArray()\n",
        "\n",
        "# Compute the feature importances for each class\n",
        "importances = np.abs(coefs).sum(axis=0)\n",
        "\n",
        "# Create a pandas series to plot the feature importances\n",
        "features_importance = pd.Series(index=feature_names, data=importances)\n",
        "features_importance.sort_values().tail(10).plot(kind='barh', figsize=(8, 6))\n",
        "plt.xlabel('Importance')\n",
        "plt.ylabel('Feature')\n",
        "plt.title('Top 10 Features')\n",
        "plt.show()"
      ],
      "metadata": {
        "colab": {
          "base_uri": "https://localhost:8080/",
          "height": 564
        },
        "id": "JbZhmmtEXKtU",
        "outputId": "1b1ca241-1029-4176-e7b0-e46af5c1050f"
      },
      "execution_count": null,
      "outputs": [
        {
          "output_type": "display_data",
          "data": {
            "text/plain": [
              "<Figure size 800x600 with 1 Axes>"
            ],
            "image/png": "[encoded data removed]"
          },
          "metadata": {}
        }
      ]
    },
    {
      "cell_type": "markdown",
      "source": [
        "# Interpretability and Discussion"
      ],
      "metadata": {
        "id": "Bsq8ZGvLf5hW"
      }
    },
    {
      "cell_type": "markdown",
      "source": [
        "Class 2 - Cancel"
      ],
      "metadata": {
        "id": "x82Txd78_C7z"
      }
    },
    {
      "cell_type": "markdown",
      "source": [
        "![image.png](data:image/png;base64,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)"
      ],
      "metadata": {
        "id": "tcIUnx_qf6x2"
      }
    },
    {
      "cell_type": "markdown",
      "source": [
        "Class 0 - Not Cancel"
      ],
      "metadata": {
        "id": "XAGped6A_D9X"
      }
    },
    {
      "cell_type": "markdown",
      "source": [
        "![image.png](data:image/png;base64,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)"
      ],
      "metadata": {
        "id": "-9i00Srl_EwT"
      }
    },
    {
      "cell_type": "markdown",
      "source": [
        "\n",
        "\n",
        "---\n",
        "\n",
        "\n",
        "\n",
        "Based on the results of our multiclass predictive model, we have identified the variables that are most influential in causing a policy cancellation. The top 5 features for policies that are most likely to be canceled are state_VA, credit_low, len_at_res_i, tenure_i, and credit_high. \n",
        "\n",
        "\n",
        "\n",
        "---\n",
        "\n",
        "\n",
        "\n",
        "For policies that are canceled, the following variables have a **positive impact on the likelihood of cancellation**:\n",
        "\n",
        "**1. state_VA:** This variable represents the state of Virginia. A \n",
        "positive coefficient of 0.527 suggests that policies located in Virginia are more likely to be canceled compared to policies located in other states. This could be due to factors such as higher risk of natural disasters or higher rates of insurance fraud in Virginia.\n",
        "\n",
        "**2. credit_low:** This variable represents a low credit score. A positive coefficient of 0.356 suggests that policies held by individuals with low credit scores are more likely to be canceled compared to policies held by individuals with higher credit scores. This could be due to the fact that individuals with low credit scores may have a higher likelihood of not paying their premiums on time or submitting fraudulent claims.\n",
        "\n",
        "**3. tenure_i:** This variable represents the length of time the policy has been in effect. A positive coefficient of 0.213 suggests that policies that have been in effect for longer periods of time are more likely to be canceled compared to policies that have been in effect for shorter periods of time. This could be due to factors such as changes in the risk profile of the policy or changes in the policyholder's circumstances over time.\n",
        "\n",
        "\n",
        "\n",
        "---\n",
        "\n",
        "\n",
        "On the other hand, the following variables have a **negative impact on the likelihood of cancellation**:\n",
        "\n",
        "**1. len_at_res_i:** This variable represents the length of time the policyholder has been at their current residence. A negative coefficient of -0.242 suggests that policies held by individuals who have been at their current residence for longer periods of time are less likely to be canceled compared to policies held by individuals who have been at their current residence for shorter periods of time. This could be due to the fact that individuals who have been at their current residence for longer periods of time may be seen as more stable and less likely to submit fraudulent claims.\n",
        "\n",
        "**2. credit_high:** This variable represents a high credit score. A negative coefficient of -0.169 suggests that policies held by individuals with high credit scores are less likely to be canceled compared to policies held by individuals with lower credit scores. This could be due to the fact that individuals with higher credit scores may be seen as more financially stable and less likely to submit fraudulent claims.\n",
        "\n",
        "\n",
        "\n",
        "---\n",
        "\n",
        "\n",
        "Thus, policies located in Virginia, held by individuals with low credit scores, and policies that have been in effect for longer periods of time are more likely to be canceled. On the other hand, policies held by individuals who have been at their current residence for longer periods of time and policies held by individuals with higher credit scores are less likely to be canceled. \n",
        "\n",
        "\n",
        "\n",
        "---\n",
        "\n",
        "\n",
        "\n",
        "On the other hand, for policies that are most likely to be renewed, the top 5 features are len_at_res_i, state_VA, tenure_i, credit_low, and age_bucket_label_60+. Among these, the most significant variable is len_at_res_i with a coefficient of 0.862. This suggests that policies with longer residential tenures are more likely to be renewed.\n",
        "\n",
        "\n",
        "\n",
        "---\n",
        "\n",
        "\n"
      ],
      "metadata": {
        "id": "GSXJaP37irOi"
      }
    },
    {
      "cell_type": "markdown",
      "source": [
        "## Recommendations:"
      ],
      "metadata": {
        "id": "dMdQj2tgmgZV"
      }
    },
    {
      "cell_type": "markdown",
      "source": [
        "1. Assess the impact of state-specific regulations and laws on policy cancellation rates: The coefficient of the \"state_VA\" variable was found to be the most influential variable towards policy cancellation. It may be worthwhile for firms to investigate state-specific regulations and laws that may be contributing to higher policy cancellation rates in certain states and develop tailored strategies to mitigate these risks.\n",
        "\n",
        "2. Offer incentives for longer policy tenure: The \"tenure_i\" variable had a positive impact on policy cancellation, indicating that shorter tenure was associated with lower cancellation rates. To address this, firms may consider offering incentives to customers who stay with the company for a longer period of time, such as discounts or loyalty rewards.\n",
        "\n",
        "3. Focus on creditworthiness assessment: Both \"credit_low\" and \"credit_high\" had a significant impact on policy cancellation rates. This suggests that assessing the creditworthiness of customers may be an important factor in predicting the likelihood of policy cancellation. Firms may consider developing more robust credit assessment processes and tools to help mitigate the risk of cancellation for customers with lower credit scores.\n",
        "\n",
        "4. Take into account length of residence: The variable \"len_at_res_i\" had a negative impact on policy cancellation rates, suggesting that customers who had lived at the same residence for a longer period of time were less likely to cancel their policies. Firms may consider taking into account the length of residence when assessing the risk of policy cancellation and develop tailored strategies for customers with shorter residence times.\n",
        "\n",
        "5. Consider the impact of age on policy cancellation rates: The variable \"age_bucket_label_60+\" had a positive impact on policy retention rates. While this variable was not found to be as influential as the other variables, firms may still consider the impact of age on policy cancellation rates and develop strategies to mitigate risks associated with older customers."
      ],
      "metadata": {
        "id": "ewYVAr9EmlsZ"
      }
    },
    {
      "cell_type": "markdown",
      "source": [
        "# Conclusion"
      ],
      "metadata": {
        "id": "0TbTIGMRgDV_"
      }
    },
    {
      "cell_type": "markdown",
      "source": [
        "\n",
        "1. In this project, we learned how to preprocess and transform data in PySpark using UDFs, pipelines, and feature engineering techniques. We also learned how to handle imbalanced datasets by training models with different weights and using cross-validation to find optimal weights.\n",
        "\n",
        "2. We explored the relationship between different features and the target variable using correlation matrices, count plots, bar plots, and tabular representations of various combinations of numeric and categorical data.\n",
        "\n",
        "3. We trained and evaluated several models, including logistic regression, decision trees, random forests, and ensembling methods such as stacking and perceptron combinations. We used metrics such as classification reports, confusion matrix, and weighted F1 score to evaluate the performance of these models.\n",
        "\n",
        "4. We found that logistic regression performed best for this business problem, with a weighted F1 score of 0.6795. This model can be used to predict policies that are most likely to be canceled or renewed, and to understand the variables that are most influential in causing a policy cancellation.\n",
        "\n",
        "5. Through this project, we gained hands-on experience with PySpark and its powerful data processing and modeling capabilities, as well as the importance of data preprocessing and feature engineering in building effective predictive models. We also learned about the challenges of handling imbalanced datasets and how to overcome them using various techniques\n",
        "\n"
      ],
      "metadata": {
        "id": "uAA43ZvOgIzT"
      }
    }
  ],
  "metadata": {
    "colab": {
      "provenance": [],
      "toc_visible": true
    },
    "gpuClass": "standard",
    "kernelspec": {
      "display_name": "Python 3",
      "name": "python3"
    },
    "language_info": {
      "name": "python"
    },
    "accelerator": "GPU"
  },
  "nbformat": 4,
  "nbformat_minor": 0
}